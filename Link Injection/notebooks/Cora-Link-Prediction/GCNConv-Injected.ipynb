{
 "cells": [
  {
   "cell_type": "code",
   "execution_count": 1,
   "metadata": {},
   "outputs": [
    {
     "name": "stdout",
     "output_type": "stream",
     "text": [
      "Using matplotlib backend: agg\n"
     ]
    }
   ],
   "source": [
    "%matplotlib\n",
    "import torch\n",
    "import torch.nn.functional as F\n",
    "\n",
    "import torch_geometric\n",
    "from torch_geometric.datasets import Planetoid\n",
    "from torch_geometric.utils import to_dense_adj, add_self_loops\n",
    "from sklearn.model_selection import train_test_split\n",
    "\n",
    "import matplotlib.pyplot as plt\n",
    "import numpy as np\n",
    "import pandas as pd\n",
    "import seaborn as sns\n",
    "import networkx as nx\n",
    "\n",
    "import os\n",
    "os.chdir(\"../\")\n",
    "\n",
    "import sys\n",
    "sys.path.append('../scripts')\n",
    "\n",
    "# loading scripts from here\n",
    "from eval_link_prediction import accuracy, precision, recall\n",
    "from link_prediction import negative_sampling, balanced_samples\n",
    "\n",
    "\"\"\"\n",
    "This is an implementation from:\n",
    "https://github.com/tkipf/pygcn/blob/master/pygcn/layers.py\n",
    "\n",
    "Author: Thomas kipf\n",
    "Paper: \n",
    "Semi-Supervised Classification with Graph Convolutional Networks\n",
    "https://arxiv.org/abs/1609.02907\n",
    "\"\"\"\n",
    "\n",
    "from GCNConv import GraphConvolution"
   ]
  },
  {
   "cell_type": "markdown",
   "metadata": {},
   "source": [
    "## GraphSAGE"
   ]
  },
  {
   "cell_type": "code",
   "execution_count": 2,
   "metadata": {},
   "outputs": [],
   "source": [
    "\"\"\"\n",
    "This is an implementation from:\n",
    "https://github.com/tkipf/pygcn/blob/master/pygcn/models.py\n",
    "\n",
    "Model and training settings are from:\n",
    "https://github.com/tkipf/pygcn/blob/master/pygcn/train.py\n",
    "which is the same as reported from the paper.\n",
    "\n",
    "Author: Thomas kipf\n",
    "\"\"\"\n",
    "class Net(torch.nn.Module):\n",
    "    def __init__(self, in_channel, out_channel, data):\n",
    "        super(Net, self).__init__()\n",
    "\n",
    "        self.gc1 = GraphConvolution(in_channel, 16)\n",
    "        self.gc2 = GraphConvolution(16, out_channel)\n",
    "        \n",
    "        # predict exists or not\n",
    "        self.layers = torch.nn.Sequential(\n",
    "            torch.nn.Linear(2 * out_channel, 50),\n",
    "            torch.nn.ELU(),\n",
    "            torch.nn.Linear(50, 1),\n",
    "            torch.nn.Sigmoid()\n",
    "        )\n",
    "        \n",
    "        # link injection intialized\n",
    "        injection = torch.ones_like(data.adj) * 0.01\n",
    "        injection = torch.abs(injection)\n",
    "        self.injection = torch.nn.Parameter(\n",
    "            injection, \n",
    "            requires_grad=True\n",
    "        )\n",
    "        \n",
    "    def forward(self, data, query_index):\n",
    "        x, adj = data.x, data.adj\n",
    "        \n",
    "        # link injection\n",
    "        injection = F.relu(self.injection)\n",
    "        adj = adj + injection\n",
    "        adj = torch.clamp(adj, 0, 1)\n",
    "        \n",
    "        # generate node embeddings \n",
    "        emb = F.relu(self.gc1(x, adj))\n",
    "        emb = F.dropout(emb, p=0.5, training=self.training)\n",
    "        emb = self.gc2(emb, adj)\n",
    "        \n",
    "        # get queried embeddings\n",
    "        emb_query = torch.cat((emb[query_index[0]], emb[query_index[1]]), dim=1)\n",
    "        \n",
    "        # using embeddings to get score out\n",
    "        score = self.layers(emb_query)\n",
    "        return score\n",
    "    \n",
    "    def get_weight(self, data, query_index):\n",
    "        adj = data.adj.detach()\n",
    "        \n",
    "        # link injection\n",
    "        injection = F.relu(self.injection.detach())\n",
    "        adj = adj + injection\n",
    "        adj = torch.clamp(adj, 0, 1)\n",
    "        \n",
    "        # weight\n",
    "        weights = adj[query_index[0], query_index[1]].view(-1, 1)\n",
    "        return weights"
   ]
  },
  {
   "cell_type": "markdown",
   "metadata": {},
   "source": [
    "## Split Dataset"
   ]
  },
  {
   "cell_type": "code",
   "execution_count": 3,
   "metadata": {},
   "outputs": [
    {
     "name": "stdout",
     "output_type": "stream",
     "text": [
      "Number of nodes = 2708\n",
      "Number of edges = 10556\n",
      "Training edges = 8444\n",
      "Validation edges = 1056\n",
      "Test edges = 1056\n"
     ]
    }
   ],
   "source": [
    "# set device\n",
    "device = torch.device('cuda:1' if torch.cuda.is_available() else 'cpu')\n",
    "\n",
    "# load data\n",
    "name = 'Cora'\n",
    "dataset = Planetoid('../datasets/'+ name, name=name)\n",
    "data = dataset.data\n",
    "\n",
    "# random sampling edges\n",
    "train_frac = 0.8\n",
    "val_frac = 0.1\n",
    "test_frac = 0.1\n",
    "\n",
    "# split edges\n",
    "edges = data.edge_index.detach().cpu().numpy().T\n",
    "edge_train, edge_test = train_test_split(edges, train_size=train_frac, random_state=42)\n",
    "edge_val, edge_test = train_test_split(\n",
    "    edge_test, \n",
    "    train_size=val_frac/(test_frac + val_frac), \n",
    "    random_state=42\n",
    ")\n",
    "\n",
    "# create train, validation, test positive edges\n",
    "data.edge_train = torch.Tensor(edge_train).long().t()\n",
    "data.edge_val = torch.Tensor(edge_val).long().t()\n",
    "data.edge_test = torch.Tensor(edge_test).long().t()\n",
    "data.y_train = torch.ones(len(edge_train), 1).long().t()\n",
    "data.y_val = torch.ones(len(edge_val), 1).long().t()\n",
    "data.y_test = torch.ones(len(edge_test), 1).long().t()\n",
    "\n",
    "# create adjacency matrix\n",
    "data.adj = to_dense_adj(add_self_loops(data.edge_train)[0])[0]\n",
    "\n",
    "# to device (GPU default)\n",
    "data = dataset.data.to(device)\n",
    "\n",
    "# record the \n",
    "num_nodes = data.x.shape[0]\n",
    "num_edges = data.edge_index.shape[1]\n",
    "num_train = len(data.edge_train.t())\n",
    "num_val = len(data.edge_val.t())\n",
    "num_test = len(data.edge_test.t())\n",
    "\n",
    "print('Number of nodes =', num_nodes)\n",
    "print('Number of edges =', num_edges)\n",
    "print('Training edges =', num_train)\n",
    "print('Validation edges =', num_val)\n",
    "print('Test edges =', num_test)"
   ]
  },
  {
   "cell_type": "markdown",
   "metadata": {},
   "source": [
    "## Compile Model"
   ]
  },
  {
   "cell_type": "code",
   "execution_count": 4,
   "metadata": {},
   "outputs": [],
   "source": [
    "from tqdm import tqdm\n",
    "\n",
    "NUMEPOCHS = 30000\n",
    "early_stop_win_size = 100\n",
    "tolerance = 1.00\n",
    "\n",
    "# compile model\n",
    "in_dim = data.x.shape[1]\n",
    "\n",
    "model = Net(\n",
    "    in_dim,\n",
    "    50,\n",
    "    data\n",
    ").to(device)\n",
    "\n",
    "optimizer = torch.optim.Adamax(model.parameters(), weight_decay=1e-4)\n",
    "\n",
    "criterion = torch.nn.modules.loss.BCELoss()"
   ]
  },
  {
   "cell_type": "markdown",
   "metadata": {},
   "source": [
    "# Training"
   ]
  },
  {
   "cell_type": "code",
   "execution_count": 5,
   "metadata": {},
   "outputs": [],
   "source": [
    "# get the initial injection\n",
    "injection_init = F.relu(model.injection.detach() - data.adj.detach())\n",
    "injection_init = injection_init.cpu().numpy()"
   ]
  },
  {
   "cell_type": "code",
   "execution_count": 6,
   "metadata": {},
   "outputs": [
    {
     "name": "stdout",
     "output_type": "stream",
     "text": [
      "0 , train loss = 4.304260730743408 , val loss = 4.666313171386719\n",
      "500 , train loss = 0.25930139422416687 , val loss = 0.38837501406669617\n",
      "1000 , train loss = 0.18931929767131805 , val loss = 0.3398035764694214\n",
      "1500 , train loss = 0.1234329342842102 , val loss = 0.2913265824317932\n",
      "2000 , train loss = 0.10543285310268402 , val loss = 0.28292760252952576\n",
      "2500 , train loss = 0.1017109602689743 , val loss = 0.28825491666793823\n",
      "3000 , train loss = 0.0909539982676506 , val loss = 0.2942579984664917\n",
      "3500 , train loss = 0.09120620042085648 , val loss = 0.3055099546909332\n",
      "4000 , train loss = 0.08463405072689056 , val loss = 0.3255297839641571\n",
      "4500 , train loss = 0.0819641724228859 , val loss = 0.3165784180164337\n",
      "5000 , train loss = 0.07371539622545242 , val loss = 0.3557782769203186\n",
      "5500 , train loss = 0.0783485397696495 , val loss = 0.3280532658100128\n",
      "6000 , train loss = 0.06664935499429703 , val loss = 0.3554617762565613\n",
      "6500 , train loss = 0.06884191185235977 , val loss = 0.3802222013473511\n",
      "7000 , train loss = 0.06424441933631897 , val loss = 0.3759506046772003\n",
      "7500 , train loss = 0.06237277016043663 , val loss = 0.37736260890960693\n",
      "8000 , train loss = 0.057929590344429016 , val loss = 0.3535003662109375\n",
      "8500 , train loss = 0.05262494087219238 , val loss = 0.3285960257053375\n",
      "9000 , train loss = 0.050828658044338226 , val loss = 0.33990558981895447\n",
      "9500 , train loss = 0.051408328115940094 , val loss = 0.3552365303039551\n",
      "10000 , train loss = 0.045808449387550354 , val loss = 0.3582835793495178\n",
      "10500 , train loss = 0.04900584742426872 , val loss = 0.3421669006347656\n",
      "11000 , train loss = 0.043455448001623154 , val loss = 0.37750244140625\n",
      "11500 , train loss = 0.04063831642270088 , val loss = 0.37517049908638\n",
      "12000 , train loss = 0.04092516750097275 , val loss = 0.3523106575012207\n",
      "12500 , train loss = 0.03548404201865196 , val loss = 0.35566532611846924\n",
      "13000 , train loss = 0.034461088478565216 , val loss = 0.3988915979862213\n",
      "13500 , train loss = 0.03492455556988716 , val loss = 0.3786124587059021\n",
      "14000 , train loss = 0.03956025093793869 , val loss = 0.3714025020599365\n",
      "14500 , train loss = 0.04203008860349655 , val loss = 0.3698904514312744\n",
      "15000 , train loss = 0.03859055042266846 , val loss = 0.3965393006801605\n",
      "15500 , train loss = 0.03656699135899544 , val loss = 0.38447871804237366\n",
      "16000 , train loss = 0.03691118210554123 , val loss = 0.38028499484062195\n",
      "16500 , train loss = 0.03332817927002907 , val loss = 0.3731698989868164\n",
      "17000 , train loss = 0.030789660289883614 , val loss = 0.40806353092193604\n",
      "17500 , train loss = 0.03663388267159462 , val loss = 0.4084535837173462\n",
      "18000 , train loss = 0.033495496958494186 , val loss = 0.384077250957489\n",
      "18500 , train loss = 0.03455111384391785 , val loss = 0.41343173384666443\n",
      "19000 , train loss = 0.03696661815047264 , val loss = 0.44120490550994873\n",
      "19500 , train loss = 0.031837329268455505 , val loss = 0.41095468401908875\n",
      "20000 , train loss = 0.03130387142300606 , val loss = 0.37573304772377014\n",
      "20500 , train loss = 0.031715210527181625 , val loss = 0.42504629492759705\n",
      "21000 , train loss = 0.029921306297183037 , val loss = 0.4417753517627716\n",
      "21500 , train loss = 0.03146607056260109 , val loss = 0.410601943731308\n",
      "22000 , train loss = 0.0316479429602623 , val loss = 0.40671229362487793\n",
      "22500 , train loss = 0.03594028204679489 , val loss = 0.42052793502807617\n",
      "23000 , train loss = 0.030136767774820328 , val loss = 0.4321973919868469\n",
      "23500 , train loss = 0.030161846429109573 , val loss = 0.4568032920360565\n",
      "24000 , train loss = 0.027316976338624954 , val loss = 0.44454285502433777\n",
      "24500 , train loss = 0.03271758556365967 , val loss = 0.44178134202957153\n",
      "25000 , train loss = 0.02421950362622738 , val loss = 0.418725848197937\n",
      "25500 , train loss = 0.032417088747024536 , val loss = 0.44437992572784424\n",
      "26000 , train loss = 0.029054535552859306 , val loss = 0.4409322142601013\n",
      "26500 , train loss = 0.031571026891469955 , val loss = 0.4615846872329712\n",
      "27000 , train loss = 0.030695229768753052 , val loss = 0.4420517385005951\n",
      "27500 , train loss = 0.03123915009200573 , val loss = 0.43255308270454407\n",
      "28000 , train loss = 0.029965715482831 , val loss = 0.46165594458580017\n",
      "28500 , train loss = 0.025276392698287964 , val loss = 0.4187786281108856\n",
      "29000 , train loss = 0.027849169448018074 , val loss = 0.43028151988983154\n",
      "29500 , train loss = 0.03820163384079933 , val loss = 0.40055325627326965\n"
     ]
    }
   ],
   "source": [
    "# record accuracy\n",
    "train_loss = np.zeros(NUMEPOCHS)\n",
    "val_loss = np.zeros(NUMEPOCHS)\n",
    "test_loss = np.zeros(NUMEPOCHS)\n",
    "\n",
    "# tracking injection\n",
    "injection_sum = np.zeros(NUMEPOCHS)\n",
    "\n",
    "# negative sampling\n",
    "edge_test, y_test = balanced_samples(data.edge_test, num_nodes)\n",
    "y_test_injected = model.get_weight(data, edge_test)\n",
    "\n",
    "# training start\n",
    "for epoch in range(NUMEPOCHS):\n",
    "    # negative sampling\n",
    "    edge_train, y_train = balanced_samples(data.edge_train, num_nodes)\n",
    "    edge_val, y_val = balanced_samples(data.edge_val, num_nodes)\n",
    "    \n",
    "    # consistent with prediction\n",
    "    y_train = model.get_weight(data, edge_train)\n",
    "    \n",
    "    model.train()\n",
    "    optimizer.zero_grad()\n",
    "    out = model(data, edge_train)\n",
    "    loss = criterion(out, y_train.float())\n",
    "    loss.backward()\n",
    "    optimizer.step()\n",
    "    \n",
    "    # record the loss\n",
    "    train_loss[epoch] = loss.item()\n",
    "    model.eval()\n",
    "    val_loss[epoch] = criterion(model(data, edge_val), y_val.float()).item()\n",
    "    test_loss[epoch] = criterion(model(data, edge_test), y_test.float()).item()\n",
    "    \n",
    "    # get the injection\n",
    "    injection = F.relu(model.injection.detach()).cpu().numpy()\n",
    "    injection_sum[epoch] = np.sum(injection)\n",
    "    \n",
    "    if epoch % 500 == 0:\n",
    "        print(\n",
    "            epoch, \n",
    "            ', train loss =', loss.item(),\n",
    "            ', val loss =', val_loss[epoch], \n",
    "        )"
   ]
  },
  {
   "cell_type": "code",
   "execution_count": 7,
   "metadata": {},
   "outputs": [],
   "source": [
    "# get the initial injection\n",
    "injection_final = F.relu(model.injection.detach() - data.adj.detach())\n",
    "injection_final = injection_final.cpu().numpy()"
   ]
  },
  {
   "cell_type": "code",
   "execution_count": 8,
   "metadata": {},
   "outputs": [
    {
     "name": "stdout",
     "output_type": "stream",
     "text": [
      "Initial injection = \n",
      " [[0.   0.01 0.01 ... 0.01 0.01 0.01]\n",
      " [0.01 0.   0.01 ... 0.01 0.01 0.01]\n",
      " [0.01 0.   0.   ... 0.01 0.01 0.01]\n",
      " ...\n",
      " [0.01 0.01 0.01 ... 0.   0.01 0.01]\n",
      " [0.01 0.01 0.01 ... 0.01 0.   0.  ]\n",
      " [0.01 0.01 0.01 ... 0.01 0.   0.  ]]\n",
      "\n",
      "Sum inital = 73221\n",
      "\n",
      "Final injection = \n",
      " [[0.0000000e+00 0.0000000e+00 0.0000000e+00 ... 1.0497995e-02\n",
      "  0.0000000e+00 2.7422155e-03]\n",
      " [1.2213739e-02 0.0000000e+00 0.0000000e+00 ... 3.6892153e-03\n",
      "  3.9461162e-03 0.0000000e+00]\n",
      " [0.0000000e+00 0.0000000e+00 0.0000000e+00 ... 0.0000000e+00\n",
      "  0.0000000e+00 0.0000000e+00]\n",
      " ...\n",
      " [0.0000000e+00 0.0000000e+00 7.0105954e-03 ... 0.0000000e+00\n",
      "  2.5698130e-03 0.0000000e+00]\n",
      " [3.5420589e-03 4.7630212e-05 5.8662478e-04 ... 0.0000000e+00\n",
      "  0.0000000e+00 0.0000000e+00]\n",
      " [0.0000000e+00 1.7188861e-06 0.0000000e+00 ... 0.0000000e+00\n",
      "  0.0000000e+00 0.0000000e+00]]\n",
      "\n",
      "Sum final = 12803\n",
      "\n"
     ]
    }
   ],
   "source": [
    "print('Initial injection = \\n', injection_init)\n",
    "print('\\nSum inital = %d\\n' % np.sum(injection_init))\n",
    "print('Final injection = \\n', injection_final)\n",
    "print('\\nSum final = %d\\n' % np.sum(injection_final))"
   ]
  },
  {
   "cell_type": "code",
   "execution_count": 26,
   "metadata": {},
   "outputs": [],
   "source": [
    "np.save('../variables/injection_sum_gcn', injection_sum)\n",
    "np.save('../variables/injection_final_gcn', injection_final)\n",
    "np.save('../variables/injection_init_gcn', injection_init)"
   ]
  },
  {
   "cell_type": "code",
   "execution_count": 9,
   "metadata": {},
   "outputs": [
    {
     "data": {
      "image/png": "[encoded data removed]",
      "text/plain": [
       "<Figure size 432x288 with 1 Axes>"
      ]
     },
     "metadata": {
      "needs_background": "light"
     },
     "output_type": "display_data"
    }
   ],
   "source": [
    "df_acc = pd.DataFrame({\n",
    "    'train': train_loss,\n",
    "    'validation': val_loss,\n",
    "    'test': test_loss\n",
    "})\n",
    "\n",
    "sns.lineplot(data=df_acc)\n",
    "plt.show()"
   ]
  },
  {
   "cell_type": "code",
   "execution_count": 10,
   "metadata": {},
   "outputs": [
    {
     "name": "stdout",
     "output_type": "stream",
     "text": [
      "Train Accuracy: 0.9963\n",
      "Validation Accuracy: 0.9394\n",
      "Test Accuracy: 0.9356\n",
      "Train Precision: 0.9927\n",
      "Validation Precision: 0.9926\n",
      "Test Precision: 0.9925\n",
      "Train Recall: 1.0000\n",
      "Validation Recall: 0.8854\n",
      "Test Recall: 0.8778\n"
     ]
    }
   ],
   "source": [
    "edge_train, y_train = balanced_samples(data.edge_train, num_nodes)\n",
    "edge_val, y_val = balanced_samples(data.edge_val, num_nodes)\n",
    "edge_test, y_test = balanced_samples(data.edge_test, num_nodes)\n",
    "\n",
    "train_score = model(data, edge_train).detach().cpu().numpy().ravel()\n",
    "val_score = model(data, edge_val).detach().cpu().numpy().ravel()\n",
    "test_score = model(data, edge_test).detach().cpu().numpy().ravel()\n",
    "\n",
    "train_pred = (train_score > 0.5).astype(np.int8)\n",
    "val_pred = (val_score > 0.5).astype(np.int8)\n",
    "test_pred = (test_score > 0.5).astype(np.int8)\n",
    "\n",
    "print('Train Accuracy: {:.4f}'.format(accuracy(train_pred, y_train)))\n",
    "print('Validation Accuracy: {:.4f}'.format(accuracy(val_pred, y_val)))\n",
    "print('Test Accuracy: {:.4f}'.format(accuracy(test_pred, y_test)))\n",
    "\n",
    "print('Train Precision: {:.4f}'.format(precision(train_pred, y_train)))\n",
    "print('Validation Precision: {:.4f}'.format(precision(val_pred, y_val)))\n",
    "print('Test Precision: {:.4f}'.format(precision(test_pred, y_test)))\n",
    "\n",
    "print('Train Recall: {:.4f}'.format(recall(train_pred, y_train)))\n",
    "print('Validation Recall: {:.4f}'.format(recall(val_pred, y_val)))\n",
    "print('Test Recall: {:.4f}'.format(recall(test_pred, y_test)))"
   ]
  },
  {
   "cell_type": "code",
   "execution_count": 11,
   "metadata": {},
   "outputs": [
    {
     "name": "stdout",
     "output_type": "stream",
     "text": [
      "0.9398799999999999\n",
      "0.9833999999999999\n",
      "0.8948600000000001\n",
      "0.0025972292929196845\n",
      "0.006154997969130452\n",
      "0.8948600000000001\n"
     ]
    }
   ],
   "source": [
    "test_acc_all = np.array([0.9347, 0.9413, 0.9413, 0.9413, 0.9408])\n",
    "test_precision_all = np.array([0.9713, 0.9854, 0.9854, 0.9864, 0.9885])\n",
    "test_recall_all = np.array([0.8958, 0.8958, 0.8958, 0.8949, 0.8920])\n",
    "\n",
    "print(np.mean(test_acc_all))\n",
    "print(np.mean(test_precision_all))\n",
    "print(np.mean(test_recall_all))\n",
    "\n",
    "print(np.std(test_acc_all))\n",
    "print(np.std(test_precision_all))\n",
    "print(np.mean(test_recall_all))"
   ]
  },
  {
   "cell_type": "code",
   "execution_count": 12,
   "metadata": {},
   "outputs": [
    {
     "name": "stdout",
     "output_type": "stream",
     "text": [
      "$93.99\\pm0.26$ $98.34\\pm0.62$ $89.49\\pm0.15$ "
     ]
    }
   ],
   "source": [
    "# for latex table\n",
    "print('$%.2f\\pm%.2f$' % (np.mean(test_acc_all) * 100, np.std(test_acc_all) * 100), end=' ')\n",
    "print('$%.2f\\pm%.2f$' % (np.mean(test_precision_all) * 100, np.std(test_precision_all) * 100), end=' ')\n",
    "print('$%.2f\\pm%.2f$' % (np.mean(test_recall_all) * 100, np.std(test_recall_all) * 100), end=' ')"
   ]
  },
  {
   "cell_type": "code",
   "execution_count": 13,
   "metadata": {},
   "outputs": [
    {
     "name": "stdout",
     "output_type": "stream",
     "text": [
      "[[2622  537]\n",
      " [ 213  537]\n",
      " [2622  145]\n",
      " ...\n",
      " [1157 1647]\n",
      " [ 163 2643]\n",
      " [ 350 2420]]\n",
      "[0.23040664 0.2124002  0.20239711 ... 0.03865364 0.03865256 0.03865156]\n",
      "(10556, 2)\n",
      "(10556,)\n"
     ]
    },
    {
     "data": {
      "image/png": "[encoded data removed]",
      "text/plain": [
       "<Figure size 432x288 with 1 Axes>"
      ]
     },
     "metadata": {
      "needs_background": "light"
     },
     "output_type": "display_data"
    }
   ],
   "source": [
    "# get non-zero injected links\n",
    "indexes = injection_final.nonzero()\n",
    "index_arr = np.stack(indexes)\n",
    "values = injection_final[indexes]\n",
    "\n",
    "# sort injected links\n",
    "sorted_idx = np.flip(np.argsort(values))\n",
    "\n",
    "sorted_index = index_arr[:, sorted_idx]\n",
    "sorted_values = values[sorted_idx]\n",
    "\n",
    "# get the largest N out\n",
    "num_edges = data.edge_index.size(1)\n",
    "pred_index = sorted_index[:, :num_edges].T\n",
    "pred_values = sorted_values[:num_edges]\n",
    "print(pred_index)\n",
    "print(pred_values)\n",
    "print(pred_index.shape)\n",
    "print(pred_values.shape)\n",
    "\n",
    "sns.distplot(pred_values, hist=False)\n",
    "plt.show()"
   ]
  },
  {
   "cell_type": "code",
   "execution_count": 14,
   "metadata": {},
   "outputs": [],
   "source": [
    "if False:\n",
    "    np.save('../variables/sorted_GCN_injection', sorted_index)\n",
    "    np.save('../variables/sorted_GCN_weights', sorted_values)"
   ]
  },
  {
   "cell_type": "code",
   "execution_count": 15,
   "metadata": {},
   "outputs": [
    {
     "name": "stdout",
     "output_type": "stream",
     "text": [
      "[[2622  537]\n",
      " [ 213  537]\n",
      " [2622  145]\n",
      " [ 108 2160]\n",
      " [2622 1165]\n",
      " [ 144  537]\n",
      " [ 898 2160]\n",
      " [2622 1593]\n",
      " [2622 1698]\n",
      " [1593 2192]]\n",
      "[0.23040664 0.2124002  0.20239711 0.20137182 0.18056369 0.18013139\n",
      " 0.17933021 0.17853545 0.17265803 0.1725375 ]\n"
     ]
    }
   ],
   "source": [
    "# get the highest score out\n",
    "print(pred_index[:10])\n",
    "print(pred_values[:10])"
   ]
  },
  {
   "cell_type": "markdown",
   "metadata": {},
   "source": [
    "### Visualize Top-1 Neighborhood"
   ]
  },
  {
   "cell_type": "code",
   "execution_count": 16,
   "metadata": {},
   "outputs": [],
   "source": [
    "def show_ego_graph(data, index):\n",
    "    # convert to graph\n",
    "    G = torch_geometric.utils.to_networkx(\n",
    "        dataset.data, node_attrs=None, edge_attrs=None\n",
    "    )\n",
    "\n",
    "    # Create ego graph of main hub\n",
    "    hub_ego = nx.ego_graph(G, index, radius=2)\n",
    "\n",
    "    # Draw graph\n",
    "    pos = nx.spring_layout(hub_ego)\n",
    "    nx.draw(hub_ego, pos, node_color='b', node_size=50, with_labels=False)\n",
    "\n",
    "    # Draw ego as large and red\n",
    "    nx.draw_networkx_nodes(hub_ego, pos, nodelist=[index], node_size=100, node_color='r')\n",
    "    plt.show()\n",
    "\n",
    "def show_link_graph(data, src, dst, numbering=None):\n",
    "    # convert to graph\n",
    "    G = torch_geometric.utils.to_networkx(\n",
    "        dataset.data, node_attrs=None, edge_attrs=None\n",
    "    )\n",
    "\n",
    "    # Create ego graph of main hub\n",
    "    src_ego = nx.ego_graph(G, src, radius=2)\n",
    "    dst_ego = nx.ego_graph(G, dst, radius=2)\n",
    "    \n",
    "    hub_ego = nx.algorithms.operators.binary.compose(src_ego, dst_ego)\n",
    "    \n",
    "    f = plt.figure(figsize=(8, 6))\n",
    "    \n",
    "    # Draw graph\n",
    "    pos = nx.spring_layout(hub_ego)\n",
    "    nx.draw(hub_ego, pos, node_color='b', node_size=50, with_labels=False, alpha=0.2)\n",
    "    \n",
    "    # Draw ego as large and red\n",
    "    nx.draw_networkx_nodes(hub_ego, pos, nodelist=[src, dst], node_size=100, node_color='r', alpha=0.8)\n",
    "    if numbering is None:\n",
    "        f.savefig(\"link_graph.pdf\", bbox_inches='tight')\n",
    "    else:\n",
    "        f.savefig(\"link_graph_%d.pdf\" % numbering, bbox_inches='tight')\n",
    "    plt.show()"
   ]
  },
  {
   "cell_type": "code",
   "execution_count": 17,
   "metadata": {},
   "outputs": [
    {
     "name": "stderr",
     "output_type": "stream",
     "text": [
      "/home/jayroxis/venv/lib/python3.6/site-packages/networkx/drawing/nx_pylab.py:579: MatplotlibDeprecationWarning: \n",
      "The iterable function was deprecated in Matplotlib 3.1 and will be removed in 3.3. Use np.iterable instead.\n",
      "  if not cb.iterable(width):\n",
      "/home/jayroxis/venv/lib/python3.6/site-packages/networkx/drawing/nx_pylab.py:676: MatplotlibDeprecationWarning: \n",
      "The iterable function was deprecated in Matplotlib 3.1 and will be removed in 3.3. Use np.iterable instead.\n",
      "  if cb.iterable(node_size):  # many node sizes\n"
     ]
    },
    {
     "data": {
      "image/png": "[encoded data removed]",
      "text/plain": [
       "<Figure size 576x432 with 1 Axes>"
      ]
     },
     "metadata": {},
     "output_type": "display_data"
    }
   ],
   "source": [
    "show_link_graph(data, pred_index[0][0], pred_index[0][1])"
   ]
  },
  {
   "cell_type": "markdown",
   "metadata": {},
   "source": [
    "### Top 50 Shortest Path"
   ]
  },
  {
   "cell_type": "code",
   "execution_count": 18,
   "metadata": {},
   "outputs": [
    {
     "name": "stdout",
     "output_type": "stream",
     "text": [
      "2622 537 [2622] 1\n",
      "213 537 [213] 1\n",
      "2622 145 [2622] 1\n",
      "108 2160 [108] 1\n",
      "2622 1165 [2622] 1\n",
      "144 537 [144] 1\n",
      "898 2160 [898] 1\n",
      "2622 1593 [2622] 1\n",
      "2622 1698 [2622] 1\n",
      "1593 2192 [1593] 1\n",
      "2622 213 [2622] 1\n",
      "23 2160 [23] 1\n",
      "495 537 [495] 1\n",
      "1698 2192 [1698] 1\n",
      "2622 2161 [2622] 1\n",
      "2622 1328 [2622] 1\n",
      "23 2157 [23] 1\n",
      "2192 145 [2192] 1\n",
      "1698 145 [1698] 1\n",
      "2622 1835 [2622] 1\n",
      "144 145 [144] 1\n",
      "1698 2161 [1698] 1\n",
      "123 122 [123] 1\n",
      "1328 1698 [1328] 1\n",
      "2370 2367 [2370] 1\n",
      "2622 2192 [2622] 1\n",
      "108 1504 [108] 1\n",
      "2161 1327 [2161] 1\n",
      "273 2146 [273] 1\n",
      "92 898 [92] 1\n",
      "1698 1328 [1698] 1\n",
      "2192 1593 [2192] 1\n",
      "2622 1327 [2622] 1\n",
      "2192 1327 [2192] 1\n",
      "1698 1165 [1698] 1\n",
      "495 213 [495] 1\n",
      "2622 1504 [2622] 1\n",
      "2192 1698 [2192] 1\n",
      "640 2367 [640] 1\n",
      "2192 1328 [2192] 1\n",
      "284 75 [284] 1\n",
      "2622 991 False\n",
      "2622 108 [2622] 1\n",
      "1698 1835 [1698] 1\n",
      "1698 1593 [1698] 1\n",
      "2161 1328 [2161] 1\n",
      "1328 537 [1328] 1\n",
      "1328 2160 [1328] 1\n",
      "1044 2161 False\n",
      "1044 991 False\n"
     ]
    }
   ],
   "source": [
    "G = torch_geometric.utils.to_networkx(\n",
    "        dataset.data, node_attrs=None, edge_attrs=None\n",
    "    )\n",
    "\n",
    "for src, dst in pred_index[:50]:\n",
    "    if nx.has_path(G, source=src, target=dst):\n",
    "        shortest_path = nx.shortest_path(G, source=src, target=src)\n",
    "        print(src, dst, shortest_path, len(shortest_path))\n",
    "    else:\n",
    "        print(src, dst, nx.has_path(G, source=src, target=dst))"
   ]
  },
  {
   "cell_type": "code",
   "execution_count": 19,
   "metadata": {
    "scrolled": false
   },
   "outputs": [
    {
     "name": "stdout",
     "output_type": "stream",
     "text": [
      "2 10377 [2622  145] [2622  145]\n",
      "6 3562 [ 898 2160] [ 898 2160]\n",
      "20 651 [144 145] [144 145]\n",
      "24 9696 [2370 2367] [2370 2367]\n",
      "27 8940 [2161 1327] [2161 1327]\n",
      "29 393 [ 92 898] [ 92 898]\n",
      "47 5155 [1328 2160] [1328 2160]\n",
      "58 10001 [2463   89] [2463   89]\n",
      "60 474 [ 108 2157] [ 108 2157]\n",
      "64 6292 [1593  144] [1593  144]\n",
      "73 3669 [938 618] [938 618]\n",
      "87 76 [  23 2159] [  23 2159]\n",
      "92 4230 [1087   89] [1087   89]\n",
      "93 6296 [1593 1165] [1593 1165]\n",
      "105 5153 [1328  495] [1328  495]\n",
      "107 2245 [ 548 1523] [ 548 1523]\n",
      "131 7470 [1835 2157] [1835 2157]\n",
      "134 9135 [2209  108] [2209  108]\n",
      "156 88 [26 99] [26 99]\n",
      "158 1568 [ 385 2484] [ 385 2484]\n",
      "170 10055 [2479 1236] [2479 1236]\n",
      "182 6526 [1647  108] [1647  108]\n",
      "194 4291 [1101 2146] [1101 2146]\n",
      "220 9272 [2242 2539] [2242 2539]\n",
      "224 2516 [ 614 1475] [ 614 1475]\n",
      "230 4091 [1050 2564] [1050 2564]\n",
      "237 10276 [2569  380] [2569  380]\n",
      "253 92 [  26 2455] [  26 2455]\n",
      "264 5094 [1310 2692] [1310 2692]\n",
      "293 1107 [273 374] [273 374]\n",
      "294 3869 [ 998 1431] [ 998 1431]\n",
      "313 10061 [2482  167] [2482  167]\n",
      "334 2589 [ 640 1090] [ 640 1090]\n",
      "375 2517 [ 614 2470] [ 614 2470]\n",
      "416 1634 [403 806] [403 806]\n",
      "418 8291 [2012  272] [2012  272]\n",
      "420 655 [145 144] [145 144]\n",
      "433 5434 [1360 1650] [1360 1650]\n",
      "442 10019 [2465 2464] [2465 2464]\n",
      "463 9191 [2223 2224] [2223 2224]\n",
      "464 2128 [ 515 2464] [ 515 2464]\n",
      "473 3369 [846 374] [846 374]\n",
      "526 6672 [1684 2486] [1684 2486]\n",
      "536 8877 [2147  374] [2147  374]\n",
      "591 2389 [ 584 2464] [ 584 2464]\n",
      "593 5848 [1475 2469] [1475 2469]\n",
      "598 9186 [2222 2224] [2222 2224]\n",
      "659 0 [  0 633] [  0 633]\n",
      "677 756 [168 167] [168 167]\n",
      "680 3844 [991 307] [991 307]\n",
      "687 10290 [2576 1680] [2576 1680]\n",
      "763 8511 [2056 2311] [2056 2311]\n",
      "849 10411 [2645 1443] [2645 1443]\n",
      "866 10231 [2549  582] [2549  582]\n",
      "877 932 [222 821] [222 821]\n",
      "951 4076 [1047 2333] [1047 2333]\n",
      "1039 10281 [2570 1386] [2570 1386]\n",
      "1106 8883 [2148  509] [2148  509]\n",
      "1116 758 [ 168 2438] [ 168 2438]\n",
      "1197 3314 [833 207] [833 207]\n",
      "1198 9816 [2401  375] [2401  375]\n",
      "1272 5712 [1439  200] [1439  200]\n",
      "1287 3061 [756 256] [756 256]\n",
      "1341 576 [123  99] [123  99]\n",
      "1437 3528 [ 889 1832] [ 889 1832]\n",
      "1479 10500 [2679 2682] [2679 2682]\n",
      "1499 8422 [2039 2042] [2039 2042]\n",
      "1512 10420 [2649 2457] [2649 2457]\n",
      "1538 4238 [1090   15] [1090   15]\n",
      "1574 577 [ 123 2455] [ 123 2455]\n",
      "1601 10026 [2467 2468] [2467 2468]\n",
      "1705 4842 [1242 1101] [1242 1101]\n",
      "1871 7173 [1773  638] [1773  638]\n",
      "1923 9738 [2383  924] [2383  924]\n",
      "1984 1433 [ 349 2427] [ 349 2427]\n",
      "2000 47 [  15 1271] [  15 1271]\n",
      "2046 3047 [ 751 2202] [ 751 2202]\n",
      "2212 4844 [1242 2148] [1242 2148]\n",
      "2245 9156 [2216  421] [2216  421]\n",
      "2269 4262 [1094 1653] [1094 1653]\n",
      "2396 10545 [2703 1298] [2703 1298]\n",
      "2400 6983 [1737   64] [1737   64]\n",
      "2516 3544 [ 894 2367] [ 894 2367]\n",
      "2765 10449 [2666 2665] [2666 2665]\n",
      "2841 9187 [2222 2225] [2222 2225]\n",
      "2909 6302 [1598  640] [1598  640]\n",
      "2947 1950 [ 473 1575] [ 473 1575]\n",
      "3051 1056 [ 257 1388] [ 257 1388]\n",
      "3259 2515 [614 888] [614 888]\n",
      "3301 5846 [1475  888] [1475  888]\n",
      "3389 5013 [1290 2258] [1290 2258]\n",
      "3441 3684 [ 946 2623] [ 946 2623]\n",
      "3456 1566 [385 369] [385 369]\n",
      "3532 7474 [1837  183] [1837  183]\n",
      "3646 1350 [ 321 1083] [ 321 1083]\n",
      "3686 2407 [591 642] [591 642]\n",
      "3778 9001 [2177 2371] [2177 2371]\n",
      "3910 2018 [ 488 2547] [ 488 2547]\n",
      "3966 4645 [1187 1188] [1187 1188]\n",
      "4169 10002 [2463  340] [2463  340]\n",
      "4332 2673 [ 661 1028] [ 661 1028]\n",
      "4468 3934 [1013 1675] [1013 1675]\n",
      "4638 5849 [1475 2470] [1475 2470]\n",
      "4913 1758 [ 434 1693] [ 434 1693]\n",
      "5023 2412 [ 592 2669] [ 592 2669]\n",
      "5125 9887 [2429  250] [2429  250]\n",
      "5138 592 [ 127 2604] [ 127 2604]\n",
      "5443 323 [ 84 284] [ 84 284]\n",
      "5473 6061 [1530 1369] [1530 1369]\n",
      "5905 10257 [2560 2561] [2560 2561]\n",
      "6008 1886 [ 457 1201] [ 457 1201]\n",
      "6097 439 [  99 2455] [  99 2455]\n",
      "6196 10306 [2582    0] [2582    0]\n",
      "6286 10273 [2567  953] [2567  953]\n",
      "6397 9237 [2235  676] [2235  676]\n",
      "6771 8000 [1955 2235] [1955 2235]\n",
      "7484 6041 [1527  331] [1527  331]\n",
      "7543 3894 [1006  736] [1006  736]\n",
      "7751 5967 [1505 1699] [1505 1699]\n",
      "7828 8 [   2 1454] [   2 1454]\n",
      "8046 5766 [1450 1225] [1450 1225]\n",
      "8071 10074 [2486  455] [2486  455]\n",
      "8190 4617 [1179  410] [1179  410]\n",
      "8954 9011 [2180  257] [2180  257]\n",
      "9002 2836 [ 710 2213] [ 710 2213]\n",
      "9008 9159 [2216 1724] [2216 1724]\n",
      "9104 5250 [1354  400] [1354  400]\n",
      "9573 10382 [2626 2625] [2626 2625]\n",
      "10147 3542 [894 640] [894 640]\n"
     ]
    }
   ],
   "source": [
    "# find out how many injected links are in the graph\n",
    "true_index = data.edge_index.cpu().numpy().T\n",
    "\n",
    "start = true_index[:, 0]\n",
    "\n",
    "unq_val, unq_idx = np.unique(start, return_index=True)\n",
    "start_dict = dict(zip(unq_val, unq_idx))\n",
    "\n",
    "correct_list = []\n",
    "for i in range(len(pred_index)):\n",
    "    pred = pred_index[i]\n",
    "    if pred[0] in start_dict:\n",
    "        begin = start_dict[pred[0]]\n",
    "        if pred[0] + 1 in start_dict:\n",
    "            end = start_dict[pred[0] + 1]\n",
    "        else:\n",
    "            end = len(true_index)\n",
    "    for j in range(begin, end):\n",
    "        true = true_index[j]\n",
    "        if np.array_equal(pred, true):\n",
    "            print(i, j, pred, true)\n",
    "            correct_list.append((i, pred))\n",
    "            break"
   ]
  },
  {
   "cell_type": "markdown",
   "metadata": {},
   "source": [
    "### Top Injected Links (Predicted Use Link Injection)"
   ]
  },
  {
   "cell_type": "code",
   "execution_count": 20,
   "metadata": {},
   "outputs": [],
   "source": [
    "path_length = []\n",
    "src_list, dst_list = [], []\n",
    "\n",
    "for src, dst in pred_index:\n",
    "    src_list.append(src)\n",
    "    dst_list.append(dst)\n",
    "    if nx.has_path(G, source=src, target=dst):\n",
    "        shortest_path = nx.shortest_path(G, source=src, target=src)\n",
    "        path_length.append(len(shortest_path))\n",
    "    else:\n",
    "        path_length.append(0)\n",
    "        \n",
    "path_length = np.array(path_length)"
   ]
  },
  {
   "cell_type": "code",
   "execution_count": 21,
   "metadata": {},
   "outputs": [
    {
     "name": "stdout",
     "output_type": "stream",
     "text": [
      "0.510989010989011\n",
      "0.0\n",
      "0.489010989010989\n",
      "5355.354707477722\n"
     ]
    }
   ],
   "source": [
    "num_pred = pred_index.shape[0]\n",
    "\n",
    "direct_link = np.sum(path_length == 1) / num_pred # directed connected,i.e., neighbors\n",
    "indirect_link = np.sum(path_length > 1)/ num_pred # have a path between but not neighbors\n",
    "unconnected = np.sum(path_length == 0) / num_pred # directed connected,i.e., neighbors\n",
    "unconnected_pos = np.where(path_length == 0)[0]\n",
    "\n",
    "print(direct_link)\n",
    "print(indirect_link)\n",
    "print(unconnected)\n",
    "print(np.mean(unconnected_pos))"
   ]
  },
  {
   "cell_type": "code",
   "execution_count": 22,
   "metadata": {},
   "outputs": [
    {
     "data": {
      "text/plain": [
       "6410.0"
      ]
     },
     "execution_count": 22,
     "metadata": {},
     "output_type": "execute_result"
    }
   ],
   "source": [
    "0.6072375899962107 * 10556"
   ]
  },
  {
   "cell_type": "code",
   "execution_count": 23,
   "metadata": {
    "scrolled": false
   },
   "outputs": [
    {
     "name": "stdout",
     "output_type": "stream",
     "text": [
      "41 [2622  991]\n",
      "tensor(6, device='cuda:1') tensor(6, device='cuda:1')\n"
     ]
    },
    {
     "data": {
      "image/png": "[encoded data removed]",
      "text/plain": [
       "<Figure size 576x432 with 1 Axes>"
      ]
     },
     "metadata": {},
     "output_type": "display_data"
    },
    {
     "name": "stdout",
     "output_type": "stream",
     "text": [
      "48 [1044 2161]\n",
      "tensor(3, device='cuda:1') tensor(6, device='cuda:1')\n"
     ]
    },
    {
     "data": {
      "image/png": "[encoded data removed]",
      "text/plain": [
       "<Figure size 576x432 with 1 Axes>"
      ]
     },
     "metadata": {},
     "output_type": "display_data"
    },
    {
     "name": "stdout",
     "output_type": "stream",
     "text": [
      "49 [1044  991]\n",
      "tensor(3, device='cuda:1') tensor(6, device='cuda:1')\n"
     ]
    },
    {
     "data": {
      "image/png": "[encoded data removed]",
      "text/plain": [
       "<Figure size 576x432 with 1 Axes>"
      ]
     },
     "metadata": {},
     "output_type": "display_data"
    },
    {
     "name": "stdout",
     "output_type": "stream",
     "text": [
      "56 [1044 1328]\n",
      "tensor(3, device='cuda:1') tensor(6, device='cuda:1')\n"
     ]
    },
    {
     "data": {
      "image/png": "[encoded data removed]",
      "text/plain": [
       "<Figure size 576x432 with 1 Axes>"
      ]
     },
     "metadata": {},
     "output_type": "display_data"
    },
    {
     "name": "stdout",
     "output_type": "stream",
     "text": [
      "57 [1044 1698]\n",
      "tensor(3, device='cuda:1') tensor(6, device='cuda:1')\n"
     ]
    },
    {
     "data": {
      "image/png": "[encoded data removed]",
      "text/plain": [
       "<Figure size 576x432 with 1 Axes>"
      ]
     },
     "metadata": {},
     "output_type": "display_data"
    }
   ],
   "source": [
    "for i in range(5):\n",
    "    idx = unconnected_pos[i]\n",
    "    print(idx, pred_index[idx])\n",
    "    src = pred_index[idx][0]\n",
    "    dst = pred_index[idx][1]\n",
    "    print(data.y[src], data.y[dst])\n",
    "    show_link_graph(data, src, dst, numbering=i+1)"
   ]
  },
  {
   "cell_type": "code",
   "execution_count": 24,
   "metadata": {},
   "outputs": [
    {
     "name": "stdout",
     "output_type": "stream",
     "text": [
      "hits = 129\n",
      "hit rate = 0.012220538082607047\n",
      "number of top-scored predictions = 10556\n",
      "number of edges in the graph = 10556\n",
      "p = 8.974313504503885e-09\n",
      "significance = 1361724.0\n",
      "MR = 2489.6201550387595\n",
      "MR Ratio = 0.7641511789466882\n"
     ]
    }
   ],
   "source": [
    "hit_rate = len(correct_list) / num_edges\n",
    "print('hits =', len(correct_list))\n",
    "print('hit rate =', hit_rate)\n",
    "print('number of top-scored predictions =', len(pred_index))\n",
    "print('number of edges in the graph =', len(true_index))\n",
    "num_options = len(true_index) ** 2\n",
    "print('p =', 1 / num_options)\n",
    "print('significance =', hit_rate * num_options)\n",
    "\n",
    "MR = np.mean(np.array([item[0] for item in correct_list]))\n",
    "print('MR =', MR)\n",
    "print('MR Ratio =', 1 - MR / num_edges)"
   ]
  },
  {
   "cell_type": "code",
   "execution_count": 25,
   "metadata": {},
   "outputs": [
    {
     "name": "stdout",
     "output_type": "stream",
     "text": [
      "8.621\\%\n"
     ]
    }
   ],
   "source": [
    "print('%.3f\\\\%%' % (0.017241379310344827 * 5 * 100))"
   ]
  }
 ],
 "metadata": {
  "kernelspec": {
   "display_name": "Python 3",
   "language": "python",
   "name": "python3"
  },
  "language_info": {
   "codemirror_mode": {
    "name": "ipython",
    "version": 3
   },
   "file_extension": ".py",
   "mimetype": "text/x-python",
   "name": "python",
   "nbconvert_exporter": "python",
   "pygments_lexer": "ipython3",
   "version": "3.6.7"
  }
 },
 "nbformat": 4,
 "nbformat_minor": 2
}
