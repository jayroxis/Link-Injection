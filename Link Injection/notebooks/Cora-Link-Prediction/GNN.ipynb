{
 "cells": [
  {
   "cell_type": "code",
   "execution_count": 1,
   "metadata": {},
   "outputs": [
    {
     "name": "stdout",
     "output_type": "stream",
     "text": [
      "Using matplotlib backend: agg\n"
     ]
    }
   ],
   "source": [
    "%matplotlib\n",
    "import torch\n",
    "import torch.nn.functional as F\n",
    "\n",
    "import torch_geometric\n",
    "from torch_geometric.datasets import Planetoid\n",
    "from torch_geometric.utils import to_dense_adj, add_self_loops\n",
    "from sklearn.model_selection import train_test_split\n",
    "\n",
    "import matplotlib.pyplot as plt\n",
    "import numpy as np\n",
    "import pandas as pd\n",
    "import seaborn as sns\n",
    "\n",
    "import os\n",
    "os.chdir(\"../\")\n",
    "\n",
    "import sys\n",
    "sys.path.append('../scripts')\n",
    "\n",
    "# loading scripts from here\n",
    "from eval_link_prediction import accuracy, precision, recall\n",
    "from link_prediction import negative_sampling, balanced_samples"
   ]
  },
  {
   "cell_type": "markdown",
   "metadata": {},
   "source": [
    "# GNN"
   ]
  },
  {
   "cell_type": "code",
   "execution_count": 2,
   "metadata": {},
   "outputs": [],
   "source": [
    "class NaiveConv(torch.nn.Module):\n",
    "    def __init__(self, in_channel, out_channel):\n",
    "        super(NaiveConv, self).__init__()\n",
    "        self.layers = torch.nn.Sequential(\n",
    "            torch.nn.Linear(in_channel, out_channel),\n",
    "            torch.nn.Tanh()\n",
    "        )\n",
    "        \n",
    "    def forward(self, x, adj):\n",
    "        h = self.layers(x)\n",
    "        x = torch.mm(\n",
    "            adj,\n",
    "            h\n",
    "        )\n",
    "        return x\n",
    "\n",
    "class Net(torch.nn.Module):\n",
    "    def __init__(self, in_channel, out_channel):\n",
    "        super(Net, self).__init__()\n",
    "        \n",
    "        self.conv1 = NaiveConv(in_channel, 16)\n",
    "        self.conv2 = NaiveConv(16, out_channel)\n",
    "        \n",
    "        # predict exists or not\n",
    "        self.layers = torch.nn.Sequential(\n",
    "            torch.nn.Linear(2 * out_channel, 50),\n",
    "            torch.nn.ELU(),\n",
    "            torch.nn.Linear(50, 1),\n",
    "            torch.nn.Sigmoid()\n",
    "        )\n",
    "        \n",
    "    def forward(self, data, query_index):\n",
    "        x, adj = data.x, data.adj\n",
    "        \n",
    "        emb = self.conv1(x, adj)\n",
    "        emb = F.dropout(emb, training=self.training)\n",
    "        emb = self.conv2(emb, adj)\n",
    "        \n",
    "        # get queried embeddings\n",
    "        emb_query = torch.cat((emb[query_index[0]], emb[query_index[1]]), dim=1)\n",
    "        \n",
    "        # using embeddings to get score out\n",
    "        score = self.layers(emb_query)\n",
    "        \n",
    "        return score"
   ]
  },
  {
   "cell_type": "markdown",
   "metadata": {},
   "source": [
    "# Compile Model"
   ]
  },
  {
   "cell_type": "code",
   "execution_count": 3,
   "metadata": {},
   "outputs": [],
   "source": [
    "from tqdm import tqdm\n",
    "\n",
    "NUMEPOCHS = 10000\n",
    "early_stop_win_size = 100\n",
    "tolerance = 1.00\n",
    "\n",
    "device = torch.device('cuda:1' if torch.cuda.is_available() else 'cpu')\n",
    "\n",
    "# load data\n",
    "name = 'Cora'\n",
    "dataset = Planetoid('../datasets/'+ name, name=name)\n",
    "data = dataset.data\n",
    "\n",
    "# compile model\n",
    "in_dim = dataset.num_node_features\n",
    "\n",
    "model = Net(\n",
    "    in_dim,\n",
    "    50\n",
    ").to(device)\n",
    "\n",
    "# optimizer\n",
    "optimizer = torch.optim.Adamax(model.parameters(), weight_decay=1e-4)\n",
    "\n",
    "# loss function\n",
    "criterion = torch.nn.modules.loss.BCELoss()"
   ]
  },
  {
   "cell_type": "markdown",
   "metadata": {},
   "source": [
    "# Split the Dataset"
   ]
  },
  {
   "cell_type": "code",
   "execution_count": 4,
   "metadata": {},
   "outputs": [
    {
     "name": "stdout",
     "output_type": "stream",
     "text": [
      "Number of nodes = 2708\n",
      "Number of edges = 10556\n",
      "Training edges = 8444\n",
      "Validation edges = 1056\n",
      "Test edges = 1056\n"
     ]
    }
   ],
   "source": [
    "# random sampling edges\n",
    "train_frac = 0.8\n",
    "val_frac = 0.1\n",
    "test_frac = 0.1\n",
    "\n",
    "# split edges\n",
    "edges = data.edge_index.detach().cpu().numpy().T\n",
    "edge_train, edge_test = train_test_split(edges, train_size=train_frac, random_state=42)\n",
    "edge_val, edge_test = train_test_split(\n",
    "    edge_test, \n",
    "    train_size=val_frac/(test_frac + val_frac), \n",
    "    random_state=42\n",
    ")\n",
    "\n",
    "# create train, validation, test positive edges\n",
    "data.edge_train = torch.Tensor(edge_train).long().t()\n",
    "data.edge_val = torch.Tensor(edge_val).long().t()\n",
    "data.edge_test = torch.Tensor(edge_test).long().t()\n",
    "data.y_train = torch.ones(len(edge_train), 1).long().t()\n",
    "data.y_val = torch.ones(len(edge_val), 1).long().t()\n",
    "data.y_test = torch.ones(len(edge_test), 1).long().t()\n",
    "\n",
    "# create adjacency matrix\n",
    "data.adj = to_dense_adj(add_self_loops(data.edge_train)[0])[0]\n",
    "\n",
    "# to device (GPU default)\n",
    "data = dataset.data.to(device)\n",
    "\n",
    "# record the \n",
    "num_nodes = data.x.shape[0]\n",
    "num_edges = data.edge_index.shape[1]\n",
    "num_train = len(data.edge_train.t())\n",
    "num_val = len(data.edge_val.t())\n",
    "num_test = len(data.edge_test.t())\n",
    "\n",
    "print('Number of nodes =', num_nodes)\n",
    "print('Number of edges =', num_edges)\n",
    "print('Training edges =', num_train)\n",
    "print('Validation edges =', num_val)\n",
    "print('Test edges =', num_test)"
   ]
  },
  {
   "cell_type": "markdown",
   "metadata": {},
   "source": [
    "# Training"
   ]
  },
  {
   "cell_type": "code",
   "execution_count": 5,
   "metadata": {},
   "outputs": [
    {
     "name": "stdout",
     "output_type": "stream",
     "text": [
      "0 , train loss = 0.6598463654518127 , val loss = 0.6690473556518555\n",
      "500 , train loss = 0.2509179413318634 , val loss = 0.37358272075653076\n",
      "1000 , train loss = 0.18765856325626373 , val loss = 0.37854433059692383\n",
      "1500 , train loss = 0.16283637285232544 , val loss = 0.34609174728393555\n",
      "2000 , train loss = 0.15485785901546478 , val loss = 0.35877731442451477\n",
      "2500 , train loss = 0.14747263491153717 , val loss = 0.36282628774642944\n",
      "3000 , train loss = 0.1373908668756485 , val loss = 0.366836816072464\n",
      "3500 , train loss = 0.1368926763534546 , val loss = 0.3550829589366913\n",
      "4000 , train loss = 0.12906737625598907 , val loss = 0.3843947649002075\n",
      "4500 , train loss = 0.12783369421958923 , val loss = 0.3772751986980438\n",
      "5000 , train loss = 0.11964055895805359 , val loss = 0.34249255061149597\n",
      "5500 , train loss = 0.10968100279569626 , val loss = 0.3674163222312927\n",
      "6000 , train loss = 0.10673218220472336 , val loss = 0.3423699736595154\n",
      "6500 , train loss = 0.11399969458580017 , val loss = 0.3672783374786377\n",
      "7000 , train loss = 0.09612641483545303 , val loss = 0.3819136917591095\n",
      "7500 , train loss = 0.09894002974033356 , val loss = 0.3560119867324829\n",
      "8000 , train loss = 0.09709496796131134 , val loss = 0.3526436984539032\n",
      "8500 , train loss = 0.08683537691831589 , val loss = 0.3720337450504303\n",
      "9000 , train loss = 0.0861639752984047 , val loss = 0.37900876998901367\n",
      "9500 , train loss = 0.09016970545053482 , val loss = 0.38408347964286804\n"
     ]
    }
   ],
   "source": [
    "# record accuracy\n",
    "train_loss = np.zeros(NUMEPOCHS)\n",
    "val_loss = np.zeros(NUMEPOCHS)\n",
    "test_loss = np.zeros(NUMEPOCHS)\n",
    "\n",
    "# negative sampling\n",
    "edge_test, y_test = balanced_samples(data.edge_test, num_nodes)\n",
    "\n",
    "# training start\n",
    "for epoch in range(NUMEPOCHS):\n",
    "    # negative sampling\n",
    "    edge_train, y_train = balanced_samples(data.edge_train, num_nodes)\n",
    "    edge_val, y_val = balanced_samples(data.edge_val, num_nodes)\n",
    "    \n",
    "    model.train()\n",
    "    optimizer.zero_grad()\n",
    "    out = model(data, edge_train)\n",
    "    loss = criterion(out, y_train.float())\n",
    "    loss.backward()\n",
    "    optimizer.step()\n",
    "    \n",
    "    # record the accuracy\n",
    "    train_loss[epoch] = loss.item()\n",
    "    model.eval()\n",
    "    val_loss[epoch] = criterion(model(data, edge_val), y_val.float()).item()\n",
    "    test_loss[epoch] = criterion(model(data, edge_test), y_test.float()).item()\n",
    "\n",
    "    if epoch % 500 == 0:\n",
    "        print(\n",
    "            epoch, \n",
    "            ', train loss =', loss.item(),\n",
    "            ', val loss =', val_loss[epoch], \n",
    "        )"
   ]
  },
  {
   "cell_type": "code",
   "execution_count": 6,
   "metadata": {},
   "outputs": [
    {
     "data": {
      "image/png": "[encoded data removed]",
      "text/plain": [
       "<Figure size 432x288 with 1 Axes>"
      ]
     },
     "metadata": {
      "needs_background": "light"
     },
     "output_type": "display_data"
    }
   ],
   "source": [
    "df_acc = pd.DataFrame({\n",
    "    'train': train_loss,\n",
    "    'validation': val_loss,\n",
    "    'test': test_loss\n",
    "})\n",
    "\n",
    "sns.lineplot(data=df_acc)\n",
    "plt.show()"
   ]
  },
  {
   "cell_type": "code",
   "execution_count": 7,
   "metadata": {},
   "outputs": [
    {
     "name": "stdout",
     "output_type": "stream",
     "text": [
      "Train Accuracy: 0.9831\n",
      "Validation Accuracy: 0.9058\n",
      "Test Accuracy: 0.8873\n",
      "Train Precision: 0.9686\n",
      "Validation Precision: 0.9735\n",
      "Test Precision: 0.9606\n",
      "Train Recall: 0.9986\n",
      "Validation Recall: 0.8343\n",
      "Test Recall: 0.8078\n"
     ]
    }
   ],
   "source": [
    "edge_train, y_train = balanced_samples(data.edge_train, num_nodes)\n",
    "edge_val, y_val = balanced_samples(data.edge_val, num_nodes)\n",
    "edge_test, y_test = balanced_samples(data.edge_test, num_nodes)\n",
    "\n",
    "train_score = model(data, edge_train).detach().cpu().numpy().ravel()\n",
    "val_score = model(data, edge_val).detach().cpu().numpy().ravel()\n",
    "test_score = model(data, edge_test).detach().cpu().numpy().ravel()\n",
    "\n",
    "train_pred = (train_score > 0.5).astype(np.int8)\n",
    "val_pred = (val_score > 0.5).astype(np.int8)\n",
    "test_pred = (test_score > 0.5).astype(np.int8)\n",
    "\n",
    "print('Train Accuracy: {:.4f}'.format(accuracy(train_pred, y_train)))\n",
    "print('Validation Accuracy: {:.4f}'.format(accuracy(val_pred, y_val)))\n",
    "print('Test Accuracy: {:.4f}'.format(accuracy(test_pred, y_test)))\n",
    "\n",
    "print('Train Precision: {:.4f}'.format(precision(train_pred, y_train)))\n",
    "print('Validation Precision: {:.4f}'.format(precision(val_pred, y_val)))\n",
    "print('Test Precision: {:.4f}'.format(precision(test_pred, y_test)))\n",
    "\n",
    "print('Train Recall: {:.4f}'.format(recall(train_pred, y_train)))\n",
    "print('Validation Recall: {:.4f}'.format(recall(val_pred, y_val)))\n",
    "print('Test Recall: {:.4f}'.format(recall(test_pred, y_test)))"
   ]
  },
  {
   "cell_type": "code",
   "execution_count": 3,
   "metadata": {},
   "outputs": [
    {
     "name": "stdout",
     "output_type": "stream",
     "text": [
      "0.8871399999999999\n",
      "0.95916\n",
      "0.8087\n",
      "0.005943938088506655\n",
      "0.00919034275748189\n",
      "0.8087\n"
     ]
    }
   ],
   "source": [
    "test_acc_all = np.array([0.8812, 0.8807, 0.8968, 0.8897, 0.8873])\n",
    "test_precision_all = np.array([0.9517, 0.9507, 0.9761, 0.9567, 0.9606])\n",
    "test_recall_all = np.array([0.8030, 0.8030, 0.8134, 0.8163, 0.8078])\n",
    "\n",
    "print(np.mean(test_acc_all))\n",
    "print(np.mean(test_precision_all))\n",
    "print(np.mean(test_recall_all))\n",
    "\n",
    "print(np.std(test_acc_all))\n",
    "print(np.std(test_precision_all))\n",
    "print(np.mean(test_recall_all))"
   ]
  },
  {
   "cell_type": "code",
   "execution_count": 6,
   "metadata": {},
   "outputs": [
    {
     "name": "stdout",
     "output_type": "stream",
     "text": [
      "$88.71\\pm0.59$\n",
      "$95.92\\pm0.92$\n",
      "$80.87\\pm0.54$\n"
     ]
    }
   ],
   "source": [
    "print('$%.2f\\pm%.2f$' % (np.mean(test_acc_all) * 100, np.std(test_acc_all) * 100))\n",
    "print('$%.2f\\pm%.2f$' % (np.mean(test_precision_all) * 100, np.std(test_precision_all) * 100))\n",
    "print('$%.2f\\pm%.2f$' % (np.mean(test_recall_all) * 100, np.std(test_recall_all) * 100))"
   ]
  }
 ],
 "metadata": {
  "kernelspec": {
   "display_name": "Python 3",
   "language": "python",
   "name": "python3"
  },
  "language_info": {
   "codemirror_mode": {
    "name": "ipython",
    "version": 3
   },
   "file_extension": ".py",
   "mimetype": "text/x-python",
   "name": "python",
   "nbconvert_exporter": "python",
   "pygments_lexer": "ipython3",
   "version": "3.6.7"
  }
 },
 "nbformat": 4,
 "nbformat_minor": 2
}
