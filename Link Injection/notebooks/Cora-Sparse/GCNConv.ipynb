{
 "cells": [
  {
   "cell_type": "code",
   "execution_count": 1,
   "metadata": {},
   "outputs": [
    {
     "name": "stdout",
     "output_type": "stream",
     "text": [
      "Using matplotlib backend: agg\n"
     ]
    }
   ],
   "source": [
    "%matplotlib\n",
    "import torch\n",
    "import torch.nn.functional as F\n",
    "\n",
    "import torch_geometric\n",
    "from torch_geometric.datasets import Planetoid\n",
    "from torch_geometric.utils import to_dense_adj, add_self_loops\n",
    "\n",
    "import matplotlib.pyplot as plt\n",
    "import numpy as np\n",
    "import pandas as pd\n",
    "import seaborn as sns\n",
    "import scipy.io as spio\n",
    "\n",
    "import os\n",
    "os.chdir(\"../\")\n",
    "\n",
    "import sys\n",
    "sys.path.append('../scripts')\n",
    "\n",
    "# loading scripts from here\n",
    "from evaluation import accuracy\n",
    "from evaluation import areaundercurve\n",
    "from evaluation import average_precision_score_computation\n",
    "\n",
    "\"\"\"\n",
    "This is an implementation from:\n",
    "https://github.com/tkipf/pygcn/blob/master/pygcn/layers.py\n",
    "\n",
    "Author: Thomas kipf\n",
    "Paper: \n",
    "Semi-Supervised Classification with Graph Convolutional Networks\n",
    "https://arxiv.org/abs/1609.02907\n",
    "\"\"\"\n",
    "\n",
    "from GCNConv import GraphConvolution"
   ]
  },
  {
   "cell_type": "code",
   "execution_count": 2,
   "metadata": {},
   "outputs": [],
   "source": [
    "\"\"\"\n",
    "This is an implementation from:\n",
    "https://github.com/tkipf/pygcn/blob/master/pygcn/models.py\n",
    "\n",
    "Model and training settings are from:\n",
    "https://github.com/tkipf/pygcn/blob/master/pygcn/train.py\n",
    "which is the same as reported from the paper.\n",
    "\n",
    "Author: Thomas kipf\n",
    "\"\"\"\n",
    "class Net(torch.nn.Module):\n",
    "    def __init__(self, in_channel, out_channel):\n",
    "        super(Net, self).__init__()\n",
    "\n",
    "        self.gc1 = GraphConvolution(in_channel, 16)\n",
    "        self.gc2 = GraphConvolution(16, out_channel)\n",
    "\n",
    "    def forward(self, data):\n",
    "        x, adj = data.x, data.adj\n",
    "        \n",
    "        x = F.relu(self.gc1(x, adj))\n",
    "        x = F.dropout(x, p=0.5, training=self.training)\n",
    "        x = self.gc2(x, adj)\n",
    "        return F.log_softmax(x, dim=1)"
   ]
  },
  {
   "cell_type": "code",
   "execution_count": 3,
   "metadata": {},
   "outputs": [],
   "source": [
    "from tqdm import tqdm\n",
    "\n",
    "NUMEPOCHS = 10000\n",
    "early_stop_win_size = 100\n",
    "tolerance = 1.00\n",
    "\n",
    "device = torch.device('cuda' if torch.cuda.is_available() else 'cpu')\n",
    "\n",
    "# load data\n",
    "name = 'Cora'\n",
    "dataset = Planetoid('../datasets/'+ name, name=name)\n",
    "\n",
    "in_dim = dataset.num_node_features\n",
    "out_dim = dataset.num_classes\n",
    "\n",
    "data = dataset.data\n",
    "# data.adj = to_dense_adj(add_self_loops(data.edge_index)[0])[0]\n",
    "data.adj = torch.zeros(data.x.size(0), data.x.size(0))\n",
    "data = dataset.data.to(device)\n",
    "\n",
    "# compile model\n",
    "model = Net(\n",
    "    in_dim,\n",
    "    out_dim,\n",
    ").to(device)\n",
    "\n",
    "# optimizer = torch.optim.Adam(model.parameters(), weight_decay=5e-4, lr=0.01)\n",
    "optimizer = torch.optim.Adamax(model.parameters(), weight_decay=1e-5)"
   ]
  },
  {
   "cell_type": "code",
   "execution_count": 4,
   "metadata": {},
   "outputs": [
    {
     "name": "stdout",
     "output_type": "stream",
     "text": [
      "0 training acc = 0.14285714285714285 validation acc = 0.072 , loss = 1.9687809944152832\n",
      "1000 training acc = 0.14285714285714285 validation acc = 0.072 , loss = 1.9459104537963867\n",
      "2000 training acc = 0.14285714285714285 validation acc = 0.114 , loss = 1.9459104537963867\n",
      "3000 training acc = 0.14285714285714285 validation acc = 0.114 , loss = 1.9459104537963867\n",
      "4000 training acc = 0.14285714285714285 validation acc = 0.114 , loss = 1.9459104537963867\n",
      "5000 training acc = 0.14285714285714285 validation acc = 0.114 , loss = 1.9459104537963867\n",
      "6000 training acc = 0.14285714285714285 validation acc = 0.114 , loss = 1.9459106922149658\n",
      "7000 training acc = 0.14285714285714285 validation acc = 0.114 , loss = 1.9459099769592285\n",
      "8000 training acc = 0.14285714285714285 validation acc = 0.156 , loss = 1.9459104537963867\n",
      "9000 training acc = 0.14285714285714285 validation acc = 0.156 , loss = 1.9459102153778076\n"
     ]
    }
   ],
   "source": [
    "# record accuracy\n",
    "train_acc = np.zeros(NUMEPOCHS)\n",
    "val_acc = np.zeros(NUMEPOCHS)\n",
    "test_acc = np.zeros(NUMEPOCHS)\n",
    "\n",
    "# training start\n",
    "model.train()\n",
    "\n",
    "for epoch in range(NUMEPOCHS):\n",
    "    optimizer.zero_grad()\n",
    "    out = model(data)\n",
    "    loss = F.nll_loss(out[data.train_mask], data.y[data.train_mask])\n",
    "    \n",
    "    loss.backward()\n",
    "    optimizer.step()\n",
    "    \n",
    "    # record the accuracy\n",
    "    train_acc[epoch] = accuracy(model, data, 'train')\n",
    "    val_acc[epoch] = accuracy(model, data, 'val')\n",
    "    test_acc[epoch] = accuracy(model, data, 'test')\n",
    "    \n",
    "    # early stopping\n",
    "    if epoch > 2 * early_stop_win_size:\n",
    "        prev_start = epoch - 2 * early_stop_win_size\n",
    "        prev_end = epoch - early_stop_win_size\n",
    "        current_start = epoch - early_stop_win_size\n",
    "        current_end = epoch\n",
    "        \n",
    "        val_acc_current = np.mean(val_acc[current_start: current_end])\n",
    "        val_acc_previous = np.mean(val_acc[prev_start: prev_end])\n",
    "        \n",
    "        if val_acc_current < val_acc_previous - tolerance:\n",
    "            train_acc = train_acc[:epoch]\n",
    "            val_acc = val_acc[:epoch]\n",
    "            test_acc = test_acc[:epoch]\n",
    "            print('Moving Average Early stopping at %d-th epoch' % epoch)\n",
    "            print(\n",
    "                'Previous validation average accuracy for %d-th to %d-th epoch: %f' % \\\n",
    "                (prev_start, prev_end, val_acc_previous)\n",
    "            )\n",
    "            print(\n",
    "                'Current validation average accuracy for %d-th to %d-th epoch: %f' % \\\n",
    "                (current_start, current_end, val_acc_current)\n",
    "            )\n",
    "            break\n",
    "    if epoch % 1000 == 0:\n",
    "        print(\n",
    "            epoch, \n",
    "            'training acc =', train_acc[epoch], \n",
    "            'validation acc =', val_acc[epoch], \n",
    "            ', loss =', loss.item()\n",
    "        )"
   ]
  },
  {
   "cell_type": "code",
   "execution_count": 5,
   "metadata": {},
   "outputs": [
    {
     "data": {
      "image/png": "[encoded data removed]",
      "text/plain": [
       "<Figure size 432x288 with 1 Axes>"
      ]
     },
     "metadata": {
      "needs_background": "light"
     },
     "output_type": "display_data"
    }
   ],
   "source": [
    "df_acc = pd.DataFrame({\n",
    "    'train': train_acc,\n",
    "    'validation': val_acc,\n",
    "    'test': test_acc\n",
    "})\n",
    "\n",
    "sns.lineplot(data=df_acc)\n",
    "plt.show()"
   ]
  },
  {
   "cell_type": "code",
   "execution_count": 6,
   "metadata": {},
   "outputs": [],
   "source": [
    "spio.savemat('../variables/'+ name +'/GCNConv.mat',{\n",
    "    'train': train_acc,\n",
    "    'validation': val_acc,\n",
    "    'test': test_acc\n",
    "})"
   ]
  },
  {
   "cell_type": "code",
   "execution_count": 7,
   "metadata": {},
   "outputs": [
    {
     "name": "stdout",
     "output_type": "stream",
     "text": [
      "Train Accuracy: 0.1429\n",
      "Validation Accuracy: 0.0580\n",
      "Test Accuracy: 0.0640\n"
     ]
    }
   ],
   "source": [
    "print('Train Accuracy: {:.4f}'.format(accuracy(model, data, 'train')))\n",
    "print('Validation Accuracy: {:.4f}'.format(accuracy(model, data, 'val')))\n",
    "print('Test Accuracy: {:.4f}'.format(accuracy(model, data, 'test')))"
   ]
  },
  {
   "cell_type": "code",
   "execution_count": 8,
   "metadata": {},
   "outputs": [
    {
     "name": "stdout",
     "output_type": "stream",
     "text": [
      "Test AUC: 0.5000\n"
     ]
    }
   ],
   "source": [
    "print('Test AUC: {:.4f}'.format(areaundercurve(model,data,'test')))"
   ]
  },
  {
   "cell_type": "code",
   "execution_count": 9,
   "metadata": {},
   "outputs": [
    {
     "name": "stdout",
     "output_type": "stream",
     "text": [
      "0.7565999999999999\n",
      "0.8715400000000001\n",
      "0.003322649545167233\n",
      "0.0021406541056415455\n"
     ]
    }
   ],
   "source": [
    "# this is for Adam optimizer\n",
    "\n",
    "test_acc_all = [0.7580, 0.7560, 0.7520, 0.7620, 0.7550]\n",
    "test_auc_all = [0.8738, 0.8706, 0.8728, 0.8727, 0.8678]\n",
    "\n",
    "print(np.mean(test_acc_all))\n",
    "print(np.mean(test_auc_all))\n",
    "\n",
    "print(np.std(test_acc_all))\n",
    "print(np.std(test_auc_all))"
   ]
  }
 ],
 "metadata": {
  "kernelspec": {
   "display_name": "Python 3",
   "language": "python",
   "name": "python3"
  },
  "language_info": {
   "codemirror_mode": {
    "name": "ipython",
    "version": 3
   },
   "file_extension": ".py",
   "mimetype": "text/x-python",
   "name": "python",
   "nbconvert_exporter": "python",
   "pygments_lexer": "ipython3",
   "version": "3.6.7"
  }
 },
 "nbformat": 4,
 "nbformat_minor": 2
}
