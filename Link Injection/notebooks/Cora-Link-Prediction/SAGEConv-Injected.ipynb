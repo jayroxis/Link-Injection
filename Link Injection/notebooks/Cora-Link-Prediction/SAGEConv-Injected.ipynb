{
 "cells": [
  {
   "cell_type": "code",
   "execution_count": 1,
   "metadata": {},
   "outputs": [
    {
     "name": "stdout",
     "output_type": "stream",
     "text": [
      "Using matplotlib backend: agg\n"
     ]
    }
   ],
   "source": [
    "%matplotlib\n",
    "import torch\n",
    "import torch.nn.functional as F\n",
    "\n",
    "import torch_geometric\n",
    "from torch_geometric.datasets import Planetoid\n",
    "from torch_geometric.utils import to_dense_adj, add_self_loops\n",
    "\n",
    "from sklearn.model_selection import train_test_split\n",
    "\n",
    "import matplotlib.pyplot as plt\n",
    "import numpy as np\n",
    "import pandas as pd\n",
    "import seaborn as sns\n",
    "import scipy.io as spio\n",
    "import networkx as nx\n",
    "\n",
    "import os\n",
    "os.chdir(\"../\")\n",
    "\n",
    "import sys\n",
    "sys.path.append('../scripts')\n",
    "\n",
    "from eval_link_prediction import accuracy, precision, recall\n",
    "\n",
    "from link_prediction import negative_sampling, balanced_samples"
   ]
  },
  {
   "cell_type": "markdown",
   "metadata": {},
   "source": [
    "## GraphSAGE"
   ]
  },
  {
   "cell_type": "code",
   "execution_count": 2,
   "metadata": {},
   "outputs": [],
   "source": [
    "\"\"\"\n",
    "\n",
    "GraphSAGE without Neighboring Sampling\n",
    "\n",
    "\"\"\"\n",
    "\n",
    "class SAGEConv(torch.nn.Module):\n",
    "    def __init__(self, in_channels, out_channels, normalize=False, bias=True):\n",
    "        super(SAGEConv, self).__init__()\n",
    "\n",
    "        self.in_channels = in_channels\n",
    "        self.out_channels = out_channels\n",
    "        self.normalize = normalize\n",
    "        self.linear = torch.nn.Linear(self.in_channels, out_channels, bias=False)\n",
    "        if bias:\n",
    "            self.bias = torch.nn.Parameter(torch.Tensor(out_channels))\n",
    "            torch.nn.init.zeros_(self.bias)\n",
    "        else:\n",
    "            self.register_parameter('bias', None)\n",
    "\n",
    "\n",
    "    def forward(self, x, adj):\n",
    "        out = torch.matmul(adj, x)\n",
    "        out = out / adj.sum(dim=-1, keepdim=True).clamp(min=1)\n",
    "        out = self.linear(out)\n",
    "\n",
    "        if self.bias is not None:\n",
    "            out = out + self.bias\n",
    "\n",
    "        if self.normalize:\n",
    "            out = F.normalize(out, p=2, dim=-1)\n",
    "\n",
    "        return out\n",
    "\n",
    "    \n",
    "class Net(torch.nn.Module):\n",
    "    def __init__(self, in_dim, out_dim, data):\n",
    "        super(Net, self).__init__()\n",
    "        self.conv1 = SAGEConv(in_dim, 16)\n",
    "        self.conv2 = SAGEConv(16, out_dim)\n",
    "        \n",
    "        # predict exists or not\n",
    "        self.layers = torch.nn.Sequential(\n",
    "            torch.nn.Linear(2 * out_dim, 50),\n",
    "            torch.nn.ELU(),\n",
    "            torch.nn.Linear(50, 1),\n",
    "            torch.nn.Sigmoid()\n",
    "        )\n",
    "        \n",
    "        # link injection initialized\n",
    "        injection = torch.ones_like(data.adj) * 0.01\n",
    "        injection = torch.abs(injection)\n",
    "        self.injection = torch.nn.Parameter(\n",
    "            injection, \n",
    "            requires_grad=True\n",
    "        )\n",
    "\n",
    "    def forward(self, data, query_index):\n",
    "        x, adj = data.x, data.adj\n",
    "        \n",
    "        # link injection\n",
    "        injection = F.relu(self.injection)\n",
    "        adj = adj + injection\n",
    "        adj = torch.clamp(adj, 0, 1)\n",
    "        \n",
    "        # generate node embeddings\n",
    "        emb = self.conv1(x, adj)\n",
    "        emb = F.relu(emb)\n",
    "        emb = F.dropout(emb, p=0.5, training=self.training)\n",
    "        emb = self.conv2(emb, adj)\n",
    "        \n",
    "        # get queried embeddings\n",
    "        emb_query = torch.cat((emb[query_index[0]], emb[query_index[1]]), dim=1)\n",
    "        \n",
    "        # using embeddings to get score out\n",
    "        score = self.layers(emb_query)\n",
    "        \n",
    "        return score\n",
    "    \n",
    "    def get_weight(self, data, query_index):\n",
    "        adj = data.adj.detach()\n",
    "        \n",
    "        # link injection\n",
    "        injection = F.relu(self.injection.detach())\n",
    "        adj = adj + injection\n",
    "        adj = torch.clamp(adj, 0, 1)\n",
    "        \n",
    "        # weight\n",
    "        weights = adj[query_index[0], query_index[1]].view(-1, 1)\n",
    "        return weights"
   ]
  },
  {
   "cell_type": "markdown",
   "metadata": {},
   "source": [
    "## Split Dataset"
   ]
  },
  {
   "cell_type": "code",
   "execution_count": 3,
   "metadata": {},
   "outputs": [
    {
     "name": "stdout",
     "output_type": "stream",
     "text": [
      "Number of nodes = 2708\n",
      "Number of edges = 10556\n",
      "Training edges = 8444\n",
      "Validation edges = 1056\n",
      "Test edges = 1056\n"
     ]
    }
   ],
   "source": [
    "# set device\n",
    "device = torch.device('cuda:1' if torch.cuda.is_available() else 'cpu')\n",
    "\n",
    "# load data\n",
    "name = 'Cora'\n",
    "dataset = Planetoid('../datasets/'+ name, name=name)\n",
    "data = dataset.data\n",
    "\n",
    "# random sampling edges\n",
    "train_frac = 0.8\n",
    "val_frac = 0.1\n",
    "test_frac = 0.1\n",
    "\n",
    "# split edges\n",
    "edges = data.edge_index.detach().cpu().numpy().T\n",
    "edge_train, edge_test = train_test_split(edges, train_size=train_frac, random_state=42)\n",
    "edge_val, edge_test = train_test_split(\n",
    "    edge_test, \n",
    "    train_size=val_frac/(test_frac + val_frac), \n",
    "    random_state=42\n",
    ")\n",
    "\n",
    "# create train, validation, test positive edges\n",
    "data.edge_train = torch.Tensor(edge_train).long().t()\n",
    "data.edge_val = torch.Tensor(edge_val).long().t()\n",
    "data.edge_test = torch.Tensor(edge_test).long().t()\n",
    "data.y_train = torch.ones(len(edge_train), 1).long().t()\n",
    "data.y_val = torch.ones(len(edge_val), 1).long().t()\n",
    "data.y_test = torch.ones(len(edge_test), 1).long().t()\n",
    "\n",
    "# create adjacency matrix\n",
    "data.adj = to_dense_adj(add_self_loops(data.edge_train)[0])[0]\n",
    "\n",
    "# to device (GPU default)\n",
    "data = dataset.data.to(device)\n",
    "\n",
    "# record the \n",
    "num_nodes = data.x.shape[0]\n",
    "num_edges = data.edge_index.shape[1]\n",
    "num_train = len(data.edge_train.t())\n",
    "num_val = len(data.edge_val.t())\n",
    "num_test = len(data.edge_test.t())\n",
    "\n",
    "print('Number of nodes =', num_nodes)\n",
    "print('Number of edges =', num_edges)\n",
    "print('Training edges =', num_train)\n",
    "print('Validation edges =', num_val)\n",
    "print('Test edges =', num_test)"
   ]
  },
  {
   "cell_type": "markdown",
   "metadata": {},
   "source": [
    "## Compile Model"
   ]
  },
  {
   "cell_type": "code",
   "execution_count": 4,
   "metadata": {},
   "outputs": [],
   "source": [
    "from tqdm import tqdm\n",
    "\n",
    "NUMEPOCHS = 30000\n",
    "early_stop_win_size = 100\n",
    "tolerance = 1.00\n",
    "\n",
    "# compile model\n",
    "in_dim = data.x.shape[1]\n",
    "\n",
    "model = Net(\n",
    "    in_dim,\n",
    "    50,\n",
    "    data\n",
    ").to(device)\n",
    "\n",
    "optimizer = torch.optim.Adamax(model.parameters(), weight_decay=1e-4)\n",
    "\n",
    "criterion = torch.nn.modules.loss.BCELoss()"
   ]
  },
  {
   "cell_type": "markdown",
   "metadata": {},
   "source": [
    "# Training"
   ]
  },
  {
   "cell_type": "code",
   "execution_count": 5,
   "metadata": {},
   "outputs": [],
   "source": [
    "# get the initial injection\n",
    "injection_init = model.injection.detach().cpu().numpy()"
   ]
  },
  {
   "cell_type": "code",
   "execution_count": 6,
   "metadata": {},
   "outputs": [
    {
     "name": "stdout",
     "output_type": "stream",
     "text": [
      "0 , train loss = 0.6931598782539368 , val loss = 0.6932029724121094\n",
      "500 , train loss = 0.5344206690788269 , val loss = 0.6522175669670105\n",
      "1000 , train loss = 0.5151882767677307 , val loss = 0.6744700074195862\n",
      "1500 , train loss = 0.4186982214450836 , val loss = 0.8156817555427551\n",
      "2000 , train loss = 0.33507758378982544 , val loss = 0.8547941446304321\n",
      "2500 , train loss = 0.2860386073589325 , val loss = 0.9230919480323792\n",
      "3000 , train loss = 0.2681230902671814 , val loss = 0.9923494458198547\n",
      "3500 , train loss = 0.27291378378868103 , val loss = 1.0156619548797607\n",
      "4000 , train loss = 0.23717224597930908 , val loss = 1.0591826438903809\n",
      "4500 , train loss = 0.22937753796577454 , val loss = 1.0599242448806763\n",
      "5000 , train loss = 0.2086530327796936 , val loss = 1.0745768547058105\n",
      "5500 , train loss = 0.2185036987066269 , val loss = 1.1416006088256836\n",
      "6000 , train loss = 0.19853830337524414 , val loss = 1.1112240552902222\n",
      "6500 , train loss = 0.19646669924259186 , val loss = 1.0857295989990234\n",
      "7000 , train loss = 0.2067531794309616 , val loss = 1.148762822151184\n",
      "7500 , train loss = 0.22608676552772522 , val loss = 1.1354212760925293\n",
      "8000 , train loss = 0.19384649395942688 , val loss = 1.152343988418579\n",
      "8500 , train loss = 0.18386583030223846 , val loss = 1.145941138267517\n",
      "9000 , train loss = 0.17146144807338715 , val loss = 1.0795694589614868\n",
      "9500 , train loss = 0.17769448459148407 , val loss = 1.1137841939926147\n",
      "10000 , train loss = 0.17956553399562836 , val loss = 1.127568244934082\n",
      "10500 , train loss = 0.16420282423496246 , val loss = 1.0852426290512085\n",
      "11000 , train loss = 0.16785667836666107 , val loss = 1.133339762687683\n",
      "11500 , train loss = 0.1733408421278 , val loss = 1.1234177350997925\n",
      "12000 , train loss = 0.1812029331922531 , val loss = 1.0522503852844238\n",
      "12500 , train loss = 0.1588880568742752 , val loss = 1.0611751079559326\n",
      "13000 , train loss = 0.17940066754817963 , val loss = 1.0686591863632202\n",
      "13500 , train loss = 0.15488752722740173 , val loss = 1.1123034954071045\n",
      "14000 , train loss = 0.15716995298862457 , val loss = 1.10158371925354\n",
      "14500 , train loss = 0.1774156391620636 , val loss = 1.083675503730774\n",
      "15000 , train loss = 0.1493678241968155 , val loss = 1.1328340768814087\n",
      "15500 , train loss = 0.14693382382392883 , val loss = 1.0751991271972656\n",
      "16000 , train loss = 0.14983093738555908 , val loss = 1.0489811897277832\n",
      "16500 , train loss = 0.14698798954486847 , val loss = 1.053571343421936\n",
      "17000 , train loss = 0.13989564776420593 , val loss = 1.0490801334381104\n",
      "17500 , train loss = 0.13206732273101807 , val loss = 1.0561435222625732\n",
      "18000 , train loss = 0.1308620423078537 , val loss = 1.022147297859192\n",
      "18500 , train loss = 0.1323222815990448 , val loss = 1.046661615371704\n",
      "19000 , train loss = 0.12272008508443832 , val loss = 1.017246127128601\n",
      "19500 , train loss = 0.16049697995185852 , val loss = 1.0174635648727417\n",
      "20000 , train loss = 0.12354956567287445 , val loss = 0.9941533207893372\n",
      "20500 , train loss = 0.12992353737354279 , val loss = 0.9861020445823669\n",
      "21000 , train loss = 0.12022309750318527 , val loss = 0.9943358898162842\n",
      "21500 , train loss = 0.1185750961303711 , val loss = 0.9654040932655334\n",
      "22000 , train loss = 0.12448925524950027 , val loss = 0.9525284171104431\n",
      "22500 , train loss = 0.11446135491132736 , val loss = 0.9854183793067932\n",
      "23000 , train loss = 0.11536921560764313 , val loss = 0.9456586241722107\n",
      "23500 , train loss = 0.12078281491994858 , val loss = 0.9597190022468567\n",
      "24000 , train loss = 0.12419512122869492 , val loss = 0.958918571472168\n",
      "24500 , train loss = 0.11426592618227005 , val loss = 0.9494895935058594\n",
      "25000 , train loss = 0.11752786487340927 , val loss = 0.9482000470161438\n",
      "25500 , train loss = 0.11487419903278351 , val loss = 0.9070104956626892\n",
      "26000 , train loss = 0.11612475663423538 , val loss = 0.892927348613739\n",
      "26500 , train loss = 0.11454330384731293 , val loss = 0.9131717681884766\n",
      "27000 , train loss = 0.10747470706701279 , val loss = 0.8794390559196472\n",
      "27500 , train loss = 0.12306161969900131 , val loss = 0.8660573363304138\n",
      "28000 , train loss = 0.11134693026542664 , val loss = 0.9008042216300964\n",
      "28500 , train loss = 0.11716770380735397 , val loss = 0.8480719923973083\n",
      "29000 , train loss = 0.10872941464185715 , val loss = 0.8512516021728516\n",
      "29500 , train loss = 0.11320015043020248 , val loss = 0.9038887619972229\n"
     ]
    }
   ],
   "source": [
    "# record accuracy\n",
    "train_loss = np.zeros(NUMEPOCHS)\n",
    "val_loss = np.zeros(NUMEPOCHS)\n",
    "test_loss = np.zeros(NUMEPOCHS)\n",
    "\n",
    "# tracking injection\n",
    "injection_sum = np.zeros(NUMEPOCHS)\n",
    "\n",
    "# negative sampling\n",
    "edge_test, y_test = balanced_samples(data.edge_test, num_nodes)\n",
    "y_test_injected = model.get_weight(data, edge_test)\n",
    "\n",
    "# training start\n",
    "for epoch in range(NUMEPOCHS):\n",
    "    # negative sampling\n",
    "    edge_train, y_train = balanced_samples(data.edge_train, num_nodes)\n",
    "    edge_val, y_val = balanced_samples(data.edge_val, num_nodes)\n",
    "    \n",
    "    # consistent with prediction\n",
    "    y_train = model.get_weight(data, edge_train)\n",
    "    \n",
    "    model.train()\n",
    "    optimizer.zero_grad()\n",
    "    out = model(data, edge_train)\n",
    "    loss = criterion(out, y_train.float())\n",
    "    loss.backward()\n",
    "    optimizer.step()\n",
    "    \n",
    "    # record the loss\n",
    "    train_loss[epoch] = loss.item()\n",
    "    model.eval()\n",
    "    val_loss[epoch] = criterion(model(data, edge_val), y_val.float()).item()\n",
    "    test_loss[epoch] = criterion(model(data, edge_test), y_test.float()).item()\n",
    "    \n",
    "    # get the injection\n",
    "    injection = F.relu(model.injection.detach()).cpu().numpy()\n",
    "    injection_sum[epoch] = np.sum(injection)\n",
    "\n",
    "    if epoch % 500 == 0:\n",
    "        print(\n",
    "            epoch, \n",
    "            ', train loss =', loss.item(),\n",
    "            ', val loss =', val_loss[epoch], \n",
    "        )"
   ]
  },
  {
   "cell_type": "code",
   "execution_count": 7,
   "metadata": {},
   "outputs": [],
   "source": [
    "# get the initial injection\n",
    "injection_final = F.relu(model.injection.detach()).cpu().numpy()"
   ]
  },
  {
   "cell_type": "code",
   "execution_count": 8,
   "metadata": {},
   "outputs": [
    {
     "name": "stdout",
     "output_type": "stream",
     "text": [
      "Initial injection = \n",
      " [[0.01 0.01 0.01 ... 0.01 0.01 0.01]\n",
      " [0.01 0.01 0.01 ... 0.01 0.01 0.01]\n",
      " [0.01 0.01 0.01 ... 0.01 0.01 0.01]\n",
      " ...\n",
      " [0.01 0.01 0.01 ... 0.01 0.01 0.01]\n",
      " [0.01 0.01 0.01 ... 0.01 0.01 0.01]\n",
      " [0.01 0.01 0.01 ... 0.01 0.01 0.01]]\n",
      "\n",
      "Sum inital = 73333\n",
      "\n",
      "Final injection = \n",
      " [[3.4331506e-06 6.6448725e-03 0.0000000e+00 ... 2.4269152e-02\n",
      "  8.0013191e-03 0.0000000e+00]\n",
      " [0.0000000e+00 0.0000000e+00 2.2566151e-03 ... 0.0000000e+00\n",
      "  9.3618399e-03 0.0000000e+00]\n",
      " [0.0000000e+00 6.1976811e-05 0.0000000e+00 ... 0.0000000e+00\n",
      "  0.0000000e+00 0.0000000e+00]\n",
      " ...\n",
      " [0.0000000e+00 0.0000000e+00 0.0000000e+00 ... 0.0000000e+00\n",
      "  6.4644269e-03 0.0000000e+00]\n",
      " [0.0000000e+00 0.0000000e+00 0.0000000e+00 ... 3.1382997e-02\n",
      "  7.6888606e-04 2.2911239e-05]\n",
      " [0.0000000e+00 0.0000000e+00 0.0000000e+00 ... 2.7304193e-02\n",
      "  0.0000000e+00 0.0000000e+00]]\n",
      "\n",
      "Sum final = 17102\n",
      "\n"
     ]
    }
   ],
   "source": [
    "print('Initial injection = \\n', injection_init)\n",
    "print('\\nSum inital = %d\\n' % np.sum(injection_init))\n",
    "print('Final injection = \\n', injection_final)\n",
    "print('\\nSum final = %d\\n' % np.sum(injection_final))"
   ]
  },
  {
   "cell_type": "code",
   "execution_count": 27,
   "metadata": {},
   "outputs": [],
   "source": [
    "np.save('../variables/injection_sum_sage', injection_sum)\n",
    "np.save('../variables/injection_final_sage', injection_final)\n",
    "np.save('../variables/injection_init_sage', injection_init)"
   ]
  },
  {
   "cell_type": "code",
   "execution_count": 9,
   "metadata": {},
   "outputs": [
    {
     "data": {
      "image/png": "[encoded data removed]",
      "text/plain": [
       "<Figure size 432x288 with 1 Axes>"
      ]
     },
     "metadata": {
      "needs_background": "light"
     },
     "output_type": "display_data"
    }
   ],
   "source": [
    "df_acc = pd.DataFrame({\n",
    "    'train': train_loss,\n",
    "    'validation': val_loss,\n",
    "    'test': test_loss\n",
    "})\n",
    "\n",
    "sns.lineplot(data=df_acc)\n",
    "plt.show()"
   ]
  },
  {
   "cell_type": "code",
   "execution_count": 10,
   "metadata": {},
   "outputs": [
    {
     "name": "stdout",
     "output_type": "stream",
     "text": [
      "Train Accuracy: 0.9787\n",
      "Validation Accuracy: 0.9228\n",
      "Test Accuracy: 0.9242\n",
      "Train Precision: 0.9593\n",
      "Validation Precision: 0.9570\n",
      "Test Precision: 0.9553\n",
      "Train Recall: 0.9998\n",
      "Validation Recall: 0.8854\n",
      "Test Recall: 0.8902\n"
     ]
    }
   ],
   "source": [
    "edge_train, y_train = balanced_samples(data.edge_train, num_nodes)\n",
    "edge_val, y_val = balanced_samples(data.edge_val, num_nodes)\n",
    "edge_test, y_test = balanced_samples(data.edge_test, num_nodes)\n",
    "\n",
    "train_score = model(data, edge_train).detach().cpu().numpy().ravel()\n",
    "val_score = model(data, edge_val).detach().cpu().numpy().ravel()\n",
    "test_score = model(data, edge_test).detach().cpu().numpy().ravel()\n",
    "\n",
    "train_pred = (train_score > 0.5).astype(np.int8)\n",
    "val_pred = (val_score > 0.5).astype(np.int8)\n",
    "test_pred = (test_score > 0.5).astype(np.int8)\n",
    "\n",
    "print('Train Accuracy: {:.4f}'.format(accuracy(train_pred, y_train)))\n",
    "print('Validation Accuracy: {:.4f}'.format(accuracy(val_pred, y_val)))\n",
    "print('Test Accuracy: {:.4f}'.format(accuracy(test_pred, y_test)))\n",
    "\n",
    "print('Train Precision: {:.4f}'.format(precision(train_pred, y_train)))\n",
    "print('Validation Precision: {:.4f}'.format(precision(val_pred, y_val)))\n",
    "print('Test Precision: {:.4f}'.format(precision(test_pred, y_test)))\n",
    "\n",
    "print('Train Recall: {:.4f}'.format(recall(train_pred, y_train)))\n",
    "print('Validation Recall: {:.4f}'.format(recall(val_pred, y_val)))\n",
    "print('Test Recall: {:.4f}'.format(recall(test_pred, y_test)))"
   ]
  },
  {
   "cell_type": "code",
   "execution_count": 11,
   "metadata": {},
   "outputs": [
    {
     "name": "stdout",
     "output_type": "stream",
     "text": [
      "0.93286\n",
      "0.9632400000000001\n",
      "0.90022\n",
      "0.004486245646417502\n",
      "0.010954195543261038\n",
      "0.90022\n"
     ]
    }
   ],
   "source": [
    "test_acc_all = np.array([0.9328, 0.9247, 0.9332, 0.9356, 0.9380])\n",
    "test_precision_all = np.array([0.9644, 0.9427, 0.9654, 0.9684, 0.9753])\n",
    "test_recall_all = np.array([0.8987, 0.9044, 0.8987, 0.9006, 0.8987])\n",
    "\n",
    "print(np.mean(test_acc_all))\n",
    "print(np.mean(test_precision_all))\n",
    "print(np.mean(test_recall_all))\n",
    "\n",
    "print(np.std(test_acc_all))\n",
    "print(np.std(test_precision_all))\n",
    "print(np.mean(test_recall_all))"
   ]
  },
  {
   "cell_type": "code",
   "execution_count": 12,
   "metadata": {},
   "outputs": [
    {
     "name": "stdout",
     "output_type": "stream",
     "text": [
      "$93.29\\pm0.45$\n",
      "$96.32\\pm1.10$\n",
      "$90.02\\pm0.22$\n"
     ]
    }
   ],
   "source": [
    "# for latex\n",
    "print('$%.2f\\pm%.2f$' % (np.mean(test_acc_all) * 100, np.std(test_acc_all) * 100))\n",
    "print('$%.2f\\pm%.2f$' % (np.mean(test_precision_all) * 100, np.std(test_precision_all) * 100))\n",
    "print('$%.2f\\pm%.2f$' % (np.mean(test_recall_all) * 100, np.std(test_recall_all) * 100))"
   ]
  },
  {
   "cell_type": "code",
   "execution_count": 13,
   "metadata": {},
   "outputs": [
    {
     "name": "stdout",
     "output_type": "stream",
     "text": [
      "[[1208  187]\n",
      " [2666 2665]\n",
      " [1059 1600]\n",
      " ...\n",
      " [2565 2255]\n",
      " [ 968  475]\n",
      " [ 333 1161]]\n",
      "[0.75991875 0.6947593  0.629517   ... 0.0615881  0.06158794 0.06158615]\n",
      "(10556, 2)\n",
      "(10556,)\n"
     ]
    },
    {
     "data": {
      "image/png": "[encoded data removed]",
      "text/plain": [
       "<Figure size 432x288 with 1 Axes>"
      ]
     },
     "metadata": {
      "needs_background": "light"
     },
     "output_type": "display_data"
    }
   ],
   "source": [
    "# get non-zero injected links\n",
    "indexes = injection_final.nonzero()\n",
    "index_arr = np.stack(indexes)\n",
    "values = injection_final[indexes]\n",
    "\n",
    "# sort injected links\n",
    "sorted_idx = np.flip(np.argsort(values))\n",
    "\n",
    "sorted_index = index_arr[:, sorted_idx]\n",
    "sorted_values = values[sorted_idx]\n",
    "\n",
    "# get the largest N out\n",
    "num_edges = data.edge_index.size(1)\n",
    "pred_index = sorted_index[:, :num_edges].T\n",
    "pred_values = sorted_values[:num_edges]\n",
    "print(pred_index)\n",
    "print(pred_values)\n",
    "print(pred_index.shape)\n",
    "print(pred_values.shape)\n",
    "\n",
    "sns.distplot(pred_values, hist=False)\n",
    "plt.show()"
   ]
  },
  {
   "cell_type": "code",
   "execution_count": 14,
   "metadata": {},
   "outputs": [],
   "source": [
    "if False:\n",
    "    np.save('../variables/sorted_SAGE_injection', sorted_index)\n",
    "    np.save('../variables/sorted_SAGE_weights', sorted_values)"
   ]
  },
  {
   "cell_type": "code",
   "execution_count": 15,
   "metadata": {},
   "outputs": [
    {
     "name": "stdout",
     "output_type": "stream",
     "text": [
      "[[1208  187]\n",
      " [2666 2665]\n",
      " [1059 1600]\n",
      " [ 278 2622]\n",
      " [1853 2622]\n",
      " [ 560  585]\n",
      " [ 947 2622]\n",
      " [ 555 2622]\n",
      " [ 278  991]\n",
      " [ 555  991]]\n",
      "[0.75991875 0.6947593  0.629517   0.50076467 0.49579364 0.4817468\n",
      " 0.4757535  0.47420868 0.46106422 0.4605792 ]\n"
     ]
    }
   ],
   "source": [
    "# get the highest score out\n",
    "print(pred_index[:10])\n",
    "print(pred_values[:10])"
   ]
  },
  {
   "cell_type": "code",
   "execution_count": 16,
   "metadata": {},
   "outputs": [],
   "source": [
    "def show_ego_graph(data, index):\n",
    "    # convert to graph\n",
    "    G = torch_geometric.utils.to_networkx(\n",
    "        dataset.data, node_attrs=None, edge_attrs=None\n",
    "    )\n",
    "\n",
    "    # Create ego graph of main hub\n",
    "    hub_ego = nx.ego_graph(G, index, radius=2)\n",
    "\n",
    "    # Draw graph\n",
    "    pos = nx.spring_layout(hub_ego)\n",
    "    nx.draw(hub_ego, pos, node_color='b', node_size=50, with_labels=False)\n",
    "\n",
    "    # Draw ego as large and red\n",
    "    nx.draw_networkx_nodes(hub_ego, pos, nodelist=[index], node_size=100, node_color='r')\n",
    "    plt.show()\n",
    "\n",
    "def show_link_graph(data, src, dst, numbering=None):\n",
    "    # convert to graph\n",
    "    G = torch_geometric.utils.to_networkx(\n",
    "        dataset.data, node_attrs=None, edge_attrs=None\n",
    "    )\n",
    "\n",
    "    # Create ego graph of main hub\n",
    "    src_ego = nx.ego_graph(G, src, radius=2)\n",
    "    dst_ego = nx.ego_graph(G, dst, radius=2)\n",
    "    \n",
    "    hub_ego = nx.algorithms.operators.binary.compose(src_ego, dst_ego)\n",
    "    \n",
    "    f = plt.figure(figsize=(8, 6))\n",
    "    \n",
    "    # Draw graph\n",
    "    pos = nx.spring_layout(hub_ego)\n",
    "    nx.draw(hub_ego, pos, node_color='b', node_size=50, with_labels=False, alpha=0.2)\n",
    "    \n",
    "    # Draw ego as large and red\n",
    "    nx.draw_networkx_nodes(hub_ego, pos, nodelist=[src, dst], node_size=100, node_color='r', alpha=0.8)\n",
    "    if numbering is None:\n",
    "        f.savefig(\"link_graph.pdf\", bbox_inches='tight')\n",
    "    else:\n",
    "        f.savefig(\"link_graph_%d.pdf\" % numbering, bbox_inches='tight')\n",
    "    plt.show()"
   ]
  },
  {
   "cell_type": "code",
   "execution_count": 17,
   "metadata": {},
   "outputs": [
    {
     "name": "stderr",
     "output_type": "stream",
     "text": [
      "/home/jayroxis/venv/lib/python3.6/site-packages/networkx/drawing/nx_pylab.py:579: MatplotlibDeprecationWarning: \n",
      "The iterable function was deprecated in Matplotlib 3.1 and will be removed in 3.3. Use np.iterable instead.\n",
      "  if not cb.iterable(width):\n",
      "/home/jayroxis/venv/lib/python3.6/site-packages/networkx/drawing/nx_pylab.py:676: MatplotlibDeprecationWarning: \n",
      "The iterable function was deprecated in Matplotlib 3.1 and will be removed in 3.3. Use np.iterable instead.\n",
      "  if cb.iterable(node_size):  # many node sizes\n"
     ]
    },
    {
     "data": {
      "image/png": "[encoded data removed]",
      "text/plain": [
       "<Figure size 576x432 with 1 Axes>"
      ]
     },
     "metadata": {},
     "output_type": "display_data"
    }
   ],
   "source": [
    "show_link_graph(data, pred_index[0][0], pred_index[0][1])"
   ]
  },
  {
   "cell_type": "markdown",
   "metadata": {},
   "source": [
    "### Top 50 Shortest Path"
   ]
  },
  {
   "cell_type": "code",
   "execution_count": 18,
   "metadata": {},
   "outputs": [
    {
     "name": "stdout",
     "output_type": "stream",
     "text": [
      "1208 187 [1208] 1\n",
      "2666 2665 [2666] 1\n",
      "1059 1600 [1059] 1\n",
      "278 2622 False\n",
      "1853 2622 False\n",
      "560 585 [560] 1\n",
      "947 2622 False\n",
      "555 2622 False\n",
      "278 991 False\n",
      "555 991 False\n",
      "1853 991 False\n",
      "475 2622 False\n",
      "2589 2622 False\n",
      "1700 2622 False\n",
      "1612 2622 False\n",
      "63 2622 False\n",
      "774 2526 [774] 1\n",
      "947 991 False\n",
      "475 991 False\n",
      "1612 991 False\n",
      "63 991 False\n",
      "2589 991 False\n",
      "1125 2622 False\n",
      "1811 2622 False\n",
      "1700 991 False\n",
      "1358 2158 False\n",
      "1125 991 False\n",
      "241 1701 [241] 1\n",
      "2273 1701 [2273] 1\n",
      "50 1701 [50] 1\n",
      "947 1698 False\n",
      "1161 2622 False\n",
      "635 2622 False\n",
      "1811 991 False\n",
      "2696 2622 False\n",
      "1707 1701 [1707] 1\n",
      "224 1701 [224] 1\n",
      "648 1701 [648] 1\n",
      "1060 1701 [1060] 1\n",
      "2271 1701 [2271] 1\n",
      "212 2622 False\n",
      "786 2622 False\n",
      "1238 1701 [1238] 1\n",
      "1875 1701 [1875] 1\n",
      "882 1701 [882] 1\n",
      "635 991 False\n",
      "501 1701 [501] 1\n",
      "1358 769 [1358] 1\n",
      "2696 991 False\n",
      "1161 991 False\n"
     ]
    }
   ],
   "source": [
    "G = torch_geometric.utils.to_networkx(\n",
    "        dataset.data, node_attrs=None, edge_attrs=None\n",
    "    )\n",
    "\n",
    "for src, dst in pred_index[:50]:\n",
    "    if nx.has_path(G, source=src, target=dst):\n",
    "        shortest_path = nx.shortest_path(G, source=src, target=src)\n",
    "        print(src, dst, shortest_path, len(shortest_path))\n",
    "    else:\n",
    "        print(src, dst, nx.has_path(G, source=src, target=dst))"
   ]
  },
  {
   "cell_type": "markdown",
   "metadata": {},
   "source": [
    "### Top Injected Links (Predicted Use Link Injection)"
   ]
  },
  {
   "cell_type": "code",
   "execution_count": 19,
   "metadata": {},
   "outputs": [],
   "source": [
    "path_length = []\n",
    "src_list, dst_list = [], []\n",
    "\n",
    "for src, dst in pred_index:\n",
    "    src_list.append(src)\n",
    "    dst_list.append(dst)\n",
    "    if nx.has_path(G, source=src, target=dst):\n",
    "        shortest_path = nx.shortest_path(G, source=src, target=src)\n",
    "        path_length.append(len(shortest_path))\n",
    "    else:\n",
    "        path_length.append(0)\n",
    "        \n",
    "path_length = np.array(path_length)"
   ]
  },
  {
   "cell_type": "code",
   "execution_count": 20,
   "metadata": {},
   "outputs": [
    {
     "name": "stdout",
     "output_type": "stream",
     "text": [
      "0.6987495263357333\n",
      "0.0\n",
      "0.30125047366426677\n",
      "5157.391823899371\n"
     ]
    }
   ],
   "source": [
    "num_pred = pred_index.shape[0]\n",
    "\n",
    "direct_link = np.sum(path_length == 1) / num_pred # directed connected,i.e., neighbors\n",
    "indirect_link = np.sum(path_length > 1)/ num_pred # have a path between but not neighbors\n",
    "unconnected = np.sum(path_length == 0) / num_pred # directed connected,i.e., neighbors\n",
    "unconnected_pos = np.where(path_length == 0)[0]\n",
    "\n",
    "print(direct_link)\n",
    "print(indirect_link)\n",
    "print(unconnected)\n",
    "print(np.mean(unconnected_pos))"
   ]
  },
  {
   "cell_type": "code",
   "execution_count": 21,
   "metadata": {},
   "outputs": [
    {
     "data": {
      "text/plain": [
       "7701.0"
      ]
     },
     "execution_count": 21,
     "metadata": {},
     "output_type": "execute_result"
    }
   ],
   "source": [
    "0.7295377036756348 * 10556"
   ]
  },
  {
   "cell_type": "code",
   "execution_count": 22,
   "metadata": {
    "scrolled": false
   },
   "outputs": [
    {
     "name": "stdout",
     "output_type": "stream",
     "text": [
      "3 [ 278 2622]\n",
      "tensor(3, device='cuda:1') tensor(6, device='cuda:1')\n"
     ]
    },
    {
     "data": {
      "image/png": "[encoded data removed]",
      "text/plain": [
       "<Figure size 576x432 with 1 Axes>"
      ]
     },
     "metadata": {},
     "output_type": "display_data"
    },
    {
     "name": "stdout",
     "output_type": "stream",
     "text": [
      "4 [1853 2622]\n",
      "tensor(3, device='cuda:1') tensor(6, device='cuda:1')\n"
     ]
    },
    {
     "data": {
      "image/png": "[encoded data removed]",
      "text/plain": [
       "<Figure size 576x432 with 1 Axes>"
      ]
     },
     "metadata": {},
     "output_type": "display_data"
    },
    {
     "name": "stdout",
     "output_type": "stream",
     "text": [
      "6 [ 947 2622]\n",
      "tensor(4, device='cuda:1') tensor(6, device='cuda:1')\n"
     ]
    },
    {
     "data": {
      "image/png": "[encoded data removed]",
      "text/plain": [
       "<Figure size 576x432 with 1 Axes>"
      ]
     },
     "metadata": {},
     "output_type": "display_data"
    },
    {
     "name": "stdout",
     "output_type": "stream",
     "text": [
      "7 [ 555 2622]\n",
      "tensor(3, device='cuda:1') tensor(6, device='cuda:1')\n"
     ]
    },
    {
     "data": {
      "image/png": "[encoded data removed]",
      "text/plain": [
       "<Figure size 576x432 with 1 Axes>"
      ]
     },
     "metadata": {},
     "output_type": "display_data"
    },
    {
     "name": "stdout",
     "output_type": "stream",
     "text": [
      "8 [278 991]\n",
      "tensor(3, device='cuda:1') tensor(6, device='cuda:1')\n"
     ]
    },
    {
     "data": {
      "image/png": "[encoded data removed]",
      "text/plain": [
       "<Figure size 576x432 with 1 Axes>"
      ]
     },
     "metadata": {},
     "output_type": "display_data"
    }
   ],
   "source": [
    "for i in range(5):\n",
    "    idx = unconnected_pos[i]\n",
    "    print(idx, pred_index[idx])\n",
    "    src = pred_index[idx][0]\n",
    "    dst = pred_index[idx][1]\n",
    "    print(data.y[src], data.y[dst])\n",
    "    show_link_graph(data, src, dst, numbering=i+1)"
   ]
  },
  {
   "cell_type": "markdown",
   "metadata": {},
   "source": [
    "### Link Injected (Not In Training Set) Found in Orginal Graph"
   ]
  },
  {
   "cell_type": "code",
   "execution_count": 23,
   "metadata": {},
   "outputs": [
    {
     "name": "stdout",
     "output_type": "stream",
     "text": [
      "0 4715 [1208  187] [1208  187]\n",
      "1 10449 [2666 2665] [2666 2665]\n",
      "2 4113 [1059 1600] [1059 1600]\n",
      "43 7618 [1875 1701] [1875 1701]\n",
      "101 4829 [1238 1358] [1238 1358]\n",
      "106 906 [ 215 1701] [ 215 1701]\n",
      "125 5918 [1492 1358] [1492 1358]\n",
      "128 7077 [1752 1358] [1752 1358]\n",
      "172 10276 [2569  380] [2569  380]\n",
      "179 4722 [1212 1701] [1212 1701]\n",
      "182 1568 [ 385 2484] [ 385 2484]\n",
      "213 6850 [1709 1358] [1709 1358]\n",
      "306 3312 [ 832 2600] [ 832 2600]\n",
      "345 8142 [1986  335] [1986  335]\n",
      "359 856 [ 198 1255] [ 198 1255]\n",
      "426 5297 [1358  686] [1358  686]\n",
      "455 533 [ 117 2537] [ 117 2537]\n",
      "466 88 [26 99] [26 99]\n",
      "516 5418 [1358 1760] [1358 1760]\n",
      "551 5331 [1358 1123] [1358 1123]\n",
      "570 5851 [1476 1170] [1476 1170]\n",
      "637 1566 [385 369] [385 369]\n",
      "642 5259 [1358   34] [1358   34]\n",
      "686 5850 [1476  404] [1476  404]\n",
      "888 4588 [1171 1855] [1171 1855]\n",
      "1041 5712 [1439  200] [1439  200]\n",
      "1072 6105 [1542  216] [1542  216]\n",
      "1194 532 [117 259] [117 259]\n",
      "1371 6281 [1589  101] [1589  101]\n",
      "1381 6762 [1701 1100] [1701 1100]\n",
      "1521 1160 [ 287 2705] [ 287 2705]\n",
      "1686 6741 [1701  235] [1701  235]\n",
      "1815 92 [  26 2455] [  26 2455]\n",
      "1907 6760 [1701 1052] [1701 1052]\n",
      "1920 393 [ 92 898] [ 92 898]\n",
      "2079 6785 [1701 1860] [1701 1860]\n",
      "2099 1330 [316 143] [316 143]\n",
      "2258 8418 [2038  293] [2038  293]\n",
      "2264 3562 [ 898 2160] [ 898 2160]\n",
      "2401 6749 [1701  547] [1701  547]\n",
      "2618 5013 [1290 2258] [1290 2258]\n",
      "2651 6779 [1701 1854] [1701 1854]\n",
      "2706 2684 [662 932] [662 932]\n",
      "2715 2935 [ 733 2035] [ 733 2035]\n",
      "2904 8403 [2034 2036] [2034 2036]\n",
      "2985 3244 [813 339] [813 339]\n",
      "3083 4291 [1101 2146] [1101 2146]\n",
      "3234 8883 [2148  509] [2148  509]\n",
      "3261 76 [  23 2159] [  23 2159]\n",
      "3959 651 [144 145] [144 145]\n",
      "4193 1147 [ 283 2250] [ 283 2250]\n",
      "4378 10000 [2462 1442] [2462 1442]\n",
      "4720 10205 [2537  259] [2537  259]\n",
      "5303 4572 [1169 1720] [1169 1720]\n",
      "5481 4453 [1138 2250] [1138 2250]\n",
      "5783 6292 [1593  144] [1593  144]\n",
      "6010 6778 [1701 1853] [1701 1853]\n",
      "6061 5153 [1328  495] [1328  495]\n",
      "6147 8937 [2160 2157] [2160 2157]\n",
      "6572 3620 [ 917 2639] [ 917 2639]\n",
      "6682 4842 [1242 1101] [1242 1101]\n",
      "6738 4110 [1056 2482] [1056 2482]\n",
      "6789 9887 [2429  250] [2429  250]\n",
      "6879 474 [ 108 2157] [ 108 2157]\n",
      "7042 10521 [2688 1554] [2688 1554]\n",
      "7044 440 [  99 2604] [  99 2604]\n",
      "7063 8940 [2161 1327] [2161 1327]\n",
      "7339 6296 [1593 1165] [1593 1165]\n",
      "7358 5155 [1328 2160] [1328 2160]\n",
      "7451 6729 [1701   13] [1701   13]\n",
      "7643 3095 [ 764 1612] [ 764 1612]\n",
      "7895 4486 [1148 1747] [1148 1747]\n",
      "7964 10067 [2484 2483] [2484 2483]\n",
      "8642 3698 [ 953 2565] [ 953 2565]\n",
      "8685 758 [ 168 2438] [ 168 2438]\n",
      "8867 439 [  99 2455] [  99 2455]\n",
      "9157 5129 [1318 2662] [1318 2662]\n",
      "9204 10382 [2626 2625] [2626 2625]\n",
      "9355 6800 [1701 1875] [1701 1875]\n",
      "9692 10530 [2693 2636] [2693 2636]\n",
      "10145 3101 [766 845] [766 845]\n",
      "10314 6672 [1684 2486] [1684 2486]\n",
      "10530 6569 [1657 2686] [1657 2686]\n"
     ]
    }
   ],
   "source": [
    "# find out how many injected links are in the graph\n",
    "true_index = data.edge_index.cpu().numpy().T\n",
    "\n",
    "start = true_index[:, 0]\n",
    "\n",
    "unq_val, unq_idx = np.unique(start, return_index=True)\n",
    "start_dict = dict(zip(unq_val, unq_idx))\n",
    "\n",
    "correct_list = []\n",
    "for i in range(len(pred_index)):\n",
    "    pred = pred_index[i]\n",
    "    if pred[0] in start_dict:\n",
    "        begin = start_dict[pred[0]]\n",
    "        if pred[0] + 1 in start_dict:\n",
    "            end = start_dict[pred[0] + 1]\n",
    "        else:\n",
    "            end = len(true_index)\n",
    "    for j in range(begin, end):\n",
    "        true = true_index[j]\n",
    "        if np.array_equal(pred, true):\n",
    "            print(i, j, pred, true)\n",
    "            correct_list.append((i, pred))\n",
    "            break"
   ]
  },
  {
   "cell_type": "code",
   "execution_count": 24,
   "metadata": {},
   "outputs": [
    {
     "name": "stdout",
     "output_type": "stream",
     "text": [
      "hits = 83\n",
      "hit rate = 0.00786282682834407\n",
      "number of top-scored predictions = 10556\n",
      "number of edges in the graph = 10556\n",
      "p = 8.974313504503885e-09\n",
      "significance = 876148.0000000001\n"
     ]
    }
   ],
   "source": [
    "hit_rate = len(correct_list) / num_edges\n",
    "print('hits =', len(correct_list))\n",
    "print('hit rate =', hit_rate)\n",
    "print('number of top-scored predictions =', len(pred_index))\n",
    "print('number of edges in the graph =', len(true_index))\n",
    "num_options = len(true_index) ** 2\n",
    "print('p =', 1 / num_options)\n",
    "print('significance =', hit_rate * num_options)"
   ]
  },
  {
   "cell_type": "code",
   "execution_count": 25,
   "metadata": {},
   "outputs": [
    {
     "name": "stdout",
     "output_type": "stream",
     "text": [
      "4.784\\%\n"
     ]
    }
   ],
   "source": [
    "print('%.3f\\\\%%' % (0.009568018188707844 * 5 * 100))"
   ]
  },
  {
   "cell_type": "code",
   "execution_count": 26,
   "metadata": {},
   "outputs": [
    {
     "name": "stdout",
     "output_type": "stream",
     "text": [
      "MR = 3703.012048192771\n",
      "MR Ratio = 0.6492031026721512\n"
     ]
    }
   ],
   "source": [
    "MR = np.mean(np.array([item[0] for item in correct_list]))\n",
    "print('MR =', MR)\n",
    "print('MR Ratio =', 1 - MR / num_edges)"
   ]
  }
 ],
 "metadata": {
  "kernelspec": {
   "display_name": "Python 3",
   "language": "python",
   "name": "python3"
  },
  "language_info": {
   "codemirror_mode": {
    "name": "ipython",
    "version": 3
   },
   "file_extension": ".py",
   "mimetype": "text/x-python",
   "name": "python",
   "nbconvert_exporter": "python",
   "pygments_lexer": "ipython3",
   "version": "3.6.7"
  }
 },
 "nbformat": 4,
 "nbformat_minor": 2
}
