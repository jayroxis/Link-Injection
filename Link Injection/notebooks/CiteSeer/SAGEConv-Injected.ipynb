{
 "cells": [
  {
   "cell_type": "code",
   "execution_count": 1,
   "metadata": {},
   "outputs": [
    {
     "name": "stdout",
     "output_type": "stream",
     "text": [
      "Using matplotlib backend: agg\n"
     ]
    }
   ],
   "source": [
    "%matplotlib\n",
    "import torch\n",
    "import torch.nn.functional as F\n",
    "\n",
    "import torch_geometric\n",
    "# from torch_geometric.nn import SAGEConv\n",
    "from torch_geometric.datasets import Planetoid\n",
    "from torch_geometric.utils import to_dense_adj, add_self_loops\n",
    "\n",
    "import matplotlib.pyplot as plt\n",
    "import numpy as np\n",
    "import pandas as pd\n",
    "import seaborn as sns\n",
    "import scipy.io as spio\n",
    "\n",
    "import os\n",
    "os.chdir(\"../\")\n",
    "\n",
    "import sys\n",
    "sys.path.append('../scripts')\n",
    "\n",
    "from evaluation import accuracy\n",
    "from evaluation import areaundercurve\n",
    "from evaluation import average_precision_score_computation\n",
    "\n",
    "from encoders import Encoder\n",
    "from aggregators import MeanAggregator"
   ]
  },
  {
   "cell_type": "code",
   "execution_count": 2,
   "metadata": {},
   "outputs": [],
   "source": [
    "class SAGEConv(torch.nn.Module):\n",
    "    def __init__(self, in_channels, out_channels, normalize=False, bias=True):\n",
    "        super(SAGEConv, self).__init__()\n",
    "\n",
    "        self.in_channels = in_channels\n",
    "        self.out_channels = out_channels\n",
    "        self.normalize = normalize\n",
    "        self.linear = torch.nn.Linear(self.in_channels, out_channels, bias=False)\n",
    "        if bias:\n",
    "            self.bias = torch.nn.Parameter(torch.Tensor(out_channels))\n",
    "            torch.nn.init.zeros_(self.bias)\n",
    "        else:\n",
    "            self.register_parameter('bias', None)\n",
    "\n",
    "\n",
    "    def forward(self, x, adj):\n",
    "        out = torch.matmul(adj, x)\n",
    "        out = out / adj.sum(dim=-1, keepdim=True).clamp(min=1)\n",
    "        out = self.linear(out)\n",
    "\n",
    "        if self.bias is not None:\n",
    "            out = out + self.bias\n",
    "\n",
    "        if self.normalize:\n",
    "            out = F.normalize(out, p=2, dim=-1)\n",
    "\n",
    "        return out\n",
    "\n",
    "class Net(torch.nn.Module):\n",
    "    def __init__(self, in_dim, out_dim, data):\n",
    "        super(Net, self).__init__()\n",
    "        self.conv1 = SAGEConv(in_dim, 16)\n",
    "        self.conv2 = SAGEConv(16, out_dim)\n",
    "        \n",
    "        injection = torch.ones_like(data.adj) * 0.01\n",
    "        injection = torch.abs(injection)\n",
    "        self.injection = torch.nn.Parameter(\n",
    "            injection, \n",
    "            requires_grad=True\n",
    "        )\n",
    "\n",
    "    def forward(self, data):\n",
    "        x, adj = data.x, data.adj\n",
    "        \n",
    "        # link injection\n",
    "        injection = F.relu(self.injection)\n",
    "        adj = adj + injection\n",
    "        adj = torch.clamp(adj, 0, 1)\n",
    "        \n",
    "        x = self.conv1(x, adj)\n",
    "        x = F.relu(x)\n",
    "        x = F.dropout(x, p=0.5, training=self.training)\n",
    "        x = self.conv2(x, adj)\n",
    "\n",
    "        return F.log_softmax(x, dim=1)"
   ]
  },
  {
   "cell_type": "code",
   "execution_count": 3,
   "metadata": {},
   "outputs": [],
   "source": [
    "from tqdm import tqdm\n",
    "\n",
    "NUMEPOCHS = 10000\n",
    "early_stop_win_size = 100\n",
    "tolerance = 0.005\n",
    "\n",
    "device = torch.device('cuda' if torch.cuda.is_available() else 'cpu')\n",
    "\n",
    "# load data\n",
    "name = 'CiteSeer'\n",
    "dataset = Planetoid('../datasets/'+ name, name=name)\n",
    "\n",
    "in_dim = dataset.num_node_features\n",
    "out_dim = dataset.num_classes\n",
    "\n",
    "data = dataset.data\n",
    "data.adj = to_dense_adj(add_self_loops(data.edge_index)[0])[0]\n",
    "data = dataset.data.to(device)\n",
    "\n",
    "# compile model\n",
    "model = Net(\n",
    "    in_dim,\n",
    "    out_dim, \n",
    "    data\n",
    ").to(device)\n",
    "\n",
    "optimizer = torch.optim.Adamax(model.parameters(), weight_decay=0.001)"
   ]
  },
  {
   "cell_type": "code",
   "execution_count": 4,
   "metadata": {},
   "outputs": [
    {
     "name": "stdout",
     "output_type": "stream",
     "text": [
      "0 training acc = 0.16666666666666666 , loss = 1.7917770147323608\n",
      "1000 training acc = 1.0 , loss = 0.009775901213288307\n",
      "2000 training acc = 1.0 , loss = 0.0062100631184875965\n",
      "3000 training acc = 1.0 , loss = 0.004933846183121204\n",
      "4000 training acc = 1.0 , loss = 0.004709283355623484\n",
      "5000 training acc = 1.0 , loss = 0.004582135006785393\n",
      "6000 training acc = 1.0 , loss = 0.004506623838096857\n",
      "7000 training acc = 1.0 , loss = 0.0044902958907186985\n",
      "8000 training acc = 1.0 , loss = 0.0044901808723807335\n",
      "9000 training acc = 1.0 , loss = 0.004490260500460863\n"
     ]
    }
   ],
   "source": [
    "# record accuracy\n",
    "train_acc = np.zeros(NUMEPOCHS)\n",
    "val_acc = np.zeros(NUMEPOCHS)\n",
    "test_acc = np.zeros(NUMEPOCHS)\n",
    "\n",
    "# training start\n",
    "model.train()\n",
    "\n",
    "for epoch in range(NUMEPOCHS):\n",
    "    optimizer.zero_grad()\n",
    "    out = model(data)\n",
    "    loss = F.nll_loss(out[data.train_mask], data.y[data.train_mask])\n",
    "    \n",
    "    loss.backward()\n",
    "    optimizer.step()\n",
    "    \n",
    "    # record the accuracy\n",
    "    train_acc[epoch] = accuracy(model, data, 'train')\n",
    "    val_acc[epoch] = accuracy(model, data, 'val')\n",
    "    test_acc[epoch] = accuracy(model, data, 'test')\n",
    "    \n",
    "    # early stopping\n",
    "    if epoch > 2 * early_stop_win_size:\n",
    "        prev_start = epoch - 2 * early_stop_win_size\n",
    "        prev_end = epoch - early_stop_win_size\n",
    "        current_start = epoch - early_stop_win_size\n",
    "        current_end = epoch\n",
    "        \n",
    "        val_acc_current = np.mean(val_acc[current_start: current_end])\n",
    "        val_acc_previous = np.mean(val_acc[prev_start: prev_end])\n",
    "        \n",
    "        if val_acc_current < val_acc_previous - tolerance:\n",
    "            train_acc = train_acc[:epoch]\n",
    "            val_acc = val_acc[:epoch]\n",
    "            test_acc = test_acc[:epoch]\n",
    "            print('Moving Average Early stopping at %d-th epoch' % epoch)\n",
    "            print(\n",
    "                'Previous validation average accuracy for %d-th to %d-th epoch: %f' % \\\n",
    "                (prev_start, prev_end, val_acc_previous)\n",
    "            )\n",
    "            print(\n",
    "                'Current validation average accuracy for %d-th to %d-th epoch: %f' % \\\n",
    "                (current_start, current_end, val_acc_current)\n",
    "            )\n",
    "            break\n",
    "    if epoch % 1000 == 0:\n",
    "        print(\n",
    "            epoch, \n",
    "            'training acc =', train_acc[epoch], \n",
    "            ', loss =', loss.item()\n",
    "        )"
   ]
  },
  {
   "cell_type": "code",
   "execution_count": 5,
   "metadata": {},
   "outputs": [
    {
     "data": {
      "image/png": "[encoded data removed]",
      "text/plain": [
       "<Figure size 432x288 with 1 Axes>"
      ]
     },
     "metadata": {
      "needs_background": "light"
     },
     "output_type": "display_data"
    }
   ],
   "source": [
    "df_acc = pd.DataFrame({\n",
    "    'train': train_acc,\n",
    "    'validation': val_acc,\n",
    "    'test': test_acc\n",
    "})\n",
    "\n",
    "sns.lineplot(data=df_acc)\n",
    "plt.show()"
   ]
  },
  {
   "cell_type": "code",
   "execution_count": 6,
   "metadata": {},
   "outputs": [],
   "source": [
    "spio.savemat('../variables/' + name + '/SAGEConv.mat',{\n",
    "    'train': train_acc,\n",
    "    'validation': val_acc,\n",
    "    'test': test_acc\n",
    "})"
   ]
  },
  {
   "cell_type": "code",
   "execution_count": 7,
   "metadata": {},
   "outputs": [
    {
     "name": "stdout",
     "output_type": "stream",
     "text": [
      "Train Accuracy: 1.0000\n",
      "Validation Accuracy: 0.7120\n",
      "Test Accuracy: 0.6980\n"
     ]
    }
   ],
   "source": [
    "print('Train Accuracy: {:.4f}'.format(accuracy(model, data, 'train')))\n",
    "print('Validation Accuracy: {:.4f}'.format(accuracy(model, data, 'val')))\n",
    "print('Test Accuracy: {:.4f}'.format(accuracy(model, data, 'test')))"
   ]
  },
  {
   "cell_type": "code",
   "execution_count": 8,
   "metadata": {},
   "outputs": [
    {
     "name": "stdout",
     "output_type": "stream",
     "text": [
      "Test AUC: 0.7985\n"
     ]
    }
   ],
   "source": [
    "print('Test AUC: {:.4f}'.format(areaundercurve(model,data,'test')))"
   ]
  },
  {
   "cell_type": "code",
   "execution_count": 11,
   "metadata": {},
   "outputs": [
    {
     "name": "stdout",
     "output_type": "stream",
     "text": [
      "0.6971999999999999\n",
      "0.80034\n",
      "0.0011661903789690613\n",
      "0.0012403225386971113\n"
     ]
    }
   ],
   "source": [
    "test_acc_all = np.array([0.6960, 0.6960, 0.6990, 0.6970, 0.6980])\n",
    "test_auc_all = np.array([0.8006, 0.8021, 0.8010, 0.7995, 0.7985])\n",
    "\n",
    "print(np.mean(test_acc_all))\n",
    "print(np.mean(test_auc_all))\n",
    "\n",
    "print(np.std(test_acc_all))\n",
    "print(np.std(test_auc_all))"
   ]
  }
 ],
 "metadata": {
  "kernelspec": {
   "display_name": "Python 3",
   "language": "python",
   "name": "python3"
  },
  "language_info": {
   "codemirror_mode": {
    "name": "ipython",
    "version": 3
   },
   "file_extension": ".py",
   "mimetype": "text/x-python",
   "name": "python",
   "nbconvert_exporter": "python",
   "pygments_lexer": "ipython3",
   "version": "3.6.7"
  }
 },
 "nbformat": 4,
 "nbformat_minor": 2
}
