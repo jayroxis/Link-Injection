{
 "cells": [
  {
   "cell_type": "code",
   "execution_count": 2,
   "metadata": {},
   "outputs": [
    {
     "name": "stdout",
     "output_type": "stream",
     "text": [
      "Using matplotlib backend: agg\n"
     ]
    }
   ],
   "source": [
    "%matplotlib\n",
    "import torch\n",
    "import torch.nn.functional as F\n",
    "\n",
    "import torch_geometric\n",
    "from torch_geometric.datasets import Planetoid\n",
    "from torch_geometric.utils import to_dense_adj, add_self_loops\n",
    "\n",
    "from sklearn.model_selection import train_test_split\n",
    "\n",
    "import matplotlib.pyplot as plt\n",
    "import numpy as np\n",
    "import pandas as pd\n",
    "import seaborn as sns\n",
    "import scipy.io as spio\n",
    "\n",
    "import os\n",
    "os.chdir(\"../\")\n",
    "\n",
    "import sys\n",
    "sys.path.append('../scripts')\n",
    "\n",
    "from eval_link_prediction import accuracy, precision, recall\n",
    "\n",
    "from link_prediction import negative_sampling, balanced_samples"
   ]
  },
  {
   "cell_type": "markdown",
   "metadata": {},
   "source": [
    "## GraphSAGE"
   ]
  },
  {
   "cell_type": "code",
   "execution_count": 2,
   "metadata": {},
   "outputs": [],
   "source": [
    "\"\"\"\n",
    "\n",
    "GraphSAGE without Neighboring Sampling\n",
    "\n",
    "\"\"\"\n",
    "\n",
    "# basic graph implementation without neighboring sampling\n",
    "class SAGEConv(torch.nn.Module):\n",
    "    def __init__(self, in_channels, out_channels, normalize=False, bias=True):\n",
    "        super(SAGEConv, self).__init__()\n",
    "\n",
    "        self.in_channels = in_channels\n",
    "        self.out_channels = out_channels\n",
    "        self.normalize = normalize\n",
    "        self.linear = torch.nn.Linear(self.in_channels, out_channels, bias=False)\n",
    "        if bias:\n",
    "            self.bias = torch.nn.Parameter(torch.Tensor(out_channels))\n",
    "            torch.nn.init.zeros_(self.bias)\n",
    "        else:\n",
    "            self.register_parameter('bias', None)\n",
    "\n",
    "\n",
    "    def forward(self, x, adj):\n",
    "        out = torch.matmul(adj, x)\n",
    "        out = out / adj.sum(dim=-1, keepdim=True).clamp(min=1)\n",
    "        out = self.linear(out)\n",
    "\n",
    "        if self.bias is not None:\n",
    "            out = out + self.bias\n",
    "\n",
    "        if self.normalize:\n",
    "            out = F.normalize(out, p=2, dim=-1)\n",
    "\n",
    "        return out\n",
    "\n",
    "# network\n",
    "class Net(torch.nn.Module):\n",
    "    def __init__(self, in_dim, out_dim):\n",
    "        super(Net, self).__init__()\n",
    "        self.conv1 = SAGEConv(in_dim, 16)\n",
    "        self.conv2 = SAGEConv(16, out_dim)\n",
    "        \n",
    "        # predict exists or not\n",
    "        self.layers = torch.nn.Sequential(\n",
    "            torch.nn.Linear(2 * out_dim, 50),\n",
    "            torch.nn.ELU(),\n",
    "            torch.nn.Linear(50, 1),\n",
    "            torch.nn.Sigmoid()\n",
    "        )\n",
    "\n",
    "    def forward(self, data, query_index):\n",
    "        x, adj = data.x, data.adj\n",
    "        \n",
    "        # generate node embeddings\n",
    "        emb = self.conv1(x, adj)\n",
    "        emb = F.relu(emb)\n",
    "        emb = F.dropout(emb, p=0.5, training=self.training)\n",
    "        emb = self.conv2(emb, adj)\n",
    "        \n",
    "        # get queried embeddings\n",
    "        emb_query = torch.cat((emb[query_index[0]], emb[query_index[1]]), dim=1)\n",
    "        \n",
    "        # using embeddings to get score out\n",
    "        score = self.layers(emb_query)\n",
    "        \n",
    "        return score"
   ]
  },
  {
   "cell_type": "markdown",
   "metadata": {},
   "source": [
    "## Compile Model"
   ]
  },
  {
   "cell_type": "code",
   "execution_count": 3,
   "metadata": {},
   "outputs": [],
   "source": [
    "from tqdm import tqdm\n",
    "\n",
    "NUMEPOCHS = 10000\n",
    "early_stop_win_size = 100\n",
    "tolerance = 1.00\n",
    "\n",
    "device = torch.device('cuda:1' if torch.cuda.is_available() else 'cpu')\n",
    "\n",
    "# load data\n",
    "name = 'Cora'\n",
    "dataset = Planetoid('../datasets/'+ name, name=name)\n",
    "data = dataset.data\n",
    "\n",
    "# compile model\n",
    "in_dim = dataset.num_node_features\n",
    "\n",
    "model = Net(\n",
    "    in_dim,\n",
    "    50\n",
    ").to(device)\n",
    "\n",
    "optimizer = torch.optim.Adamax(model.parameters(), weight_decay=1e-4)\n",
    "\n",
    "criterion = torch.nn.modules.loss.BCELoss()"
   ]
  },
  {
   "cell_type": "markdown",
   "metadata": {},
   "source": [
    "## Split Dataset"
   ]
  },
  {
   "cell_type": "code",
   "execution_count": 4,
   "metadata": {},
   "outputs": [
    {
     "name": "stdout",
     "output_type": "stream",
     "text": [
      "Number of nodes = 2708\n",
      "Number of edges = 10556\n",
      "Training edges = 8444\n",
      "Validation edges = 1056\n",
      "Test edges = 1056\n"
     ]
    }
   ],
   "source": [
    "# random sampling edges\n",
    "train_frac = 0.8\n",
    "val_frac = 0.1\n",
    "test_frac = 0.1\n",
    "\n",
    "# split edges\n",
    "edges = data.edge_index.detach().cpu().numpy().T\n",
    "edge_train, edge_test = train_test_split(edges, train_size=train_frac, random_state=42)\n",
    "edge_val, edge_test = train_test_split(\n",
    "    edge_test, \n",
    "    train_size=val_frac/(test_frac + val_frac), \n",
    "    random_state=42\n",
    ")\n",
    "\n",
    "# create train, validation, test positive edges\n",
    "data.edge_train = torch.Tensor(edge_train).long().t()\n",
    "data.edge_val = torch.Tensor(edge_val).long().t()\n",
    "data.edge_test = torch.Tensor(edge_test).long().t()\n",
    "data.y_train = torch.ones(len(edge_train), 1).long().t()\n",
    "data.y_val = torch.ones(len(edge_val), 1).long().t()\n",
    "data.y_test = torch.ones(len(edge_test), 1).long().t()\n",
    "\n",
    "# create adjacency matrix\n",
    "data.adj = to_dense_adj(add_self_loops(data.edge_train)[0])[0]\n",
    "\n",
    "# to device (GPU default)\n",
    "data = dataset.data.to(device)\n",
    "\n",
    "# record the \n",
    "num_nodes = data.x.shape[0]\n",
    "num_edges = data.edge_index.shape[1]\n",
    "num_train = len(data.edge_train.t())\n",
    "num_val = len(data.edge_val.t())\n",
    "num_test = len(data.edge_test.t())\n",
    "\n",
    "print('Number of nodes =', num_nodes)\n",
    "print('Number of edges =', num_edges)\n",
    "print('Training edges =', num_train)\n",
    "print('Validation edges =', num_val)\n",
    "print('Test edges =', num_test)"
   ]
  },
  {
   "cell_type": "markdown",
   "metadata": {},
   "source": [
    "# Training"
   ]
  },
  {
   "cell_type": "code",
   "execution_count": 5,
   "metadata": {},
   "outputs": [
    {
     "name": "stdout",
     "output_type": "stream",
     "text": [
      "0 , train loss = 0.6933265924453735 , val loss = 0.6930609941482544\n",
      "500 , train loss = 0.42418372631073 , val loss = 0.5450952649116516\n",
      "1000 , train loss = 0.31861090660095215 , val loss = 0.5453429818153381\n",
      "1500 , train loss = 0.28707432746887207 , val loss = 0.5549376010894775\n",
      "2000 , train loss = 0.2696455121040344 , val loss = 0.6092373132705688\n",
      "2500 , train loss = 0.2549297511577606 , val loss = 0.5949782133102417\n",
      "3000 , train loss = 0.21758408844470978 , val loss = 0.47048553824424744\n",
      "3500 , train loss = 0.1906585991382599 , val loss = 0.4494093060493469\n",
      "4000 , train loss = 0.18628965318202972 , val loss = 0.4330931603908539\n",
      "4500 , train loss = 0.17643152177333832 , val loss = 0.4562702775001526\n",
      "5000 , train loss = 0.1693689376115799 , val loss = 0.462918221950531\n",
      "5500 , train loss = 0.17033742368221283 , val loss = 0.45709654688835144\n",
      "6000 , train loss = 0.16943122446537018 , val loss = 0.4860110282897949\n",
      "6500 , train loss = 0.1665668785572052 , val loss = 0.47652411460876465\n",
      "7000 , train loss = 0.16200122237205505 , val loss = 0.4664130210876465\n",
      "7500 , train loss = 0.15685422718524933 , val loss = 0.4702134430408478\n",
      "8000 , train loss = 0.15891219675540924 , val loss = 0.4758850932121277\n",
      "8500 , train loss = 0.15416167676448822 , val loss = 0.4747939109802246\n",
      "9000 , train loss = 0.15282109379768372 , val loss = 0.4783015251159668\n",
      "9500 , train loss = 0.1423296183347702 , val loss = 0.46614256501197815\n"
     ]
    }
   ],
   "source": [
    "# record accuracy\n",
    "train_loss = np.zeros(NUMEPOCHS)\n",
    "val_loss = np.zeros(NUMEPOCHS)\n",
    "test_loss = np.zeros(NUMEPOCHS)\n",
    "\n",
    "# negative sampling\n",
    "edge_test, y_test = balanced_samples(data.edge_test, num_nodes)\n",
    "\n",
    "# training start\n",
    "for epoch in range(NUMEPOCHS):\n",
    "    # negative sampling\n",
    "    edge_train, y_train = balanced_samples(data.edge_train, num_nodes)\n",
    "    edge_val, y_val = balanced_samples(data.edge_val, num_nodes)\n",
    "    \n",
    "    model.train()\n",
    "    optimizer.zero_grad()\n",
    "    out = model(data, edge_train)\n",
    "    loss = criterion(out, y_train.float())\n",
    "    loss.backward()\n",
    "    optimizer.step()\n",
    "    \n",
    "    # record the accuracy\n",
    "    train_loss[epoch] = loss.item()\n",
    "    model.eval()\n",
    "    val_loss[epoch] = criterion(model(data, edge_val), y_val.float()).item()\n",
    "    test_loss[epoch] = criterion(model(data, edge_test), y_test.float()).item()\n",
    "\n",
    "    if epoch % 500 == 0:\n",
    "        print(\n",
    "            epoch, \n",
    "            ', train loss =', loss.item(),\n",
    "            ', val loss =', val_loss[epoch], \n",
    "        )"
   ]
  },
  {
   "cell_type": "code",
   "execution_count": 6,
   "metadata": {},
   "outputs": [
    {
     "data": {
      "image/png": "[encoded data removed]",
      "text/plain": [
       "<Figure size 432x288 with 1 Axes>"
      ]
     },
     "metadata": {
      "needs_background": "light"
     },
     "output_type": "display_data"
    }
   ],
   "source": [
    "df_acc = pd.DataFrame({\n",
    "    'train': train_loss,\n",
    "    'validation': val_loss,\n",
    "    'test': test_loss\n",
    "})\n",
    "\n",
    "sns.lineplot(data=df_acc)\n",
    "plt.show()"
   ]
  },
  {
   "cell_type": "code",
   "execution_count": 7,
   "metadata": {},
   "outputs": [
    {
     "name": "stdout",
     "output_type": "stream",
     "text": [
      "Train Accuracy: 0.9575\n",
      "Validation Accuracy: 0.9247\n",
      "Test Accuracy: 0.9171\n",
      "Train Precision: 0.9223\n",
      "Validation Precision: 0.9157\n",
      "Test Precision: 0.9075\n",
      "Train Recall: 0.9992\n",
      "Validation Recall: 0.9356\n",
      "Test Recall: 0.9290\n"
     ]
    }
   ],
   "source": [
    "edge_train, y_train = balanced_samples(data.edge_train, num_nodes)\n",
    "edge_val, y_val = balanced_samples(data.edge_val, num_nodes)\n",
    "edge_test, y_test = balanced_samples(data.edge_test, num_nodes)\n",
    "\n",
    "train_score = model(data, edge_train).detach().cpu().numpy().ravel()\n",
    "val_score = model(data, edge_val).detach().cpu().numpy().ravel()\n",
    "test_score = model(data, edge_test).detach().cpu().numpy().ravel()\n",
    "\n",
    "train_pred = (train_score > 0.5).astype(np.int8)\n",
    "val_pred = (val_score > 0.5).astype(np.int8)\n",
    "test_pred = (test_score > 0.5).astype(np.int8)\n",
    "\n",
    "print('Train Accuracy: {:.4f}'.format(accuracy(train_pred, y_train)))\n",
    "print('Validation Accuracy: {:.4f}'.format(accuracy(val_pred, y_val)))\n",
    "print('Test Accuracy: {:.4f}'.format(accuracy(test_pred, y_test)))\n",
    "\n",
    "print('Train Precision: {:.4f}'.format(precision(train_pred, y_train)))\n",
    "print('Validation Precision: {:.4f}'.format(precision(val_pred, y_val)))\n",
    "print('Test Precision: {:.4f}'.format(precision(test_pred, y_test)))\n",
    "\n",
    "print('Train Recall: {:.4f}'.format(recall(train_pred, y_train)))\n",
    "print('Validation Recall: {:.4f}'.format(recall(val_pred, y_val)))\n",
    "print('Test Recall: {:.4f}'.format(recall(test_pred, y_test)))"
   ]
  },
  {
   "cell_type": "code",
   "execution_count": 3,
   "metadata": {},
   "outputs": [
    {
     "name": "stdout",
     "output_type": "stream",
     "text": [
      "0.9232800000000001\n",
      "0.9171800000000001\n",
      "0.9306999999999999\n",
      "0.003794416951258792\n",
      "0.006577963210599478\n",
      "0.001266491215918983\n"
     ]
    }
   ],
   "source": [
    "test_acc_all = np.array([0.9233, 0.9242, 0.9290, 0.9228, 0.9171])\n",
    "test_precision_all = np.array([0.9170, 0.9171, 0.9282, 0.9161, 0.9075])\n",
    "test_recall_all = np.array([0.9309, 0.9328, 0.9299, 0.9309, 0.9290])\n",
    "\n",
    "print(np.mean(test_acc_all))\n",
    "print(np.mean(test_precision_all))\n",
    "print(np.mean(test_recall_all))\n",
    "\n",
    "print(np.std(test_acc_all))\n",
    "print(np.std(test_precision_all))\n",
    "print(np.std(test_recall_all))"
   ]
  }
 ],
 "metadata": {
  "kernelspec": {
   "display_name": "Python 3",
   "language": "python",
   "name": "python3"
  },
  "language_info": {
   "codemirror_mode": {
    "name": "ipython",
    "version": 3
   },
   "file_extension": ".py",
   "mimetype": "text/x-python",
   "name": "python",
   "nbconvert_exporter": "python",
   "pygments_lexer": "ipython3",
   "version": "3.6.7"
  }
 },
 "nbformat": 4,
 "nbformat_minor": 2
}
