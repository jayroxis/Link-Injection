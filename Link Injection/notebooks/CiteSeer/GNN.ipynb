{
 "cells": [
  {
   "cell_type": "code",
   "execution_count": 1,
   "metadata": {},
   "outputs": [
    {
     "name": "stdout",
     "output_type": "stream",
     "text": [
      "Using matplotlib backend: agg\n"
     ]
    }
   ],
   "source": [
    "%matplotlib\n",
    "import torch\n",
    "import torch.nn.functional as F\n",
    "\n",
    "import torch_geometric\n",
    "from torch_geometric.nn import GCNConv\n",
    "from torch_geometric.datasets import Planetoid\n",
    "from torch_geometric.utils import to_dense_adj, add_self_loops\n",
    "\n",
    "import matplotlib.pyplot as plt\n",
    "import numpy as np\n",
    "import pandas as pd\n",
    "import seaborn as sns\n",
    "from sklearn import metrics\n",
    "import scipy.io as spio\n",
    "\n",
    "import os\n",
    "os.chdir(\"../\")\n",
    "\n",
    "import sys\n",
    "sys.path.append('../scripts')\n",
    "\n",
    "from evaluation import accuracy\n",
    "from evaluation import areaundercurve\n",
    "from evaluation import average_precision_score_computation"
   ]
  },
  {
   "cell_type": "code",
   "execution_count": 2,
   "metadata": {},
   "outputs": [],
   "source": [
    "class NaiveConv(torch.nn.Module):\n",
    "    def __init__(self, in_channel, out_channel):\n",
    "        super(NaiveConv, self).__init__()\n",
    "        self.layers = torch.nn.Sequential(\n",
    "            torch.nn.Linear(in_channel, out_channel),\n",
    "            torch.nn.Tanh()\n",
    "        )\n",
    "        \n",
    "    def forward(self, x, adj):\n",
    "        h = self.layers(x)\n",
    "        x = torch.mm(\n",
    "            adj,\n",
    "            h\n",
    "        )\n",
    "        return x\n",
    "\n",
    "class Net(torch.nn.Module):\n",
    "    def __init__(self, in_channel, out_channel):\n",
    "        super(Net, self).__init__()\n",
    "        \n",
    "        self.conv1 = NaiveConv(in_channel, 16)\n",
    "        self.conv2 = NaiveConv(16, out_channel)\n",
    "        \n",
    "    def forward(self, data):\n",
    "        x, adj = data.x, data.adj\n",
    "        \n",
    "        x = self.conv1(x, adj)\n",
    "        x = F.dropout(x, training=self.training)\n",
    "        x = self.conv2(x, adj)\n",
    "        return F.log_softmax(x, dim=1)"
   ]
  },
  {
   "cell_type": "code",
   "execution_count": 3,
   "metadata": {},
   "outputs": [],
   "source": [
    "from tqdm import tqdm\n",
    "\n",
    "NUMEPOCHS = 10000\n",
    "early_stop_win_size = 100\n",
    "tolerance = 0.005\n",
    "\n",
    "device = torch.device('cuda' if torch.cuda.is_available() else 'cpu')\n",
    "\n",
    "# load data\n",
    "name = 'CiteSeer'\n",
    "dataset = Planetoid('../datasets/'+ name, name=name)\n",
    "\n",
    "in_dim = dataset.num_node_features\n",
    "out_dim = dataset.num_classes\n",
    "\n",
    "data = dataset.data\n",
    "# data.adj = to_dense_adj(data.edge_index)[0]\n",
    "data.adj = to_dense_adj(add_self_loops(data.edge_index)[0])[0]\n",
    "data = dataset.data.to(device)\n",
    "\n",
    "# compile model\n",
    "model = Net(\n",
    "    in_dim,\n",
    "    out_dim\n",
    ").to(device)\n",
    "\n",
    "optimizer = torch.optim.Adamax(model.parameters(), weight_decay=0.001)"
   ]
  },
  {
   "cell_type": "code",
   "execution_count": 4,
   "metadata": {},
   "outputs": [
    {
     "name": "stdout",
     "output_type": "stream",
     "text": [
      "0 training acc = 0.48333333333333334 , loss = 2.052732229232788\n",
      "Moving Average Early stopping at 244-th epoch\n",
      "Previous validation average accuracy for 44-th to 144-th epoch: 0.639880\n",
      "Current validation average accuracy for 144-th to 244-th epoch: 0.634860\n"
     ]
    }
   ],
   "source": [
    "# record accuracy\n",
    "train_acc = np.zeros(NUMEPOCHS)\n",
    "val_acc = np.zeros(NUMEPOCHS)\n",
    "test_acc = np.zeros(NUMEPOCHS)\n",
    "\n",
    "# training start\n",
    "model.train()\n",
    "\n",
    "for epoch in range(NUMEPOCHS):\n",
    "    optimizer.zero_grad()\n",
    "    out = model(data)\n",
    "    loss = F.nll_loss(out[data.train_mask], data.y[data.train_mask])\n",
    "    \n",
    "    loss.backward()\n",
    "    optimizer.step()\n",
    "    \n",
    "    # record the accuracy\n",
    "    train_acc[epoch] = accuracy(model, data, 'train')\n",
    "    val_acc[epoch] = accuracy(model, data, 'val')\n",
    "    test_acc[epoch] = accuracy(model, data, 'test')\n",
    "    \n",
    "    # early stopping\n",
    "    if epoch > 2 * early_stop_win_size:\n",
    "        prev_start = epoch - 2 * early_stop_win_size\n",
    "        prev_end = epoch - early_stop_win_size\n",
    "        current_start = epoch - early_stop_win_size\n",
    "        current_end = epoch\n",
    "        \n",
    "        val_acc_current = np.mean(val_acc[current_start: current_end])\n",
    "        val_acc_previous = np.mean(val_acc[prev_start: prev_end])\n",
    "        \n",
    "        if val_acc_current < val_acc_previous - tolerance:\n",
    "            train_acc = train_acc[:epoch]\n",
    "            val_acc = val_acc[:epoch]\n",
    "            test_acc = test_acc[:epoch]\n",
    "            print('Moving Average Early stopping at %d-th epoch' % epoch)\n",
    "            print(\n",
    "                'Previous validation average accuracy for %d-th to %d-th epoch: %f' % \\\n",
    "                (prev_start, prev_end, val_acc_previous)\n",
    "            )\n",
    "            print(\n",
    "                'Current validation average accuracy for %d-th to %d-th epoch: %f' % \\\n",
    "                (current_start, current_end, val_acc_current)\n",
    "            )\n",
    "            break\n",
    "            \n",
    "    # print out loss\n",
    "    if epoch % 1000 == 0:\n",
    "        print(\n",
    "            epoch, \n",
    "            'training acc =', train_acc[epoch], \n",
    "            ', loss =', loss.item()\n",
    "        )"
   ]
  },
  {
   "cell_type": "code",
   "execution_count": 5,
   "metadata": {},
   "outputs": [
    {
     "data": {
      "image/png": "[encoded data removed]",
      "text/plain": [
       "<Figure size 432x288 with 1 Axes>"
      ]
     },
     "metadata": {
      "needs_background": "light"
     },
     "output_type": "display_data"
    }
   ],
   "source": [
    "df_acc = pd.DataFrame({\n",
    "    'train': train_acc,\n",
    "    'validation': val_acc,\n",
    "    'test': test_acc\n",
    "})\n",
    "\n",
    "sns.lineplot(data=df_acc)\n",
    "plt.show()"
   ]
  },
  {
   "cell_type": "code",
   "execution_count": 6,
   "metadata": {},
   "outputs": [],
   "source": [
    "spio.savemat('../variables/CiteSeer/GNN.mat',{\n",
    "    'train': train_acc,\n",
    "    'validation': val_acc,\n",
    "    'test': test_acc\n",
    "})"
   ]
  },
  {
   "cell_type": "code",
   "execution_count": 7,
   "metadata": {},
   "outputs": [
    {
     "name": "stdout",
     "output_type": "stream",
     "text": [
      "Train Accuracy: 1.0000\n",
      "Validation Accuracy: 0.6360\n",
      "Test Accuracy: 0.6250\n"
     ]
    }
   ],
   "source": [
    "print('Train Accuracy: {:.4f}'.format(accuracy(model, data, 'train')))\n",
    "print('Validation Accuracy: {:.4f}'.format(accuracy(model, data, 'val')))\n",
    "print('Test Accuracy: {:.4f}'.format(accuracy(model, data, 'test')))"
   ]
  },
  {
   "cell_type": "code",
   "execution_count": 8,
   "metadata": {},
   "outputs": [
    {
     "name": "stdout",
     "output_type": "stream",
     "text": [
      "Test AUC: 0.7604\n"
     ]
    }
   ],
   "source": [
    "print('Test AUC: {:.4f}'.format(areaundercurve(model,data,'test')))"
   ]
  },
  {
   "cell_type": "code",
   "execution_count": 11,
   "metadata": {},
   "outputs": [
    {
     "name": "stdout",
     "output_type": "stream",
     "text": [
      "1.0\n",
      "0.6232\n",
      "0.6317999999999999\n",
      "0.76528\n",
      "0.0\n",
      "0.007756287771866133\n",
      "0.007678541528180994\n",
      "0.004913410221017586\n"
     ]
    }
   ],
   "source": [
    "#5 runs completed\n",
    "train_acc_all = [1.0000, 1.0000, 1.0000, 1.0000, 1.0000]\n",
    "val_acc_all = [0.6240, 0.6200, 0.6240, 0.6120, 0.6360]\n",
    "test_acc_all = [0.6410, 0.6400, 0.6220, 0.6310, 0.6250]\n",
    "test_auc_all = [0.7700, 0.7709, 0.7588, 0.7663, 0.7604]\n",
    "\n",
    "print(np.mean(train_acc_all))\n",
    "print(np.mean(val_acc_all))\n",
    "print(np.mean(test_acc_all))\n",
    "print(np.mean(test_auc_all))\n",
    "\n",
    "print(np.std(train_acc_all))\n",
    "print(np.std(val_acc_all))\n",
    "print(np.std(test_acc_all))\n",
    "print(np.std(test_auc_all))"
   ]
  },
  {
   "cell_type": "code",
   "execution_count": null,
   "metadata": {},
   "outputs": [],
   "source": []
  }
 ],
 "metadata": {
  "kernelspec": {
   "display_name": "Python 3",
   "language": "python",
   "name": "python3"
  },
  "language_info": {
   "codemirror_mode": {
    "name": "ipython",
    "version": 3
   },
   "file_extension": ".py",
   "mimetype": "text/x-python",
   "name": "python",
   "nbconvert_exporter": "python",
   "pygments_lexer": "ipython3",
   "version": "3.6.7"
  }
 },
 "nbformat": 4,
 "nbformat_minor": 2
}
