{
 "cells": [
  {
   "cell_type": "code",
   "execution_count": 1,
   "metadata": {},
   "outputs": [
    {
     "name": "stdout",
     "output_type": "stream",
     "text": [
      "Using matplotlib backend: agg\n"
     ]
    }
   ],
   "source": [
    "%matplotlib\n",
    "import torch\n",
    "import torch.nn.functional as F\n",
    "\n",
    "import torch_geometric\n",
    "from torch_geometric.nn import GCNConv\n",
    "from torch_geometric.datasets import Planetoid\n",
    "from torch_geometric.utils import to_dense_adj, add_self_loops\n",
    "\n",
    "import matplotlib.pyplot as plt\n",
    "import numpy as np\n",
    "import pandas as pd\n",
    "import seaborn as sns\n",
    "import scipy.io as spio\n",
    "\n",
    "import os\n",
    "os.chdir(\"../\")\n",
    "\n",
    "import sys\n",
    "sys.path.append('../scripts')\n",
    "\n",
    "from evaluation import accuracy\n",
    "from evaluation import areaundercurve\n",
    "from evaluation import average_precision_score_computation"
   ]
  },
  {
   "cell_type": "code",
   "execution_count": 2,
   "metadata": {},
   "outputs": [],
   "source": [
    "class NaiveConv(torch.nn.Module):\n",
    "    def __init__(self, in_channel, out_channel):\n",
    "        super(NaiveConv, self).__init__()\n",
    "        self.layers = torch.nn.Sequential(\n",
    "            torch.nn.Linear(in_channel, out_channel),\n",
    "            torch.nn.Tanh()\n",
    "        )\n",
    "        \n",
    "    def forward(self, x, adj):\n",
    "        h = self.layers(x)\n",
    "        x = torch.mm(\n",
    "            adj,\n",
    "            h\n",
    "        )\n",
    "        return x\n",
    "\n",
    "class Net(torch.nn.Module):\n",
    "    def __init__(self, in_channel, out_channel, data):\n",
    "        super(Net, self).__init__()\n",
    "        \n",
    "        self.conv1 = NaiveConv(in_channel, 16)\n",
    "        self.conv2 = NaiveConv(16, out_channel)\n",
    "        \n",
    "        injection = torch.randn_like(data.adj) * 0.01\n",
    "        injection = torch.abs(injection)\n",
    "        self.injection = torch.nn.Parameter(\n",
    "            injection, \n",
    "            requires_grad=True\n",
    "        )\n",
    "        \n",
    "    def forward(self, data):\n",
    "        x, adj = data.x, data.adj\n",
    "        \n",
    "        injection = F.relu(self.injection)\n",
    "        adj = adj + injection\n",
    "        adj = torch.clamp(adj, 0, 1)\n",
    "    \n",
    "        x = self.conv1(x, adj)\n",
    "        x = F.dropout(x, training=self.training)\n",
    "        x = self.conv2(x, adj)\n",
    "        return F.log_softmax(x, dim=1)"
   ]
  },
  {
   "cell_type": "code",
   "execution_count": 3,
   "metadata": {},
   "outputs": [],
   "source": [
    "from tqdm import tqdm\n",
    "\n",
    "NUMEPOCHS = 10000\n",
    "early_stop_win_size = 100\n",
    "tolerance = 0.01\n",
    "\n",
    "device = torch.device('cuda' if torch.cuda.is_available() else 'cpu')\n",
    "\n",
    "# load data\n",
    "name = 'CiteSeer'\n",
    "dataset = Planetoid('../datasets/'+ name, name=name)\n",
    "\n",
    "in_dim = dataset.num_node_features\n",
    "out_dim = dataset.num_classes\n",
    "\n",
    "data = dataset.data\n",
    "# data.adj = to_dense_adj(data.edge_index)[0]\n",
    "data.adj = to_dense_adj(add_self_loops(data.edge_index)[0])[0]\n",
    "data = dataset.data.to(device)\n",
    "\n",
    "# compile model\n",
    "model = Net(\n",
    "    in_dim,\n",
    "    out_dim,\n",
    "    data\n",
    ").to(device)\n",
    "\n",
    "optimizer = torch.optim.Adamax(model.parameters(), weight_decay=0.001)"
   ]
  },
  {
   "cell_type": "code",
   "execution_count": 4,
   "metadata": {},
   "outputs": [],
   "source": [
    "# get the initial injection\n",
    "injection_init = model.injection.detach().cpu().numpy()"
   ]
  },
  {
   "cell_type": "code",
   "execution_count": 5,
   "metadata": {},
   "outputs": [
    {
     "name": "stdout",
     "output_type": "stream",
     "text": [
      "0 training acc = 0.16666666666666666 , loss = 7.686241149902344\n",
      "1000 training acc = 1.0 , loss = 0.022518975660204887\n",
      "2000 training acc = 1.0 , loss = 0.006802028510719538\n",
      "3000 training acc = 1.0 , loss = 0.0044158995151519775\n",
      "4000 training acc = 1.0 , loss = 0.0028402647003531456\n",
      "5000 training acc = 1.0 , loss = 0.0018091241363435984\n",
      "6000 training acc = 1.0 , loss = 0.0007581492536701262\n",
      "7000 training acc = 1.0 , loss = 0.0006891469238325953\n",
      "8000 training acc = 1.0 , loss = 0.0006422817823477089\n",
      "9000 training acc = 1.0 , loss = 0.0006187717081047595\n",
      "CPU times: user 1min 22s, sys: 19.8 s, total: 1min 42s\n",
      "Wall time: 1min 43s\n"
     ]
    }
   ],
   "source": [
    "%%time\n",
    "\n",
    "# record accuracy\n",
    "train_acc = np.zeros(NUMEPOCHS)\n",
    "val_acc = np.zeros(NUMEPOCHS)\n",
    "test_acc = np.zeros(NUMEPOCHS)\n",
    "\n",
    "# training start\n",
    "model.train()\n",
    "\n",
    "for epoch in range(NUMEPOCHS):\n",
    "    optimizer.zero_grad()\n",
    "    out = model(data)\n",
    "    loss = F.nll_loss(out[data.train_mask], data.y[data.train_mask])\n",
    "    \n",
    "    loss.backward()\n",
    "    optimizer.step()\n",
    "    \n",
    "    # record the accuracy\n",
    "    train_acc[epoch] = accuracy(model, data, 'train')\n",
    "    val_acc[epoch] = accuracy(model, data, 'val')\n",
    "    test_acc[epoch] = accuracy(model, data, 'test')\n",
    "    \n",
    "    # early stopping\n",
    "    if epoch > 2 * early_stop_win_size:\n",
    "        prev_start = epoch - 2 * early_stop_win_size\n",
    "        prev_end = epoch - early_stop_win_size\n",
    "        current_start = epoch - early_stop_win_size\n",
    "        current_end = epoch\n",
    "        \n",
    "        val_acc_current = np.mean(val_acc[current_start: current_end])\n",
    "        val_acc_previous = np.mean(val_acc[prev_start: prev_end])\n",
    "        \n",
    "        if val_acc_current < val_acc_previous - tolerance:\n",
    "            train_acc = train_acc[:epoch]\n",
    "            val_acc = val_acc[:epoch]\n",
    "            test_acc = test_acc[:epoch]\n",
    "            print('Moving Average Early stopping at %d-th epoch' % epoch)\n",
    "            print(\n",
    "                'Previous validation average accuracy for %d-th to %d-th epoch: %f' % \\\n",
    "                (prev_start, prev_end, val_acc_previous)\n",
    "            )\n",
    "            print(\n",
    "                'Current validation average accuracy for %d-th to %d-th epoch: %f' % \\\n",
    "                (current_start, current_end, val_acc_current)\n",
    "            )\n",
    "            break\n",
    "    \n",
    "    if epoch % 1000 == 0:\n",
    "        print(\n",
    "            epoch, \n",
    "            'training acc =', train_acc[epoch], \n",
    "            ', loss =', loss.item()\n",
    "        )"
   ]
  },
  {
   "cell_type": "code",
   "execution_count": 6,
   "metadata": {},
   "outputs": [],
   "source": [
    "# get the initial injection\n",
    "injection_final = F.relu(model.injection.detach()).cpu().numpy()"
   ]
  },
  {
   "cell_type": "code",
   "execution_count": 7,
   "metadata": {},
   "outputs": [
    {
     "name": "stdout",
     "output_type": "stream",
     "text": [
      "Initial injection = \n",
      " [[0.00981323 0.00440335 0.00745578 ... 0.00763034 0.00246948 0.0144042 ]\n",
      " [0.02220055 0.01058823 0.00022373 ... 0.00410222 0.01024691 0.01166509]\n",
      " [0.00447326 0.00160475 0.01029155 ... 0.00892049 0.01120164 0.00671628]\n",
      " ...\n",
      " [0.00758959 0.00534923 0.00607928 ... 0.00088876 0.00313133 0.01232466]\n",
      " [0.00772439 0.02032148 0.00206486 ... 0.00396001 0.01099365 0.00130962]\n",
      " [0.01470485 0.00144905 0.01460127 ... 0.01673465 0.00480864 0.00860237]]\n",
      "\n",
      "Sum inital = 88289\n",
      "\n",
      "Final injection = \n",
      " [[9.0238784e-04 0.0000000e+00 0.0000000e+00 ... 6.3794609e-03\n",
      "  0.0000000e+00 0.0000000e+00]\n",
      " [1.0049031e-05 0.0000000e+00 0.0000000e+00 ... 0.0000000e+00\n",
      "  6.4627960e-04 0.0000000e+00]\n",
      " [0.0000000e+00 0.0000000e+00 6.3525047e-05 ... 0.0000000e+00\n",
      "  0.0000000e+00 8.1675397e-03]\n",
      " ...\n",
      " [7.0729337e-05 0.0000000e+00 5.9473554e-05 ... 0.0000000e+00\n",
      "  0.0000000e+00 0.0000000e+00]\n",
      " [0.0000000e+00 7.2660245e-05 0.0000000e+00 ... 0.0000000e+00\n",
      "  0.0000000e+00 0.0000000e+00]\n",
      " [0.0000000e+00 6.2586903e-04 1.3530435e-03 ... 1.4705714e-04\n",
      "  0.0000000e+00 0.0000000e+00]]\n",
      "\n",
      "Sum final = 1101\n",
      "\n"
     ]
    }
   ],
   "source": [
    "print('Initial injection = \\n', injection_init)\n",
    "print('\\nSum inital = %d\\n' % np.sum(injection_init))\n",
    "print('Final injection = \\n', injection_final)\n",
    "print('\\nSum final = %d\\n' % np.sum(injection_final))"
   ]
  },
  {
   "cell_type": "code",
   "execution_count": 8,
   "metadata": {},
   "outputs": [
    {
     "data": {
      "image/png": "[encoded data removed]",
      "text/plain": [
       "<Figure size 432x288 with 1 Axes>"
      ]
     },
     "metadata": {
      "needs_background": "light"
     },
     "output_type": "display_data"
    }
   ],
   "source": [
    "df_acc = pd.DataFrame({\n",
    "    'train': train_acc,\n",
    "    'validation': val_acc,\n",
    "    'test': test_acc\n",
    "})\n",
    "\n",
    "sns.lineplot(data=df_acc)\n",
    "plt.show()"
   ]
  },
  {
   "cell_type": "code",
   "execution_count": 9,
   "metadata": {},
   "outputs": [],
   "source": [
    "spio.savemat('../variables/CiteSeer/GNN_injected.mat',{\n",
    "    'train': train_acc,\n",
    "    'validation': val_acc,\n",
    "    'test': test_acc\n",
    "})"
   ]
  },
  {
   "cell_type": "code",
   "execution_count": 10,
   "metadata": {},
   "outputs": [
    {
     "name": "stdout",
     "output_type": "stream",
     "text": [
      "Train Accuracy: 1.0000\n",
      "Validation Accuracy: 0.6840\n",
      "Test Accuracy: 0.7070\n"
     ]
    }
   ],
   "source": [
    "print('Train Accuracy: {:.4f}'.format(accuracy(model, data, 'train')))\n",
    "print('Validation Accuracy: {:.4f}'.format(accuracy(model, data, 'val')))\n",
    "print('Test Accuracy: {:.4f}'.format(accuracy(model, data, 'test')))"
   ]
  },
  {
   "cell_type": "code",
   "execution_count": 11,
   "metadata": {},
   "outputs": [
    {
     "name": "stdout",
     "output_type": "stream",
     "text": [
      "Test AUC: 0.8128\n"
     ]
    }
   ],
   "source": [
    "print('Test AUC: {:.4f}'.format(areaundercurve(model,data,'test')))"
   ]
  },
  {
   "cell_type": "code",
   "execution_count": 14,
   "metadata": {},
   "outputs": [
    {
     "name": "stdout",
     "output_type": "stream",
     "text": [
      "1.0\n",
      "0.6828000000000001\n",
      "0.6988\n",
      "0.8093199999999999\n",
      "0.0\n",
      "0.00825590697622008\n",
      "0.00805977667184396\n",
      "0.0034862013711201394\n"
     ]
    }
   ],
   "source": [
    "#5 runs completed\n",
    "train_acc_all = [1.0000, 1.0000, 1.0000, 1.0000, 1.0000]\n",
    "val_acc_all = [0.6880, 0.6700, 0.6940, 0.6780, 0.6840]\n",
    "test_acc_all = [0.6890, 0.6890, 0.7040, 0.7050, 0.7070]\n",
    "test_auc_all = [0.8057, 0.8045, 0.8117, 0.8119, 0.8128]\n",
    "\n",
    "print(np.mean(train_acc_all))\n",
    "print(np.mean(val_acc_all))\n",
    "print(np.mean(test_acc_all))\n",
    "print(np.mean(test_auc_all))\n",
    "\n",
    "print(np.std(train_acc_all))\n",
    "print(np.std(val_acc_all))\n",
    "print(np.std(test_acc_all))\n",
    "print(np.std(test_auc_all))"
   ]
  },
  {
   "cell_type": "code",
   "execution_count": null,
   "metadata": {},
   "outputs": [],
   "source": []
  }
 ],
 "metadata": {
  "kernelspec": {
   "display_name": "Python 3",
   "language": "python",
   "name": "python3"
  },
  "language_info": {
   "codemirror_mode": {
    "name": "ipython",
    "version": 3
   },
   "file_extension": ".py",
   "mimetype": "text/x-python",
   "name": "python",
   "nbconvert_exporter": "python",
   "pygments_lexer": "ipython3",
   "version": "3.6.7"
  }
 },
 "nbformat": 4,
 "nbformat_minor": 2
}
