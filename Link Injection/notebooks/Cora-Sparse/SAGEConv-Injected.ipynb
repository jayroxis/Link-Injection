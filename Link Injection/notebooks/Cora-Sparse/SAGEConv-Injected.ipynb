{
 "cells": [
  {
   "cell_type": "code",
   "execution_count": 1,
   "metadata": {},
   "outputs": [
    {
     "name": "stdout",
     "output_type": "stream",
     "text": [
      "Using matplotlib backend: agg\n"
     ]
    }
   ],
   "source": [
    "%matplotlib\n",
    "import torch\n",
    "import torch.nn.functional as F\n",
    "\n",
    "import torch_geometric\n",
    "# from torch_geometric.nn import SAGEConv\n",
    "from torch_geometric.datasets import Planetoid\n",
    "from torch_geometric.utils import to_dense_adj, add_self_loops\n",
    "\n",
    "import matplotlib.pyplot as plt\n",
    "import numpy as np\n",
    "import pandas as pd\n",
    "import seaborn as sns\n",
    "import scipy.io as spio\n",
    "\n",
    "import os\n",
    "os.chdir(\"../\")\n",
    "\n",
    "import sys\n",
    "sys.path.append('../scripts')\n",
    "\n",
    "from evaluation import accuracy\n",
    "from evaluation import areaundercurve\n",
    "from evaluation import average_precision_score_computation\n",
    "\n",
    "from encoders import Encoder\n",
    "from aggregators import MeanAggregator"
   ]
  },
  {
   "cell_type": "code",
   "execution_count": 2,
   "metadata": {},
   "outputs": [],
   "source": [
    "class SAGEConv(torch.nn.Module):\n",
    "    def __init__(self, in_channels, out_channels, normalize=False, bias=True):\n",
    "        super(SAGEConv, self).__init__()\n",
    "\n",
    "        self.in_channels = in_channels\n",
    "        self.out_channels = out_channels\n",
    "        self.normalize = normalize\n",
    "        self.linear = torch.nn.Linear(self.in_channels, out_channels, bias=False)\n",
    "        if bias:\n",
    "            self.bias = torch.nn.Parameter(torch.Tensor(out_channels))\n",
    "            torch.nn.init.zeros_(self.bias)\n",
    "        else:\n",
    "            self.register_parameter('bias', None)\n",
    "\n",
    "\n",
    "    def forward(self, x, adj):\n",
    "        out = torch.matmul(adj, x)\n",
    "        out = out / adj.sum(dim=-1, keepdim=True).clamp(min=1)\n",
    "        out = self.linear(out)\n",
    "\n",
    "        if self.bias is not None:\n",
    "            out = out + self.bias\n",
    "\n",
    "        if self.normalize:\n",
    "            out = F.normalize(out, p=2, dim=-1)\n",
    "\n",
    "        return out\n",
    "\n",
    "class Net(torch.nn.Module):\n",
    "    def __init__(self, in_dim, out_dim, data):\n",
    "        super(Net, self).__init__()\n",
    "        self.conv1 = SAGEConv(in_dim, 16)\n",
    "        self.conv2 = SAGEConv(16, out_dim)\n",
    "        \n",
    "        injection = torch.ones_like(data.adj) * 0.01\n",
    "        injection = torch.abs(injection)\n",
    "        self.injection = torch.nn.Parameter(\n",
    "            injection, \n",
    "            requires_grad=True\n",
    "        )\n",
    "\n",
    "    def forward(self, data):\n",
    "        x, adj = data.x, data.adj\n",
    "        \n",
    "        # link injection\n",
    "#         injection = F.relu(self.injection)\n",
    "        injection = F.leaky_relu(self.injection)\n",
    "        adj = adj + injection\n",
    "        adj = torch.clamp(adj, 0, 1)\n",
    "        \n",
    "        x = self.conv1(x, adj)\n",
    "        x = F.relu(x)\n",
    "        x = F.dropout(x, p=0.5, training=self.training)\n",
    "        x = self.conv2(x, adj)\n",
    "\n",
    "        return F.log_softmax(x, dim=1)"
   ]
  },
  {
   "cell_type": "code",
   "execution_count": 3,
   "metadata": {},
   "outputs": [],
   "source": [
    "from tqdm import tqdm\n",
    "\n",
    "NUMEPOCHS = 20000\n",
    "early_stop_win_size = 100\n",
    "tolerance = 1.00\n",
    "\n",
    "device = torch.device('cuda:1' if torch.cuda.is_available() else 'cpu')\n",
    "\n",
    "# load data\n",
    "name = 'Cora'\n",
    "dataset = Planetoid('../datasets/'+ name, name=name)\n",
    "\n",
    "in_dim = dataset.num_node_features\n",
    "out_dim = dataset.num_classes\n",
    "\n",
    "data = dataset.data\n",
    "\n",
    "# random sampling edges\n",
    "frac = 0.1\n",
    "num_edges = data.edge_index.size(1)\n",
    "perm = torch.randperm(num_edges)\n",
    "idx = perm[:int(frac * num_edges)]\n",
    "new_edge_index = data.edge_index[:, idx]\n",
    "\n",
    "# using sparse graph\n",
    "# data.adj = to_dense_adj(add_self_loops(new_edge_index)[0])[0]\n",
    "data.adj = torch.zeros(data.x.size(0), data.x.size(0))\n",
    "data = dataset.data.to(device)\n",
    "\n",
    "# compile model\n",
    "model = Net(\n",
    "    in_dim,\n",
    "    out_dim, \n",
    "    data\n",
    ").to(device)\n",
    "\n",
    "optimizer = torch.optim.Adamax(model.parameters(), weight_decay=1e-8)"
   ]
  },
  {
   "cell_type": "code",
   "execution_count": 4,
   "metadata": {},
   "outputs": [],
   "source": [
    "# get the initial injection\n",
    "injection_init = model.injection.detach().cpu().numpy()"
   ]
  },
  {
   "cell_type": "code",
   "execution_count": 5,
   "metadata": {},
   "outputs": [
    {
     "name": "stdout",
     "output_type": "stream",
     "text": [
      "0 training acc = 0.14285714285714285 validation acc = 0.156 , loss = 1.9459189176559448\n",
      "100 training acc = 0.5714285714285714 validation acc = 0.058 , loss = 1.2654179334640503\n",
      "200 training acc = 0.8571428571428571 validation acc = 0.058 , loss = 0.5910870432853699\n",
      "300 training acc = 1.0 validation acc = 0.078 , loss = 0.08435976505279541\n",
      "400 training acc = 1.0 validation acc = 0.078 , loss = 0.011989743448793888\n",
      "500 training acc = 1.0 validation acc = 0.078 , loss = 0.004404391627758741\n",
      "600 training acc = 1.0 validation acc = 0.08 , loss = 0.0023542132694274187\n",
      "700 training acc = 1.0 validation acc = 0.082 , loss = 0.0014953272184357047\n",
      "800 training acc = 1.0 validation acc = 0.08 , loss = 0.0010370629606768489\n",
      "900 training acc = 1.0 validation acc = 0.082 , loss = 0.0007620164542458951\n",
      "1000 training acc = 1.0 validation acc = 0.084 , loss = 0.0005812032031826675\n",
      "1100 training acc = 1.0 validation acc = 0.084 , loss = 0.00045272623538039625\n",
      "1200 training acc = 1.0 validation acc = 0.084 , loss = 0.00036244391230866313\n",
      "1300 training acc = 1.0 validation acc = 0.082 , loss = 0.00029806068050675094\n",
      "1400 training acc = 1.0 validation acc = 0.078 , loss = 0.00024712426238693297\n",
      "1500 training acc = 1.0 validation acc = 0.078 , loss = 0.00020675659470725805\n",
      "1600 training acc = 1.0 validation acc = 0.078 , loss = 0.00016155242337845266\n",
      "1700 training acc = 1.0 validation acc = 0.08 , loss = 0.0001013483342831023\n",
      "1800 training acc = 1.0 validation acc = 0.09 , loss = 7.100786751834676e-05\n",
      "1900 training acc = 1.0 validation acc = 0.086 , loss = 5.7513374486006796e-05\n",
      "2000 training acc = 1.0 validation acc = 0.086 , loss = 4.8596517444821075e-05\n",
      "2100 training acc = 1.0 validation acc = 0.082 , loss = 4.1328155930386856e-05\n",
      "2200 training acc = 1.0 validation acc = 0.08 , loss = 3.5701479646377265e-05\n",
      "2300 training acc = 1.0 validation acc = 0.08 , loss = 3.120558540103957e-05\n",
      "2400 training acc = 1.0 validation acc = 0.08 , loss = 2.7125222914037295e-05\n",
      "2500 training acc = 1.0 validation acc = 0.076 , loss = 2.3978096578503028e-05\n",
      "2600 training acc = 1.0 validation acc = 0.076 , loss = 2.0844596292590722e-05\n",
      "2700 training acc = 1.0 validation acc = 0.076 , loss = 1.8399101463728584e-05\n",
      "2800 training acc = 1.0 validation acc = 0.078 , loss = 1.6253334251814522e-05\n",
      "2900 training acc = 1.0 validation acc = 0.078 , loss = 1.4352798643813003e-05\n",
      "3000 training acc = 1.0 validation acc = 0.078 , loss = 1.2683868590102065e-05\n",
      "3100 training acc = 1.0 validation acc = 0.078 , loss = 1.130785221903352e-05\n",
      "3200 training acc = 1.0 validation acc = 0.078 , loss = 9.945460988092236e-06\n",
      "3300 training acc = 1.0 validation acc = 0.088 , loss = 6.049020157661289e-06\n",
      "3400 training acc = 1.0 validation acc = 0.078 , loss = 3.9509363887191284e-06\n",
      "3500 training acc = 1.0 validation acc = 0.08 , loss = 2.5885444756568177e-06\n",
      "3600 training acc = 1.0 validation acc = 0.08 , loss = 2.186638994317036e-06\n",
      "3700 training acc = 1.0 validation acc = 0.082 , loss = 1.9345964119565906e-06\n",
      "3800 training acc = 1.0 validation acc = 0.074 , loss = 1.6348702729374054e-06\n",
      "3900 training acc = 1.0 validation acc = 0.078 , loss = 1.3623919130623108e-06\n",
      "4000 training acc = 1.0 validation acc = 0.08 , loss = 1.3692038010049146e-06\n",
      "4100 training acc = 1.0 validation acc = 0.084 , loss = 1.2261526762813446e-06\n",
      "4200 training acc = 1.0 validation acc = 0.088 , loss = 1.0899135531872162e-06\n",
      "4300 training acc = 1.0 validation acc = 0.086 , loss = 9.5367431640625e-07\n",
      "4400 training acc = 1.0 validation acc = 0.084 , loss = 8.446829724562122e-07\n",
      "4500 training acc = 1.0 validation acc = 0.088 , loss = 6.130763381406723e-07\n",
      "4600 training acc = 1.0 validation acc = 0.088 , loss = 7.493155180782196e-07\n",
      "4700 training acc = 1.0 validation acc = 0.088 , loss = 4.76837158203125e-07\n",
      "4800 training acc = 1.0 validation acc = 0.092 , loss = 2.7247838829680404e-07\n",
      "4900 training acc = 1.0 validation acc = 0.092 , loss = 4.0871756823435135e-07\n",
      "5000 training acc = 1.0 validation acc = 0.09 , loss = 1.7029898913278885e-07\n",
      "5100 training acc = 1.0 validation acc = 0.09 , loss = 2.0435878411717567e-07\n",
      "5200 training acc = 1.0 validation acc = 0.09 , loss = 2.0521027011000115e-07\n",
      "5300 training acc = 1.0 validation acc = 0.086 , loss = 1.5326908453516808e-07\n",
      "5400 training acc = 1.0 validation acc = 0.086 , loss = 1.6859598872542847e-07\n",
      "5500 training acc = 1.0 validation acc = 0.084 , loss = 1.7029898913278885e-07\n",
      "5600 training acc = 1.0 validation acc = 0.088 , loss = 1.5326908453516808e-07\n",
      "5700 training acc = 1.0 validation acc = 0.098 , loss = 1.5326908453516808e-07\n",
      "5800 training acc = 1.0 validation acc = 0.096 , loss = 1.5326908453516808e-07\n",
      "5900 training acc = 1.0 validation acc = 0.102 , loss = 0.0\n",
      "6000 training acc = 1.0 validation acc = 0.106 , loss = 0.0\n",
      "6100 training acc = 1.0 validation acc = 0.118 , loss = 0.0\n",
      "6200 training acc = 1.0 validation acc = 0.114 , loss = 0.0\n",
      "6300 training acc = 1.0 validation acc = 0.118 , loss = 0.0\n",
      "6400 training acc = 1.0 validation acc = 0.118 , loss = 0.0\n",
      "6500 training acc = 1.0 validation acc = 0.13 , loss = 0.0\n",
      "6600 training acc = 1.0 validation acc = 0.142 , loss = 0.0\n",
      "6700 training acc = 1.0 validation acc = 0.144 , loss = 0.0\n",
      "6800 training acc = 1.0 validation acc = 0.152 , loss = 0.0\n",
      "6900 training acc = 1.0 validation acc = 0.164 , loss = 0.0\n",
      "7000 training acc = 1.0 validation acc = 0.164 , loss = 0.0\n",
      "7100 training acc = 1.0 validation acc = 0.164 , loss = 0.0\n",
      "7200 training acc = 1.0 validation acc = 0.162 , loss = 0.0\n",
      "7300 training acc = 1.0 validation acc = 0.162 , loss = 0.0\n",
      "7400 training acc = 1.0 validation acc = 0.162 , loss = 0.0\n",
      "7500 training acc = 1.0 validation acc = 0.162 , loss = 0.0\n",
      "7600 training acc = 1.0 validation acc = 0.162 , loss = 0.0\n",
      "7700 training acc = 1.0 validation acc = 0.162 , loss = 0.0\n",
      "7800 training acc = 1.0 validation acc = 0.162 , loss = 0.0\n",
      "7900 training acc = 1.0 validation acc = 0.16 , loss = 0.0\n",
      "8000 training acc = 1.0 validation acc = 0.162 , loss = 0.0\n",
      "8100 training acc = 1.0 validation acc = 0.162 , loss = 0.0\n",
      "8200 training acc = 1.0 validation acc = 0.162 , loss = 0.0\n",
      "8300 training acc = 1.0 validation acc = 0.162 , loss = 0.0\n",
      "8400 training acc = 1.0 validation acc = 0.162 , loss = 0.0\n",
      "8500 training acc = 1.0 validation acc = 0.162 , loss = 0.0\n",
      "8600 training acc = 1.0 validation acc = 0.162 , loss = 0.0\n",
      "8700 training acc = 1.0 validation acc = 0.162 , loss = 0.0\n",
      "8800 training acc = 1.0 validation acc = 0.162 , loss = 0.0\n",
      "8900 training acc = 1.0 validation acc = 0.162 , loss = 0.0\n",
      "9000 training acc = 1.0 validation acc = 0.162 , loss = 0.0\n",
      "9100 training acc = 1.0 validation acc = 0.162 , loss = 0.0\n",
      "9200 training acc = 1.0 validation acc = 0.162 , loss = 0.0\n",
      "9300 training acc = 1.0 validation acc = 0.162 , loss = 0.0\n",
      "9400 training acc = 1.0 validation acc = 0.162 , loss = 0.0\n",
      "9500 training acc = 1.0 validation acc = 0.16 , loss = 0.0\n",
      "9600 training acc = 1.0 validation acc = 0.16 , loss = 0.0\n",
      "9700 training acc = 1.0 validation acc = 0.162 , loss = 0.0\n",
      "9800 training acc = 1.0 validation acc = 0.162 , loss = 0.0\n",
      "9900 training acc = 1.0 validation acc = 0.162 , loss = 0.0\n",
      "10000 training acc = 1.0 validation acc = 0.162 , loss = 0.0\n",
      "10100 training acc = 1.0 validation acc = 0.162 , loss = 0.0\n",
      "10200 training acc = 1.0 validation acc = 0.162 , loss = 0.0\n",
      "10300 training acc = 1.0 validation acc = 0.162 , loss = 0.0\n",
      "10400 training acc = 1.0 validation acc = 0.162 , loss = 0.0\n",
      "10500 training acc = 1.0 validation acc = 0.162 , loss = 0.0\n",
      "10600 training acc = 1.0 validation acc = 0.162 , loss = 0.0\n",
      "10700 training acc = 1.0 validation acc = 0.162 , loss = 0.0\n",
      "10800 training acc = 1.0 validation acc = 0.162 , loss = 0.0\n",
      "10900 training acc = 1.0 validation acc = 0.162 , loss = 0.0\n",
      "11000 training acc = 1.0 validation acc = 0.162 , loss = 0.0\n",
      "11100 training acc = 1.0 validation acc = 0.162 , loss = 0.0\n",
      "11200 training acc = 1.0 validation acc = 0.162 , loss = 0.0\n",
      "11300 training acc = 1.0 validation acc = 0.162 , loss = 0.0\n",
      "11400 training acc = 1.0 validation acc = 0.162 , loss = 0.0\n",
      "11500 training acc = 1.0 validation acc = 0.162 , loss = 0.0\n",
      "11600 training acc = 1.0 validation acc = 0.162 , loss = 0.0\n",
      "11700 training acc = 1.0 validation acc = 0.162 , loss = 0.0\n"
     ]
    },
    {
     "name": "stdout",
     "output_type": "stream",
     "text": [
      "11800 training acc = 1.0 validation acc = 0.162 , loss = 0.0\n",
      "11900 training acc = 1.0 validation acc = 0.162 , loss = 0.0\n",
      "12000 training acc = 1.0 validation acc = 0.162 , loss = 0.0\n",
      "12100 training acc = 1.0 validation acc = 0.162 , loss = 0.0\n",
      "12200 training acc = 1.0 validation acc = 0.162 , loss = 0.0\n",
      "12300 training acc = 1.0 validation acc = 0.162 , loss = 0.0\n",
      "12400 training acc = 1.0 validation acc = 0.162 , loss = 0.0\n",
      "12500 training acc = 1.0 validation acc = 0.162 , loss = 0.0\n",
      "12600 training acc = 1.0 validation acc = 0.162 , loss = 0.0\n",
      "12700 training acc = 1.0 validation acc = 0.162 , loss = 0.0\n",
      "12800 training acc = 1.0 validation acc = 0.16 , loss = 0.0\n",
      "12900 training acc = 1.0 validation acc = 0.16 , loss = 0.0\n",
      "13000 training acc = 1.0 validation acc = 0.16 , loss = 0.0\n",
      "13100 training acc = 1.0 validation acc = 0.16 , loss = 0.0\n",
      "13200 training acc = 1.0 validation acc = 0.16 , loss = 0.0\n",
      "13300 training acc = 1.0 validation acc = 0.16 , loss = 0.0\n",
      "13400 training acc = 1.0 validation acc = 0.16 , loss = 0.0\n",
      "13500 training acc = 1.0 validation acc = 0.16 , loss = 0.0\n",
      "13600 training acc = 1.0 validation acc = 0.16 , loss = 0.0\n",
      "13700 training acc = 1.0 validation acc = 0.16 , loss = 0.0\n",
      "13800 training acc = 1.0 validation acc = 0.16 , loss = 0.0\n",
      "13900 training acc = 1.0 validation acc = 0.16 , loss = 0.0\n",
      "14000 training acc = 1.0 validation acc = 0.16 , loss = 0.0\n",
      "14100 training acc = 1.0 validation acc = 0.16 , loss = 0.0\n",
      "14200 training acc = 1.0 validation acc = 0.16 , loss = 0.0\n",
      "14300 training acc = 1.0 validation acc = 0.16 , loss = 0.0\n",
      "14400 training acc = 1.0 validation acc = 0.16 , loss = 0.0\n",
      "14500 training acc = 1.0 validation acc = 0.13 , loss = 0.0\n",
      "14600 training acc = 1.0 validation acc = 0.13 , loss = 0.0\n",
      "14700 training acc = 1.0 validation acc = 0.13 , loss = 0.0\n",
      "14800 training acc = 1.0 validation acc = 0.13 , loss = 0.0\n",
      "14900 training acc = 1.0 validation acc = 0.13 , loss = 0.0\n",
      "15000 training acc = 1.0 validation acc = 0.13 , loss = 0.0\n",
      "15100 training acc = 1.0 validation acc = 0.13 , loss = 0.0\n",
      "15200 training acc = 1.0 validation acc = 0.13 , loss = 0.0\n",
      "15300 training acc = 1.0 validation acc = 0.13 , loss = 0.0\n",
      "15400 training acc = 1.0 validation acc = 0.13 , loss = 0.0\n",
      "15500 training acc = 1.0 validation acc = 0.13 , loss = 0.0\n",
      "15600 training acc = 1.0 validation acc = 0.13 , loss = 0.0\n",
      "15700 training acc = 1.0 validation acc = 0.13 , loss = 0.0\n",
      "15800 training acc = 1.0 validation acc = 0.13 , loss = 0.0\n",
      "15900 training acc = 1.0 validation acc = 0.13 , loss = 0.0\n",
      "16000 training acc = 1.0 validation acc = 0.13 , loss = 0.0\n",
      "16100 training acc = 1.0 validation acc = 0.13 , loss = 0.0\n",
      "16200 training acc = 1.0 validation acc = 0.13 , loss = 0.0\n",
      "16300 training acc = 1.0 validation acc = 0.13 , loss = 0.0\n",
      "16400 training acc = 1.0 validation acc = 0.13 , loss = 0.0\n",
      "16500 training acc = 1.0 validation acc = 0.13 , loss = 0.0\n",
      "16600 training acc = 1.0 validation acc = 0.314 , loss = 0.0\n",
      "16700 training acc = 1.0 validation acc = 0.314 , loss = 0.0\n",
      "16800 training acc = 1.0 validation acc = 0.314 , loss = 0.0\n",
      "16900 training acc = 1.0 validation acc = 0.314 , loss = 0.0\n",
      "17000 training acc = 1.0 validation acc = 0.314 , loss = 0.0\n",
      "17100 training acc = 1.0 validation acc = 0.314 , loss = 0.0\n",
      "17200 training acc = 1.0 validation acc = 0.314 , loss = 0.0\n",
      "17300 training acc = 1.0 validation acc = 0.314 , loss = 0.0\n",
      "17400 training acc = 1.0 validation acc = 0.314 , loss = 0.0\n",
      "17500 training acc = 1.0 validation acc = 0.314 , loss = 0.0\n",
      "17600 training acc = 1.0 validation acc = 0.162 , loss = 0.0\n",
      "17700 training acc = 1.0 validation acc = 0.162 , loss = 0.0\n",
      "17800 training acc = 1.0 validation acc = 0.162 , loss = 0.0\n",
      "17900 training acc = 1.0 validation acc = 0.162 , loss = 0.0\n",
      "18000 training acc = 1.0 validation acc = 0.162 , loss = 0.0\n",
      "18100 training acc = 1.0 validation acc = 0.162 , loss = 0.0\n",
      "18200 training acc = 1.0 validation acc = 0.162 , loss = 0.0\n",
      "18300 training acc = 1.0 validation acc = 0.162 , loss = 0.0\n",
      "18400 training acc = 1.0 validation acc = 0.162 , loss = 0.0\n",
      "18500 training acc = 1.0 validation acc = 0.16 , loss = 0.0\n",
      "18600 training acc = 1.0 validation acc = 0.162 , loss = 0.0\n",
      "18700 training acc = 1.0 validation acc = 0.162 , loss = 0.0\n",
      "18800 training acc = 1.0 validation acc = 0.162 , loss = 0.0\n",
      "18900 training acc = 1.0 validation acc = 0.162 , loss = 0.0\n",
      "19000 training acc = 1.0 validation acc = 0.162 , loss = 0.0\n",
      "19100 training acc = 1.0 validation acc = 0.162 , loss = 0.0\n",
      "19200 training acc = 1.0 validation acc = 0.162 , loss = 0.0\n",
      "19300 training acc = 1.0 validation acc = 0.162 , loss = 0.0\n",
      "19400 training acc = 1.0 validation acc = 0.162 , loss = 0.0\n",
      "19500 training acc = 1.0 validation acc = 0.162 , loss = 0.0\n",
      "19600 training acc = 1.0 validation acc = 0.162 , loss = 0.0\n",
      "19700 training acc = 1.0 validation acc = 0.162 , loss = 0.0\n",
      "19800 training acc = 1.0 validation acc = 0.162 , loss = 0.0\n",
      "19900 training acc = 1.0 validation acc = 0.162 , loss = 0.0\n"
     ]
    }
   ],
   "source": [
    "# record accuracy\n",
    "train_acc = np.zeros(NUMEPOCHS)\n",
    "val_acc = np.zeros(NUMEPOCHS)\n",
    "test_acc = np.zeros(NUMEPOCHS)\n",
    "\n",
    "# training start\n",
    "model.train()\n",
    "\n",
    "for epoch in range(NUMEPOCHS):\n",
    "    optimizer.zero_grad()\n",
    "    out = model(data)\n",
    "    loss = F.nll_loss(out[data.train_mask], data.y[data.train_mask])\n",
    "    \n",
    "    loss.backward()\n",
    "    optimizer.step()\n",
    "    \n",
    "    # record the accuracy\n",
    "    train_acc[epoch] = accuracy(model, data, 'train')\n",
    "    val_acc[epoch] = accuracy(model, data, 'val')\n",
    "    test_acc[epoch] = accuracy(model, data, 'test')\n",
    "    \n",
    "    # early stopping\n",
    "    if epoch > 2 * early_stop_win_size:\n",
    "        prev_start = epoch - 2 * early_stop_win_size\n",
    "        prev_end = epoch - early_stop_win_size\n",
    "        current_start = epoch - early_stop_win_size\n",
    "        current_end = epoch\n",
    "        \n",
    "        val_acc_current = np.mean(val_acc[current_start: current_end])\n",
    "        val_acc_previous = np.mean(val_acc[prev_start: prev_end])\n",
    "        \n",
    "        if val_acc_current < val_acc_previous - tolerance:\n",
    "            train_acc = train_acc[:epoch]\n",
    "            val_acc = val_acc[:epoch]\n",
    "            test_acc = test_acc[:epoch]\n",
    "            print('Moving Average Early stopping at %d-th epoch' % epoch)\n",
    "            print(\n",
    "                'Previous validation average accuracy for %d-th to %d-th epoch: %f' % \\\n",
    "                (prev_start, prev_end, val_acc_previous)\n",
    "            )\n",
    "            print(\n",
    "                'Current validation average accuracy for %d-th to %d-th epoch: %f' % \\\n",
    "                (current_start, current_end, val_acc_current)\n",
    "            )\n",
    "            break\n",
    "    if epoch % 100 == 0:\n",
    "        print(\n",
    "            epoch, \n",
    "            'training acc =', train_acc[epoch], \n",
    "            'validation acc =', val_acc[epoch], \n",
    "            ', loss =', loss.item()\n",
    "        )"
   ]
  },
  {
   "cell_type": "code",
   "execution_count": 17,
   "metadata": {},
   "outputs": [],
   "source": [
    "# get the initial injection\n",
    "injection_final = F.relu(model.injection.detach()).cpu().numpy()"
   ]
  },
  {
   "cell_type": "code",
   "execution_count": 18,
   "metadata": {},
   "outputs": [
    {
     "name": "stdout",
     "output_type": "stream",
     "text": [
      "Initial injection = \n",
      " [[0.01 0.01 0.01 ... 0.01 0.01 0.01]\n",
      " [0.01 0.01 0.01 ... 0.01 0.01 0.01]\n",
      " [0.01 0.01 0.01 ... 0.01 0.01 0.01]\n",
      " ...\n",
      " [0.01 0.01 0.01 ... 0.01 0.01 0.01]\n",
      " [0.01 0.01 0.01 ... 0.01 0.01 0.01]\n",
      " [0.01 0.01 0.01 ... 0.01 0.01 0.01]]\n",
      "\n",
      "Sum inital = 73333\n",
      "\n",
      "Final injection = \n",
      " [[0. 0. 0. ... 0. 0. 0.]\n",
      " [0. 0. 0. ... 0. 0. 0.]\n",
      " [0. 0. 0. ... 0. 0. 0.]\n",
      " ...\n",
      " [0. 0. 0. ... 0. 0. 0.]\n",
      " [0. 0. 0. ... 0. 0. 0.]\n",
      " [0. 0. 0. ... 0. 0. 0.]]\n",
      "\n",
      "Sum final = 212\n",
      "\n"
     ]
    }
   ],
   "source": [
    "print('Initial injection = \\n', injection_init)\n",
    "print('\\nSum inital = %d\\n' % np.sum(injection_init))\n",
    "print('Final injection = \\n', injection_final)\n",
    "print('\\nSum final = %d\\n' % np.sum(injection_final))"
   ]
  },
  {
   "cell_type": "code",
   "execution_count": 8,
   "metadata": {},
   "outputs": [
    {
     "data": {
      "image/png": "[encoded data removed]",
      "text/plain": [
       "<Figure size 432x288 with 1 Axes>"
      ]
     },
     "metadata": {
      "needs_background": "light"
     },
     "output_type": "display_data"
    }
   ],
   "source": [
    "df_acc = pd.DataFrame({\n",
    "    'train': train_acc,\n",
    "    'validation': val_acc,\n",
    "    'test': test_acc\n",
    "})\n",
    "\n",
    "sns.lineplot(data=df_acc)\n",
    "plt.show()"
   ]
  },
  {
   "cell_type": "code",
   "execution_count": 9,
   "metadata": {},
   "outputs": [],
   "source": [
    "spio.savemat('../variables/' + name + '/SAGEConv.mat',{\n",
    "    'train': train_acc,\n",
    "    'validation': val_acc,\n",
    "    'test': test_acc\n",
    "})"
   ]
  },
  {
   "cell_type": "code",
   "execution_count": 10,
   "metadata": {},
   "outputs": [
    {
     "name": "stdout",
     "output_type": "stream",
     "text": [
      "Train Accuracy: 1.0000\n",
      "Validation Accuracy: 0.1620\n",
      "Test Accuracy: 0.1490\n"
     ]
    }
   ],
   "source": [
    "print('Train Accuracy: {:.4f}'.format(accuracy(model, data, 'train')))\n",
    "print('Validation Accuracy: {:.4f}'.format(accuracy(model, data, 'val')))\n",
    "print('Test Accuracy: {:.4f}'.format(accuracy(model, data, 'test')))"
   ]
  },
  {
   "cell_type": "code",
   "execution_count": 11,
   "metadata": {},
   "outputs": [
    {
     "name": "stdout",
     "output_type": "stream",
     "text": [
      "Test AUC: 0.5000\n"
     ]
    }
   ],
   "source": [
    "print('Test AUC: {:.4f}'.format(areaundercurve(model, data, 'test')))"
   ]
  },
  {
   "cell_type": "code",
   "execution_count": 19,
   "metadata": {},
   "outputs": [
    {
     "name": "stdout",
     "output_type": "stream",
     "text": [
      "0.2826\n",
      "0.4994\n",
      "0.06690171896147362\n",
      "0.0011247221879201888\n"
     ]
    }
   ],
   "source": [
    "# 0% links\n",
    "test_acc_all = np.array([0.3190, 0.3170, 0.3190, 0.3090, 0.1490])\n",
    "test_auc_all = np.array([0.5000, 0.4997, 0.5004, 0.4975])\n",
    "\n",
    "print(np.mean(test_acc_all))\n",
    "print(np.mean(test_auc_all))\n",
    "\n",
    "print(np.std(test_acc_all))\n",
    "print(np.std(test_auc_all))"
   ]
  },
  {
   "cell_type": "code",
   "execution_count": 13,
   "metadata": {},
   "outputs": [
    {
     "name": "stdout",
     "output_type": "stream",
     "text": [
      "[[ 909 2231]\n",
      " [ 232 2231]\n",
      " [1659 2231]\n",
      " ...\n",
      " [2144  968]\n",
      " [ 382 1238]\n",
      " [ 295  437]]\n",
      "[1.0020143e+00 1.0020120e+00 1.0019733e+00 ... 3.0884179e-13 3.0884179e-13\n",
      " 3.0880010e-13]\n",
      "(10556, 2)\n",
      "(10556,)\n"
     ]
    },
    {
     "data": {
      "image/png": "[encoded data removed]",
      "text/plain": [
       "<Figure size 432x288 with 1 Axes>"
      ]
     },
     "metadata": {
      "needs_background": "light"
     },
     "output_type": "display_data"
    }
   ],
   "source": [
    "# get non-zero injected links\n",
    "indexes = injection_final.nonzero()\n",
    "index_arr = np.stack(indexes)\n",
    "values = injection_final[indexes]\n",
    "\n",
    "# sort injected links\n",
    "sorted_idx = np.flip(np.argsort(values))\n",
    "\n",
    "sorted_index = index_arr[:, sorted_idx]\n",
    "sorted_values = values[sorted_idx]\n",
    "\n",
    "# get the largest N out\n",
    "num_edges = data.edge_index.size(1)\n",
    "pred_index = sorted_index[:, :num_edges].T\n",
    "pred_values = sorted_values[:num_edges]\n",
    "print(pred_index)\n",
    "print(pred_values)\n",
    "print(pred_index.shape)\n",
    "print(pred_values.shape)\n",
    "\n",
    "sns.distplot(pred_values, hist=False)\n",
    "plt.show()"
   ]
  },
  {
   "cell_type": "code",
   "execution_count": 14,
   "metadata": {},
   "outputs": [],
   "source": [
    "true_index = data.edge_index.cpu().numpy().T\n",
    "\n",
    "start = true_index[:, 0]\n",
    "\n",
    "unq_val, unq_idx = np.unique(start, return_index=True)\n",
    "start_dict = dict(zip(unq_val, unq_idx))"
   ]
  },
  {
   "cell_type": "code",
   "execution_count": 15,
   "metadata": {},
   "outputs": [
    {
     "name": "stdout",
     "output_type": "stream",
     "text": [
      "47 1548 [ 379 1022] [ 379 1022]\n",
      "1733 8587 [2077 1020] [2077 1020]\n",
      "1734 8590 [2077 2076] [2077 2076]\n",
      "1772 9811 [2399 1443] [2399 1443]\n",
      "1879 8586 [2077  486] [2077  486]\n",
      "2602 986 [ 238 1828] [ 238 1828]\n",
      "2817 8074 [1973  504] [1973  504]\n",
      "3719 4443 [1135 2518] [1135 2518]\n",
      "4497 8790 [2126 2125] [2126 2125]\n",
      "4614 8049 [1966 1569] [1966 1569]\n",
      "5358 4441 [1135 1257] [1135 1257]\n",
      "5682 6959 [1732   88] [1732   88]\n",
      "5687 4219 [1083 1450] [1083 1450]\n",
      "6079 6068 [1532   39] [1532   39]\n",
      "6099 3251 [815  88] [815  88]\n",
      "6906 5231 [1349   39] [1349   39]\n",
      "7077 3692 [950 437] [950 437]\n",
      "7554 4227 [1086 1124] [1086 1124]\n"
     ]
    }
   ],
   "source": [
    "correct_list = []\n",
    "for i in range(len(pred_index)):\n",
    "    pred = pred_index[i]\n",
    "    if pred[0] in start_dict:\n",
    "        begin = start_dict[pred[0]]\n",
    "        if pred[0] + 1 in start_dict:\n",
    "            end = start_dict[pred[0] + 1]\n",
    "        else:\n",
    "            end = len(true_index)\n",
    "    for j in range(begin, end):\n",
    "        true = true_index[j]\n",
    "        if np.array_equal(pred, true):\n",
    "            print(i, j, pred, true)\n",
    "            correct_list.append((i, pred))\n",
    "            break"
   ]
  },
  {
   "cell_type": "code",
   "execution_count": 21,
   "metadata": {},
   "outputs": [
    {
     "name": "stdout",
     "output_type": "stream",
     "text": [
      "hit rate = 0.0017051913603637742\n",
      "average hit rate = 0.1516 %\n",
      "number of top-scored predictions = 10556\n",
      "number of edges in the graph = 10556\n",
      "p = 8.974313504503885e-09\n",
      "significance = 190008.0\n"
     ]
    }
   ],
   "source": [
    "hit_rates = np.array([0.001610458507010231, 0.001610458507010231, 0.0011367942402425162, 0.0017051913603637742, ])\n",
    "\n",
    "hit_rate = len(correct_list) / num_edges\n",
    "print('hits =', len(correct_list))\n",
    "print('hit rate =', hit_rate)\n",
    "print('average hit rate = %.4f %%' % (np.mean(hit_rates) * 100))\n",
    "print('number of top-scored predictions =', len(pred_index))\n",
    "print('number of edges in the graph =', len(true_index))\n",
    "num_options = len(true_index) ** 2\n",
    "print('p =', 1 / num_options)\n",
    "print('significance =', hit_rate * num_options)"
   ]
  },
  {
   "cell_type": "code",
   "execution_count": 28,
   "metadata": {},
   "outputs": [
    {
     "name": "stdout",
     "output_type": "stream",
     "text": [
      "MR = 4214.222222222223\n",
      "MR Ratio = 0.6007747042229801\n"
     ]
    }
   ],
   "source": [
    "MR = np.mean(np.array([item[0] for item in correct_list]))\n",
    "print('MR =', MR)\n",
    "print('MR Ratio =', 1 - MR / num_edges)"
   ]
  }
 ],
 "metadata": {
  "kernelspec": {
   "display_name": "Python 3",
   "language": "python",
   "name": "python3"
  },
  "language_info": {
   "codemirror_mode": {
    "name": "ipython",
    "version": 3
   },
   "file_extension": ".py",
   "mimetype": "text/x-python",
   "name": "python",
   "nbconvert_exporter": "python",
   "pygments_lexer": "ipython3",
   "version": "3.6.7"
  }
 },
 "nbformat": 4,
 "nbformat_minor": 2
}
