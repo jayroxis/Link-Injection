{
 "cells": [
  {
   "cell_type": "code",
   "execution_count": 1,
   "metadata": {},
   "outputs": [
    {
     "name": "stdout",
     "output_type": "stream",
     "text": [
      "Using matplotlib backend: agg\n"
     ]
    }
   ],
   "source": [
    "%matplotlib\n",
    "import torch\n",
    "import torch.nn.functional as F\n",
    "\n",
    "import torch_geometric\n",
    "from torch_geometric.datasets import Planetoid\n",
    "from torch_geometric.utils import to_dense_adj, add_self_loops\n",
    "\n",
    "import matplotlib.pyplot as plt\n",
    "import numpy as np\n",
    "import pandas as pd\n",
    "import seaborn as sns\n",
    "import scipy.io as spio\n",
    "\n",
    "import os\n",
    "os.chdir(\"../\")\n",
    "\n",
    "import sys\n",
    "sys.path.append('../scripts')\n",
    "\n",
    "# loading scripts from here\n",
    "from evaluation import accuracy\n",
    "from evaluation import areaundercurve\n",
    "from evaluation import average_precision_score_computation\n",
    "\n",
    "\"\"\"\n",
    "This is an implementation from:\n",
    "https://github.com/tkipf/pygcn/blob/master/pygcn/layers.py\n",
    "\n",
    "Author: Thomas kipf\n",
    "Paper: \n",
    "Semi-Supervised Classification with Graph Convolutional Networks\n",
    "https://arxiv.org/abs/1609.02907\n",
    "\"\"\"\n",
    "\n",
    "from GCNConv import GraphConvolution"
   ]
  },
  {
   "cell_type": "code",
   "execution_count": 2,
   "metadata": {},
   "outputs": [],
   "source": [
    "\"\"\"\n",
    "This is an implementation from:\n",
    "https://github.com/tkipf/pygcn/blob/master/pygcn/models.py\n",
    "\n",
    "Model and training settings are from:\n",
    "https://github.com/tkipf/pygcn/blob/master/pygcn/train.py\n",
    "which is the same as reported from the paper.\n",
    "\n",
    "Author: Thomas kipf\n",
    "\"\"\"\n",
    "class Net(torch.nn.Module):\n",
    "    def __init__(self, in_channel, out_channel, data):\n",
    "        super(Net, self).__init__()\n",
    "\n",
    "        self.gc1 = GraphConvolution(in_channel, 16)\n",
    "        self.gc2 = GraphConvolution(16, out_channel)\n",
    "        \n",
    "        injection = torch.ones_like(data.adj) * 0.01\n",
    "        injection = torch.abs(injection)\n",
    "        self.injection = torch.nn.Parameter(\n",
    "            injection, \n",
    "            requires_grad=True\n",
    "        )\n",
    "\n",
    "    def forward(self, data):\n",
    "        x, adj = data.x, data.adj\n",
    "        \n",
    "        # link injection\n",
    "#         injection = F.relu(self.injection)\n",
    "        injection = F.leaky_relu(self.injection)\n",
    "        adj = adj + injection\n",
    "        adj = torch.clamp(adj, 0, 1)\n",
    "        \n",
    "        # forward passing\n",
    "        x = F.relu(self.gc1(x, adj))\n",
    "        x = F.dropout(x, p=0.5, training=self.training)\n",
    "        x = self.gc2(x, adj)\n",
    "        return F.log_softmax(x, dim=1)"
   ]
  },
  {
   "cell_type": "code",
   "execution_count": 3,
   "metadata": {},
   "outputs": [],
   "source": [
    "from tqdm import tqdm\n",
    "\n",
    "NUMEPOCHS = 10000\n",
    "early_stop_win_size = 100\n",
    "earliest_stop = 5000\n",
    "tolerance = 1.00\n",
    "\n",
    "device = torch.device('cuda' if torch.cuda.is_available() else 'cpu')\n",
    "\n",
    "# load data\n",
    "name = 'Cora'\n",
    "dataset = Planetoid('../datasets/'+ name, name=name)\n",
    "\n",
    "in_dim = dataset.num_node_features\n",
    "out_dim = dataset.num_classes\n",
    "\n",
    "data = dataset.data\n",
    "# data.adj = to_dense_adj(add_self_loops(data.edge_index)[0])[0]\n",
    "data.adj = torch.zeros(data.x.size(0), data.x.size(0))\n",
    "data = dataset.data.to(device)\n",
    "\n",
    "# compile model\n",
    "model = Net(\n",
    "    in_dim,\n",
    "    out_dim,\n",
    "    data\n",
    ").to(device)\n",
    "\n",
    "# optimizer = torch.optim.Adam(model.parameters(), weight_decay=5e-4, lr=0.01)\n",
    "optimizer = torch.optim.Adamax(model.parameters(), weight_decay=1e-8)"
   ]
  },
  {
   "cell_type": "code",
   "execution_count": 4,
   "metadata": {},
   "outputs": [],
   "source": [
    "# get the initial injection\n",
    "injection_init = model.injection.detach().cpu().numpy()"
   ]
  },
  {
   "cell_type": "code",
   "execution_count": 19,
   "metadata": {},
   "outputs": [
    {
     "name": "stdout",
     "output_type": "stream",
     "text": [
      "0 training acc = 0.9785714285714285 validation acc = 0.292 , loss = 3.9897618293762207\n",
      "1000 training acc = 1.0 validation acc = 0.058 , loss = 0.0\n",
      "2000 training acc = 1.0 validation acc = 0.058 , loss = 0.0\n",
      "3000 training acc = 1.0 validation acc = 0.058 , loss = 0.0\n",
      "4000 training acc = 1.0 validation acc = 0.058 , loss = 0.0\n",
      "5000 training acc = 1.0 validation acc = 0.058 , loss = 0.0\n",
      "6000 training acc = 1.0 validation acc = 0.058 , loss = 0.0\n",
      "7000 training acc = 1.0 validation acc = 0.058 , loss = 0.0\n",
      "8000 training acc = 1.0 validation acc = 0.058 , loss = 0.0\n",
      "9000 training acc = 1.0 validation acc = 0.058 , loss = 0.0\n"
     ]
    }
   ],
   "source": [
    "# record accuracy\n",
    "train_acc = np.zeros(NUMEPOCHS)\n",
    "val_acc = np.zeros(NUMEPOCHS)\n",
    "test_acc = np.zeros(NUMEPOCHS)\n",
    "\n",
    "# training start\n",
    "model.train()\n",
    "\n",
    "for epoch in range(NUMEPOCHS):\n",
    "    optimizer.zero_grad()\n",
    "    out = model(data)\n",
    "    loss = F.nll_loss(out[data.train_mask], data.y[data.train_mask])\n",
    "    \n",
    "    loss.backward()\n",
    "    optimizer.step()\n",
    "    \n",
    "    # record the accuracy\n",
    "    train_acc[epoch] = accuracy(model, data, 'train')\n",
    "    val_acc[epoch] = accuracy(model, data, 'val')\n",
    "    test_acc[epoch] = accuracy(model, data, 'test')\n",
    "    \n",
    "    # early stopping\n",
    "    if epoch > max(2 * early_stop_win_size, earliest_stop):\n",
    "#         prev_start = epoch - 2 * early_stop_win_size\n",
    "#         prev_end = epoch - early_stop_win_size\n",
    "        current_start = epoch - early_stop_win_size\n",
    "        current_end = epoch\n",
    "        \n",
    "        val_acc_current = np.mean(val_acc[current_start: current_end])\n",
    "#         val_acc_previous = np.mean(val_acc[prev_start: prev_end])\n",
    "        \n",
    "#         if val_acc_current < val_acc_previous - tolerance:\n",
    "        if val_acc_current < np.max(val_acc) - tolerance:\n",
    "            train_acc = train_acc[:epoch]\n",
    "            val_acc = val_acc[:epoch]\n",
    "            test_acc = test_acc[:epoch]\n",
    "            print('Moving Average Early stopping at %d-th epoch' % epoch)\n",
    "            print(\n",
    "                'Previous validation average accuracy for %d-th to %d-th epoch: %f' % \\\n",
    "                (prev_start, prev_end, val_acc_previous)\n",
    "            )\n",
    "            print(\n",
    "                'Current validation average accuracy for %d-th to %d-th epoch: %f' % \\\n",
    "                (current_start, current_end, val_acc_current)\n",
    "            )\n",
    "            break\n",
    "    if epoch % 1000 == 0:\n",
    "        print(\n",
    "            epoch, \n",
    "            'training acc =', train_acc[epoch], \n",
    "            'validation acc =', val_acc[epoch], \n",
    "            ', loss =', loss.item()\n",
    "        )"
   ]
  },
  {
   "cell_type": "code",
   "execution_count": 6,
   "metadata": {},
   "outputs": [],
   "source": [
    "# get the initial injection\n",
    "injection_final = F.relu(model.injection.detach()).cpu().numpy()"
   ]
  },
  {
   "cell_type": "code",
   "execution_count": 7,
   "metadata": {},
   "outputs": [
    {
     "name": "stdout",
     "output_type": "stream",
     "text": [
      "Initial injection = \n",
      " [[0.01 0.01 0.01 ... 0.01 0.01 0.01]\n",
      " [0.01 0.01 0.01 ... 0.01 0.01 0.01]\n",
      " [0.01 0.01 0.01 ... 0.01 0.01 0.01]\n",
      " ...\n",
      " [0.01 0.01 0.01 ... 0.01 0.01 0.01]\n",
      " [0.01 0.01 0.01 ... 0.01 0.01 0.01]\n",
      " [0.01 0.01 0.01 ... 0.01 0.01 0.01]]\n",
      "\n",
      "Sum inital = 73333\n",
      "\n",
      "Final injection = \n",
      " [[0.00306438 0.         0.         ... 0.0059259  0.00601154 0.00525029]\n",
      " [0.00259529 0.         0.         ... 0.         0.00721286 0.        ]\n",
      " [0.00277693 0.         0.         ... 0.         0.00698741 0.        ]\n",
      " ...\n",
      " [0.         0.00393558 0.         ... 0.00532635 0.00382982 0.00806108]\n",
      " [0.00076833 0.00022553 0.         ... 0.         0.00270252 0.00268499]\n",
      " [0.01141115 0.00378287 0.         ... 0.00501925 0.00549314 0.00904689]]\n",
      "\n",
      "Sum final = 60280\n",
      "\n"
     ]
    }
   ],
   "source": [
    "print('Initial injection = \\n', injection_init)\n",
    "print('\\nSum inital = %d\\n' % np.sum(injection_init))\n",
    "print('Final injection = \\n', injection_final)\n",
    "print('\\nSum final = %d\\n' % np.sum(injection_final))"
   ]
  },
  {
   "cell_type": "code",
   "execution_count": 8,
   "metadata": {},
   "outputs": [
    {
     "data": {
      "image/png": "[encoded data removed]",
      "text/plain": [
       "<Figure size 432x288 with 1 Axes>"
      ]
     },
     "metadata": {
      "needs_background": "light"
     },
     "output_type": "display_data"
    }
   ],
   "source": [
    "df_acc = pd.DataFrame({\n",
    "    'train': train_acc,\n",
    "    'validation': val_acc,\n",
    "    'test': test_acc\n",
    "})\n",
    "\n",
    "sns.lineplot(data=df_acc)\n",
    "plt.show()"
   ]
  },
  {
   "cell_type": "code",
   "execution_count": null,
   "metadata": {},
   "outputs": [],
   "source": [
    "spio.savemat('../variables/CiteSeer/SAGEConv.mat',{\n",
    "    'train': train_acc,\n",
    "    'validation': val_acc,\n",
    "    'test': test_acc\n",
    "})"
   ]
  },
  {
   "cell_type": "code",
   "execution_count": 9,
   "metadata": {},
   "outputs": [
    {
     "name": "stdout",
     "output_type": "stream",
     "text": [
      "Train Accuracy: 1.0000\n",
      "Validation Accuracy: 0.3160\n",
      "Test Accuracy: 0.3190\n"
     ]
    }
   ],
   "source": [
    "print('Train Accuracy: {:.4f}'.format(accuracy(model, data, 'train')))\n",
    "print('Validation Accuracy: {:.4f}'.format(accuracy(model, data, 'val')))\n",
    "print('Test Accuracy: {:.4f}'.format(accuracy(model, data, 'test')))"
   ]
  },
  {
   "cell_type": "code",
   "execution_count": 10,
   "metadata": {},
   "outputs": [
    {
     "name": "stdout",
     "output_type": "stream",
     "text": [
      "Test AUC: 0.5000\n"
     ]
    }
   ],
   "source": [
    "print('Test AUC: {:.4f}'.format(areaundercurve(model,data,'test')))"
   ]
  },
  {
   "cell_type": "code",
   "execution_count": 11,
   "metadata": {},
   "outputs": [
    {
     "name": "stdout",
     "output_type": "stream",
     "text": [
      "0.316\n",
      "0.4994\n",
      "0.004123105625617665\n",
      "0.0011247221879201888\n"
     ]
    }
   ],
   "source": [
    "# 0% links\n",
    "test_acc_all = np.array([0.3190, 0.3170, 0.3190, 0.3090])\n",
    "test_auc_all = np.array([0.5000, 0.4997, 0.5004, 0.4975])\n",
    "\n",
    "print(np.mean(test_acc_all))\n",
    "print(np.mean(test_auc_all))\n",
    "\n",
    "print(np.std(test_acc_all))\n",
    "print(np.std(test_auc_all))"
   ]
  },
  {
   "cell_type": "code",
   "execution_count": 12,
   "metadata": {},
   "outputs": [
    {
     "name": "stdout",
     "output_type": "stream",
     "text": [
      "[[2619  294]\n",
      " [ 485  294]\n",
      " [ 155  294]\n",
      " ...\n",
      " [1030 1031]\n",
      " [1292 1234]\n",
      " [  35 2000]]\n",
      "[0.22701877 0.22639559 0.22610188 ... 0.05736387 0.05735717 0.05735391]\n",
      "(10556, 2)\n",
      "(10556,)\n"
     ]
    },
    {
     "data": {
      "image/png": "[encoded data removed]",
      "text/plain": [
       "<Figure size 432x288 with 1 Axes>"
      ]
     },
     "metadata": {
      "needs_background": "light"
     },
     "output_type": "display_data"
    }
   ],
   "source": [
    "# get non-zero injected links\n",
    "indexes = injection_final.nonzero()\n",
    "index_arr = np.stack(indexes)\n",
    "values = injection_final[indexes]\n",
    "\n",
    "# sort injected links\n",
    "sorted_idx = np.flip(np.argsort(values))\n",
    "\n",
    "sorted_index = index_arr[:, sorted_idx]\n",
    "sorted_values = values[sorted_idx]\n",
    "\n",
    "# get the largest N out\n",
    "num_edges = data.edge_index.size(1)\n",
    "pred_index = sorted_index[:, :num_edges].T\n",
    "pred_values = sorted_values[:num_edges]\n",
    "print(pred_index)\n",
    "print(pred_values)\n",
    "print(pred_index.shape)\n",
    "print(pred_values.shape)\n",
    "\n",
    "sns.distplot(pred_values, hist=False)\n",
    "plt.show()"
   ]
  },
  {
   "cell_type": "code",
   "execution_count": 14,
   "metadata": {},
   "outputs": [],
   "source": [
    "true_index = data.edge_index.cpu().numpy().T\n",
    "\n",
    "start = true_index[:, 0]\n",
    "\n",
    "unq_val, unq_idx = np.unique(start, return_index=True)\n",
    "start_dict = dict(zip(unq_val, unq_idx))"
   ]
  },
  {
   "cell_type": "code",
   "execution_count": 15,
   "metadata": {},
   "outputs": [
    {
     "name": "stdout",
     "output_type": "stream",
     "text": [
      "273 383 [ 90 155] [ 90 155]\n",
      "1195 6797 [1701 1872] [1701 1872]\n",
      "1238 706 [155  90] [155  90]\n",
      "1988 6731 [1701  143] [1701  143]\n",
      "4042 7197 [1777  426] [1777  426]\n",
      "5475 2871 [ 720 1441] [ 720 1441]\n",
      "5541 1457 [ 354 1803] [ 354 1803]\n",
      "6017 543 [ 118 1507] [ 118 1507]\n",
      "6739 8498 [2054 1602] [2054 1602]\n",
      "7076 10258 [2561 2560] [2561 2560]\n",
      "8087 7256 [1789  426] [1789  426]\n",
      "9161 6752 [1701  664] [1701  664]\n",
      "9296 6442 [1624 1777] [1624 1777]\n",
      "9612 6050 [1528 1361] [1528 1361]\n",
      "10315 7687 [1894 1215] [1894 1215]\n"
     ]
    }
   ],
   "source": [
    "correct_list = []\n",
    "for i in range(len(pred_index)):\n",
    "    pred = pred_index[i]\n",
    "    if pred[0] in start_dict:\n",
    "        begin = start_dict[pred[0]]\n",
    "        if pred[0] + 1 in start_dict:\n",
    "            end = start_dict[pred[0] + 1]\n",
    "        else:\n",
    "            end = len(true_index)\n",
    "    for j in range(begin, end):\n",
    "        true = true_index[j]\n",
    "        if np.array_equal(pred, true):\n",
    "            print(i, j, pred, true)\n",
    "            correct_list.append((i, pred))\n",
    "            break"
   ]
  },
  {
   "cell_type": "code",
   "execution_count": 20,
   "metadata": {},
   "outputs": [
    {
     "name": "stdout",
     "output_type": "stream",
     "text": [
      "hits = 15\n",
      "hit rate = 0.0014209928003031452\n",
      "average hit rate = 0.1421 %\n",
      "number of top-scored predictions = 10556\n",
      "number of edges in the graph = 10556\n",
      "p = 8.974313504503885e-09\n",
      "significance = 158340.0\n"
     ]
    }
   ],
   "source": [
    "hit_rates = np.array([0.0014209928003031452,])\n",
    "\n",
    "hit_rate = len(correct_list) / num_edges\n",
    "print('hits =', len(correct_list))\n",
    "print('hit rate =', hit_rate)\n",
    "print('average hit rate = %.4f %%' % (np.mean(hit_rates) * 100))\n",
    "print('number of top-scored predictions =', len(pred_index))\n",
    "print('number of edges in the graph =', len(true_index))\n",
    "num_options = len(true_index) ** 2\n",
    "print('p =', 1 / num_options)\n",
    "print('significance =', hit_rate * num_options)"
   ]
  },
  {
   "cell_type": "code",
   "execution_count": 17,
   "metadata": {},
   "outputs": [
    {
     "name": "stdout",
     "output_type": "stream",
     "text": [
      "MR = 5737.0\n",
      "MR Ratio = 0.45651762031072374\n"
     ]
    }
   ],
   "source": [
    "MR_list = np.array([5737.0,])\n",
    "\n",
    "MR = np.mean(np.array([item[0] for item in correct_list]))\n",
    "print('MR =', MR)\n",
    "print('MR Ratio =', 1 - MR / num_edges)"
   ]
  }
 ],
 "metadata": {
  "kernelspec": {
   "display_name": "Python 3",
   "language": "python",
   "name": "python3"
  },
  "language_info": {
   "codemirror_mode": {
    "name": "ipython",
    "version": 3
   },
   "file_extension": ".py",
   "mimetype": "text/x-python",
   "name": "python",
   "nbconvert_exporter": "python",
   "pygments_lexer": "ipython3",
   "version": "3.6.7"
  }
 },
 "nbformat": 4,
 "nbformat_minor": 2
}
